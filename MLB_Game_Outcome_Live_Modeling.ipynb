{
 "cells": [
  {
   "cell_type": "markdown",
   "metadata": {},
   "source": [
    "# First, the training\n",
    "**This is the third and final notebook that we run when we use our MLB Game Outcome model.**\n",
    "\n",
    "This is a partial copy of the notebook where we iterated different models. We decided on Logistic Regression. So first we need to train the Logistic Regression model that we created using the training data (model_df), and then we add the live game data (from the Live_Data_Wrangling notebook) so the model can make predictions on the new data."
   ]
  },
  {
   "cell_type": "code",
   "execution_count": 1,
   "metadata": {},
   "outputs": [],
   "source": [
    "import numpy as np\n",
    "import pandas as pd\n",
    "import matplotlib.pyplot as plt \n",
    "import seaborn as sns"
   ]
  },
  {
   "cell_type": "code",
   "execution_count": 2,
   "metadata": {},
   "outputs": [],
   "source": [
    "def clean_unnamed(df):\n",
    "    if 'Unnamed: 0' in df.columns:\n",
    "        df = df.drop(columns = ['Unnamed: 0'])\n",
    "        return df\n",
    "    print(\"Dataframe does not have 'Unnamed: 0' column.\")"
   ]
  },
  {
   "cell_type": "code",
   "execution_count": 3,
   "metadata": {},
   "outputs": [],
   "source": [
    "main_df = pd.read_csv('model_df.csv')"
   ]
  },
  {
   "cell_type": "code",
   "execution_count": 4,
   "metadata": {},
   "outputs": [
    {
     "data": {
      "text/html": [
       "<div>\n",
       "<style scoped>\n",
       "    .dataframe tbody tr th:only-of-type {\n",
       "        vertical-align: middle;\n",
       "    }\n",
       "\n",
       "    .dataframe tbody tr th {\n",
       "        vertical-align: top;\n",
       "    }\n",
       "\n",
       "    .dataframe thead th {\n",
       "        text-align: right;\n",
       "    }\n",
       "</style>\n",
       "<table border=\"1\" class=\"dataframe\">\n",
       "  <thead>\n",
       "    <tr style=\"text-align: right;\">\n",
       "      <th></th>\n",
       "      <th>Unnamed: 0</th>\n",
       "      <th>Park</th>\n",
       "      <th>H_Win_Diff</th>\n",
       "      <th>H_Py_Diff</th>\n",
       "      <th>Home_Win</th>\n",
       "      <th>Run_Diff</th>\n",
       "      <th>W_L10_Diff</th>\n",
       "      <th>W_L30_Diff</th>\n",
       "      <th>BABIP_vs_SP</th>\n",
       "      <th>BABIP_vs_BP</th>\n",
       "      <th>...</th>\n",
       "      <th>OPS_Diff</th>\n",
       "      <th>RS/9_Diff</th>\n",
       "      <th>SIERA_Diff</th>\n",
       "      <th>SIERA_BP_Diff</th>\n",
       "      <th>WAR_Diff</th>\n",
       "      <th>WHIP_Diff</th>\n",
       "      <th>WHIP_BP_Diff</th>\n",
       "      <th>wOBA_Diff</th>\n",
       "      <th>xFIP_Diff</th>\n",
       "      <th>xFIP_BP_Diff</th>\n",
       "    </tr>\n",
       "  </thead>\n",
       "  <tbody>\n",
       "    <tr>\n",
       "      <th>0</th>\n",
       "      <td>0</td>\n",
       "      <td>94</td>\n",
       "      <td>-4.0</td>\n",
       "      <td>-3.0</td>\n",
       "      <td>0</td>\n",
       "      <td>-45.0</td>\n",
       "      <td>-4.0</td>\n",
       "      <td>-4.0</td>\n",
       "      <td>-0.177</td>\n",
       "      <td>-0.040</td>\n",
       "      <td>...</td>\n",
       "      <td>-0.413</td>\n",
       "      <td>-6.35</td>\n",
       "      <td>1.78</td>\n",
       "      <td>0.41</td>\n",
       "      <td>0.0</td>\n",
       "      <td>-0.81</td>\n",
       "      <td>0.22</td>\n",
       "      <td>-0.161</td>\n",
       "      <td>1.77</td>\n",
       "      <td>0.36</td>\n",
       "    </tr>\n",
       "    <tr>\n",
       "      <th>1</th>\n",
       "      <td>1</td>\n",
       "      <td>100</td>\n",
       "      <td>0.0</td>\n",
       "      <td>-1.0</td>\n",
       "      <td>0</td>\n",
       "      <td>-22.0</td>\n",
       "      <td>0.0</td>\n",
       "      <td>0.0</td>\n",
       "      <td>0.097</td>\n",
       "      <td>0.060</td>\n",
       "      <td>...</td>\n",
       "      <td>-0.134</td>\n",
       "      <td>-1.50</td>\n",
       "      <td>-0.44</td>\n",
       "      <td>-0.87</td>\n",
       "      <td>-0.1</td>\n",
       "      <td>0.67</td>\n",
       "      <td>0.12</td>\n",
       "      <td>-0.053</td>\n",
       "      <td>-0.46</td>\n",
       "      <td>-1.50</td>\n",
       "    </tr>\n",
       "    <tr>\n",
       "      <th>2</th>\n",
       "      <td>2</td>\n",
       "      <td>103</td>\n",
       "      <td>3.0</td>\n",
       "      <td>3.0</td>\n",
       "      <td>1</td>\n",
       "      <td>42.0</td>\n",
       "      <td>3.0</td>\n",
       "      <td>3.0</td>\n",
       "      <td>0.257</td>\n",
       "      <td>0.088</td>\n",
       "      <td>...</td>\n",
       "      <td>0.329</td>\n",
       "      <td>-0.90</td>\n",
       "      <td>-0.91</td>\n",
       "      <td>0.53</td>\n",
       "      <td>-0.1</td>\n",
       "      <td>1.67</td>\n",
       "      <td>-0.31</td>\n",
       "      <td>0.127</td>\n",
       "      <td>1.39</td>\n",
       "      <td>0.78</td>\n",
       "    </tr>\n",
       "    <tr>\n",
       "      <th>3</th>\n",
       "      <td>3</td>\n",
       "      <td>104</td>\n",
       "      <td>0.0</td>\n",
       "      <td>0.0</td>\n",
       "      <td>1</td>\n",
       "      <td>9.0</td>\n",
       "      <td>0.0</td>\n",
       "      <td>0.0</td>\n",
       "      <td>0.062</td>\n",
       "      <td>-0.155</td>\n",
       "      <td>...</td>\n",
       "      <td>0.003</td>\n",
       "      <td>-1.59</td>\n",
       "      <td>-0.89</td>\n",
       "      <td>-0.63</td>\n",
       "      <td>0.0</td>\n",
       "      <td>0.23</td>\n",
       "      <td>-0.67</td>\n",
       "      <td>-0.008</td>\n",
       "      <td>-0.71</td>\n",
       "      <td>-1.59</td>\n",
       "    </tr>\n",
       "    <tr>\n",
       "      <th>4</th>\n",
       "      <td>4</td>\n",
       "      <td>102</td>\n",
       "      <td>-2.0</td>\n",
       "      <td>-1.0</td>\n",
       "      <td>1</td>\n",
       "      <td>-11.0</td>\n",
       "      <td>-2.0</td>\n",
       "      <td>-2.0</td>\n",
       "      <td>-0.192</td>\n",
       "      <td>-0.054</td>\n",
       "      <td>...</td>\n",
       "      <td>-0.231</td>\n",
       "      <td>0.00</td>\n",
       "      <td>1.28</td>\n",
       "      <td>1.48</td>\n",
       "      <td>0.1</td>\n",
       "      <td>0.33</td>\n",
       "      <td>0.36</td>\n",
       "      <td>-0.089</td>\n",
       "      <td>1.09</td>\n",
       "      <td>1.36</td>\n",
       "    </tr>\n",
       "  </tbody>\n",
       "</table>\n",
       "<p>5 rows × 26 columns</p>\n",
       "</div>"
      ],
      "text/plain": [
       "   Unnamed: 0  Park  H_Win_Diff  H_Py_Diff  Home_Win  Run_Diff  W_L10_Diff  \\\n",
       "0           0    94        -4.0       -3.0         0     -45.0        -4.0   \n",
       "1           1   100         0.0       -1.0         0     -22.0         0.0   \n",
       "2           2   103         3.0        3.0         1      42.0         3.0   \n",
       "3           3   104         0.0        0.0         1       9.0         0.0   \n",
       "4           4   102        -2.0       -1.0         1     -11.0        -2.0   \n",
       "\n",
       "   W_L30_Diff  BABIP_vs_SP  BABIP_vs_BP  ...  OPS_Diff  RS/9_Diff  SIERA_Diff  \\\n",
       "0        -4.0       -0.177       -0.040  ...    -0.413      -6.35        1.78   \n",
       "1         0.0        0.097        0.060  ...    -0.134      -1.50       -0.44   \n",
       "2         3.0        0.257        0.088  ...     0.329      -0.90       -0.91   \n",
       "3         0.0        0.062       -0.155  ...     0.003      -1.59       -0.89   \n",
       "4        -2.0       -0.192       -0.054  ...    -0.231       0.00        1.28   \n",
       "\n",
       "   SIERA_BP_Diff  WAR_Diff  WHIP_Diff  WHIP_BP_Diff  wOBA_Diff  xFIP_Diff  \\\n",
       "0           0.41       0.0      -0.81          0.22     -0.161       1.77   \n",
       "1          -0.87      -0.1       0.67          0.12     -0.053      -0.46   \n",
       "2           0.53      -0.1       1.67         -0.31      0.127       1.39   \n",
       "3          -0.63       0.0       0.23         -0.67     -0.008      -0.71   \n",
       "4           1.48       0.1       0.33          0.36     -0.089       1.09   \n",
       "\n",
       "   xFIP_BP_Diff  \n",
       "0          0.36  \n",
       "1         -1.50  \n",
       "2          0.78  \n",
       "3         -1.59  \n",
       "4          1.36  \n",
       "\n",
       "[5 rows x 26 columns]"
      ]
     },
     "execution_count": 4,
     "metadata": {},
     "output_type": "execute_result"
    }
   ],
   "source": [
    "main_df.head()"
   ]
  },
  {
   "cell_type": "code",
   "execution_count": 5,
   "metadata": {},
   "outputs": [],
   "source": [
    "main_df = clean_unnamed(main_df)"
   ]
  },
  {
   "cell_type": "code",
   "execution_count": 6,
   "metadata": {},
   "outputs": [
    {
     "data": {
      "text/html": [
       "<div>\n",
       "<style scoped>\n",
       "    .dataframe tbody tr th:only-of-type {\n",
       "        vertical-align: middle;\n",
       "    }\n",
       "\n",
       "    .dataframe tbody tr th {\n",
       "        vertical-align: top;\n",
       "    }\n",
       "\n",
       "    .dataframe thead th {\n",
       "        text-align: right;\n",
       "    }\n",
       "</style>\n",
       "<table border=\"1\" class=\"dataframe\">\n",
       "  <thead>\n",
       "    <tr style=\"text-align: right;\">\n",
       "      <th></th>\n",
       "      <th>0</th>\n",
       "      <th>1</th>\n",
       "      <th>2</th>\n",
       "      <th>3</th>\n",
       "      <th>4</th>\n",
       "    </tr>\n",
       "  </thead>\n",
       "  <tbody>\n",
       "    <tr>\n",
       "      <th>Park</th>\n",
       "      <td>94.000</td>\n",
       "      <td>100.000</td>\n",
       "      <td>103.000</td>\n",
       "      <td>104.000</td>\n",
       "      <td>102.000</td>\n",
       "    </tr>\n",
       "    <tr>\n",
       "      <th>H_Win_Diff</th>\n",
       "      <td>-4.000</td>\n",
       "      <td>0.000</td>\n",
       "      <td>3.000</td>\n",
       "      <td>0.000</td>\n",
       "      <td>-2.000</td>\n",
       "    </tr>\n",
       "    <tr>\n",
       "      <th>H_Py_Diff</th>\n",
       "      <td>-3.000</td>\n",
       "      <td>-1.000</td>\n",
       "      <td>3.000</td>\n",
       "      <td>0.000</td>\n",
       "      <td>-1.000</td>\n",
       "    </tr>\n",
       "    <tr>\n",
       "      <th>Home_Win</th>\n",
       "      <td>0.000</td>\n",
       "      <td>0.000</td>\n",
       "      <td>1.000</td>\n",
       "      <td>1.000</td>\n",
       "      <td>1.000</td>\n",
       "    </tr>\n",
       "    <tr>\n",
       "      <th>Run_Diff</th>\n",
       "      <td>-45.000</td>\n",
       "      <td>-22.000</td>\n",
       "      <td>42.000</td>\n",
       "      <td>9.000</td>\n",
       "      <td>-11.000</td>\n",
       "    </tr>\n",
       "    <tr>\n",
       "      <th>W_L10_Diff</th>\n",
       "      <td>-4.000</td>\n",
       "      <td>0.000</td>\n",
       "      <td>3.000</td>\n",
       "      <td>0.000</td>\n",
       "      <td>-2.000</td>\n",
       "    </tr>\n",
       "    <tr>\n",
       "      <th>W_L30_Diff</th>\n",
       "      <td>-4.000</td>\n",
       "      <td>0.000</td>\n",
       "      <td>3.000</td>\n",
       "      <td>0.000</td>\n",
       "      <td>-2.000</td>\n",
       "    </tr>\n",
       "    <tr>\n",
       "      <th>BABIP_vs_SP</th>\n",
       "      <td>-0.177</td>\n",
       "      <td>0.097</td>\n",
       "      <td>0.257</td>\n",
       "      <td>0.062</td>\n",
       "      <td>-0.192</td>\n",
       "    </tr>\n",
       "    <tr>\n",
       "      <th>BABIP_vs_BP</th>\n",
       "      <td>-0.040</td>\n",
       "      <td>0.060</td>\n",
       "      <td>0.088</td>\n",
       "      <td>-0.155</td>\n",
       "      <td>-0.054</td>\n",
       "    </tr>\n",
       "    <tr>\n",
       "      <th>BABIP_SP_vs_Hit</th>\n",
       "      <td>-0.160</td>\n",
       "      <td>-0.046</td>\n",
       "      <td>0.169</td>\n",
       "      <td>0.022</td>\n",
       "      <td>0.017</td>\n",
       "    </tr>\n",
       "    <tr>\n",
       "      <th>BABIP_BP_vs_Hit</th>\n",
       "      <td>-0.098</td>\n",
       "      <td>-0.057</td>\n",
       "      <td>-0.080</td>\n",
       "      <td>0.104</td>\n",
       "      <td>-0.074</td>\n",
       "    </tr>\n",
       "    <tr>\n",
       "      <th>Avg_Outs_Diff</th>\n",
       "      <td>-2.000</td>\n",
       "      <td>0.000</td>\n",
       "      <td>1.000</td>\n",
       "      <td>-2.000</td>\n",
       "      <td>2.520</td>\n",
       "    </tr>\n",
       "    <tr>\n",
       "      <th>FIP_Diff</th>\n",
       "      <td>0.740</td>\n",
       "      <td>2.000</td>\n",
       "      <td>4.930</td>\n",
       "      <td>0.120</td>\n",
       "      <td>2.670</td>\n",
       "    </tr>\n",
       "    <tr>\n",
       "      <th>FIP_BP_Diff</th>\n",
       "      <td>-0.630</td>\n",
       "      <td>-0.330</td>\n",
       "      <td>1.330</td>\n",
       "      <td>-2.240</td>\n",
       "      <td>0.200</td>\n",
       "    </tr>\n",
       "    <tr>\n",
       "      <th>ISO_Diff</th>\n",
       "      <td>-0.089</td>\n",
       "      <td>-0.039</td>\n",
       "      <td>0.093</td>\n",
       "      <td>-0.003</td>\n",
       "      <td>-0.049</td>\n",
       "    </tr>\n",
       "    <tr>\n",
       "      <th>OPS_Diff</th>\n",
       "      <td>-0.413</td>\n",
       "      <td>-0.134</td>\n",
       "      <td>0.329</td>\n",
       "      <td>0.003</td>\n",
       "      <td>-0.231</td>\n",
       "    </tr>\n",
       "    <tr>\n",
       "      <th>RS/9_Diff</th>\n",
       "      <td>-6.350</td>\n",
       "      <td>-1.500</td>\n",
       "      <td>-0.900</td>\n",
       "      <td>-1.590</td>\n",
       "      <td>0.000</td>\n",
       "    </tr>\n",
       "    <tr>\n",
       "      <th>SIERA_Diff</th>\n",
       "      <td>1.780</td>\n",
       "      <td>-0.440</td>\n",
       "      <td>-0.910</td>\n",
       "      <td>-0.890</td>\n",
       "      <td>1.280</td>\n",
       "    </tr>\n",
       "    <tr>\n",
       "      <th>SIERA_BP_Diff</th>\n",
       "      <td>0.410</td>\n",
       "      <td>-0.870</td>\n",
       "      <td>0.530</td>\n",
       "      <td>-0.630</td>\n",
       "      <td>1.480</td>\n",
       "    </tr>\n",
       "    <tr>\n",
       "      <th>WAR_Diff</th>\n",
       "      <td>0.000</td>\n",
       "      <td>-0.100</td>\n",
       "      <td>-0.100</td>\n",
       "      <td>0.000</td>\n",
       "      <td>0.100</td>\n",
       "    </tr>\n",
       "    <tr>\n",
       "      <th>WHIP_Diff</th>\n",
       "      <td>-0.810</td>\n",
       "      <td>0.670</td>\n",
       "      <td>1.670</td>\n",
       "      <td>0.230</td>\n",
       "      <td>0.330</td>\n",
       "    </tr>\n",
       "    <tr>\n",
       "      <th>WHIP_BP_Diff</th>\n",
       "      <td>0.220</td>\n",
       "      <td>0.120</td>\n",
       "      <td>-0.310</td>\n",
       "      <td>-0.670</td>\n",
       "      <td>0.360</td>\n",
       "    </tr>\n",
       "    <tr>\n",
       "      <th>wOBA_Diff</th>\n",
       "      <td>-0.161</td>\n",
       "      <td>-0.053</td>\n",
       "      <td>0.127</td>\n",
       "      <td>-0.008</td>\n",
       "      <td>-0.089</td>\n",
       "    </tr>\n",
       "    <tr>\n",
       "      <th>xFIP_Diff</th>\n",
       "      <td>1.770</td>\n",
       "      <td>-0.460</td>\n",
       "      <td>1.390</td>\n",
       "      <td>-0.710</td>\n",
       "      <td>1.090</td>\n",
       "    </tr>\n",
       "    <tr>\n",
       "      <th>xFIP_BP_Diff</th>\n",
       "      <td>0.360</td>\n",
       "      <td>-1.500</td>\n",
       "      <td>0.780</td>\n",
       "      <td>-1.590</td>\n",
       "      <td>1.360</td>\n",
       "    </tr>\n",
       "  </tbody>\n",
       "</table>\n",
       "</div>"
      ],
      "text/plain": [
       "                      0        1        2        3        4\n",
       "Park             94.000  100.000  103.000  104.000  102.000\n",
       "H_Win_Diff       -4.000    0.000    3.000    0.000   -2.000\n",
       "H_Py_Diff        -3.000   -1.000    3.000    0.000   -1.000\n",
       "Home_Win          0.000    0.000    1.000    1.000    1.000\n",
       "Run_Diff        -45.000  -22.000   42.000    9.000  -11.000\n",
       "W_L10_Diff       -4.000    0.000    3.000    0.000   -2.000\n",
       "W_L30_Diff       -4.000    0.000    3.000    0.000   -2.000\n",
       "BABIP_vs_SP      -0.177    0.097    0.257    0.062   -0.192\n",
       "BABIP_vs_BP      -0.040    0.060    0.088   -0.155   -0.054\n",
       "BABIP_SP_vs_Hit  -0.160   -0.046    0.169    0.022    0.017\n",
       "BABIP_BP_vs_Hit  -0.098   -0.057   -0.080    0.104   -0.074\n",
       "Avg_Outs_Diff    -2.000    0.000    1.000   -2.000    2.520\n",
       "FIP_Diff          0.740    2.000    4.930    0.120    2.670\n",
       "FIP_BP_Diff      -0.630   -0.330    1.330   -2.240    0.200\n",
       "ISO_Diff         -0.089   -0.039    0.093   -0.003   -0.049\n",
       "OPS_Diff         -0.413   -0.134    0.329    0.003   -0.231\n",
       "RS/9_Diff        -6.350   -1.500   -0.900   -1.590    0.000\n",
       "SIERA_Diff        1.780   -0.440   -0.910   -0.890    1.280\n",
       "SIERA_BP_Diff     0.410   -0.870    0.530   -0.630    1.480\n",
       "WAR_Diff          0.000   -0.100   -0.100    0.000    0.100\n",
       "WHIP_Diff        -0.810    0.670    1.670    0.230    0.330\n",
       "WHIP_BP_Diff      0.220    0.120   -0.310   -0.670    0.360\n",
       "wOBA_Diff        -0.161   -0.053    0.127   -0.008   -0.089\n",
       "xFIP_Diff         1.770   -0.460    1.390   -0.710    1.090\n",
       "xFIP_BP_Diff      0.360   -1.500    0.780   -1.590    1.360"
      ]
     },
     "execution_count": 6,
     "metadata": {},
     "output_type": "execute_result"
    }
   ],
   "source": [
    "main_df.head().T"
   ]
  },
  {
   "cell_type": "code",
   "execution_count": 7,
   "metadata": {},
   "outputs": [
    {
     "name": "stdout",
     "output_type": "stream",
     "text": [
      "<class 'pandas.core.frame.DataFrame'>\n",
      "RangeIndex: 4312 entries, 0 to 4311\n",
      "Data columns (total 25 columns):\n",
      " #   Column           Non-Null Count  Dtype  \n",
      "---  ------           --------------  -----  \n",
      " 0   Park             4312 non-null   int64  \n",
      " 1   H_Win_Diff       4312 non-null   float64\n",
      " 2   H_Py_Diff        4312 non-null   float64\n",
      " 3   Home_Win         4312 non-null   int64  \n",
      " 4   Run_Diff         4312 non-null   float64\n",
      " 5   W_L10_Diff       4312 non-null   float64\n",
      " 6   W_L30_Diff       4312 non-null   float64\n",
      " 7   BABIP_vs_SP      4312 non-null   float64\n",
      " 8   BABIP_vs_BP      4312 non-null   float64\n",
      " 9   BABIP_SP_vs_Hit  4312 non-null   float64\n",
      " 10  BABIP_BP_vs_Hit  4312 non-null   float64\n",
      " 11  Avg_Outs_Diff    4312 non-null   float64\n",
      " 12  FIP_Diff         4312 non-null   float64\n",
      " 13  FIP_BP_Diff      4312 non-null   float64\n",
      " 14  ISO_Diff         4312 non-null   float64\n",
      " 15  OPS_Diff         4312 non-null   float64\n",
      " 16  RS/9_Diff        4312 non-null   float64\n",
      " 17  SIERA_Diff       4312 non-null   float64\n",
      " 18  SIERA_BP_Diff    4312 non-null   float64\n",
      " 19  WAR_Diff         4312 non-null   float64\n",
      " 20  WHIP_Diff        4312 non-null   float64\n",
      " 21  WHIP_BP_Diff     4312 non-null   float64\n",
      " 22  wOBA_Diff        4312 non-null   float64\n",
      " 23  xFIP_Diff        4312 non-null   float64\n",
      " 24  xFIP_BP_Diff     4312 non-null   float64\n",
      "dtypes: float64(23), int64(2)\n",
      "memory usage: 842.3 KB\n"
     ]
    }
   ],
   "source": [
    "main_df.info()"
   ]
  },
  {
   "cell_type": "code",
   "execution_count": 8,
   "metadata": {},
   "outputs": [
    {
     "data": {
      "text/plain": [
       "1    2323\n",
       "0    1989\n",
       "Name: Home_Win, dtype: int64"
      ]
     },
     "execution_count": 8,
     "metadata": {},
     "output_type": "execute_result"
    }
   ],
   "source": [
    "main_df['Home_Win'].value_counts()"
   ]
  },
  {
   "cell_type": "code",
   "execution_count": 9,
   "metadata": {},
   "outputs": [
    {
     "data": {
      "text/plain": [
       "0.5387291280148423"
      ]
     },
     "execution_count": 9,
     "metadata": {},
     "output_type": "execute_result"
    }
   ],
   "source": [
    "2323/4312"
   ]
  },
  {
   "cell_type": "code",
   "execution_count": 10,
   "metadata": {},
   "outputs": [],
   "source": [
    "from sklearn.preprocessing import StandardScaler\n",
    "from sklearn.model_selection import train_test_split"
   ]
  },
  {
   "cell_type": "code",
   "execution_count": 11,
   "metadata": {},
   "outputs": [],
   "source": [
    "X = main_df.drop(columns = 'Home_Win')"
   ]
  },
  {
   "cell_type": "code",
   "execution_count": 12,
   "metadata": {},
   "outputs": [
    {
     "data": {
      "text/plain": [
       "(4312, 24)"
      ]
     },
     "execution_count": 12,
     "metadata": {},
     "output_type": "execute_result"
    }
   ],
   "source": [
    "X.shape"
   ]
  },
  {
   "cell_type": "code",
   "execution_count": 13,
   "metadata": {},
   "outputs": [
    {
     "data": {
      "text/plain": [
       "(4312, 25)"
      ]
     },
     "execution_count": 13,
     "metadata": {},
     "output_type": "execute_result"
    }
   ],
   "source": [
    "main_df.shape"
   ]
  },
  {
   "cell_type": "code",
   "execution_count": 14,
   "metadata": {},
   "outputs": [
    {
     "name": "stdout",
     "output_type": "stream",
     "text": [
      "<class 'pandas.core.frame.DataFrame'>\n",
      "RangeIndex: 4312 entries, 0 to 4311\n",
      "Data columns (total 24 columns):\n",
      " #   Column           Non-Null Count  Dtype  \n",
      "---  ------           --------------  -----  \n",
      " 0   Park             4312 non-null   int64  \n",
      " 1   H_Win_Diff       4312 non-null   float64\n",
      " 2   H_Py_Diff        4312 non-null   float64\n",
      " 3   Run_Diff         4312 non-null   float64\n",
      " 4   W_L10_Diff       4312 non-null   float64\n",
      " 5   W_L30_Diff       4312 non-null   float64\n",
      " 6   BABIP_vs_SP      4312 non-null   float64\n",
      " 7   BABIP_vs_BP      4312 non-null   float64\n",
      " 8   BABIP_SP_vs_Hit  4312 non-null   float64\n",
      " 9   BABIP_BP_vs_Hit  4312 non-null   float64\n",
      " 10  Avg_Outs_Diff    4312 non-null   float64\n",
      " 11  FIP_Diff         4312 non-null   float64\n",
      " 12  FIP_BP_Diff      4312 non-null   float64\n",
      " 13  ISO_Diff         4312 non-null   float64\n",
      " 14  OPS_Diff         4312 non-null   float64\n",
      " 15  RS/9_Diff        4312 non-null   float64\n",
      " 16  SIERA_Diff       4312 non-null   float64\n",
      " 17  SIERA_BP_Diff    4312 non-null   float64\n",
      " 18  WAR_Diff         4312 non-null   float64\n",
      " 19  WHIP_Diff        4312 non-null   float64\n",
      " 20  WHIP_BP_Diff     4312 non-null   float64\n",
      " 21  wOBA_Diff        4312 non-null   float64\n",
      " 22  xFIP_Diff        4312 non-null   float64\n",
      " 23  xFIP_BP_Diff     4312 non-null   float64\n",
      "dtypes: float64(23), int64(1)\n",
      "memory usage: 808.6 KB\n"
     ]
    }
   ],
   "source": [
    "X.info()"
   ]
  },
  {
   "cell_type": "code",
   "execution_count": 15,
   "metadata": {},
   "outputs": [],
   "source": [
    "y = main_df['Home_Win']"
   ]
  },
  {
   "cell_type": "code",
   "execution_count": 16,
   "metadata": {},
   "outputs": [],
   "source": [
    "X_train, X_test, y_train, y_test = train_test_split(X, y, test_size=0.2, random_state=42)"
   ]
  },
  {
   "cell_type": "code",
   "execution_count": 17,
   "metadata": {},
   "outputs": [
    {
     "data": {
      "text/plain": [
       "StandardScaler()"
      ]
     },
     "execution_count": 17,
     "metadata": {},
     "output_type": "execute_result"
    }
   ],
   "source": [
    "scaler = StandardScaler()\n",
    "scaler.fit(X_train)"
   ]
  },
  {
   "cell_type": "code",
   "execution_count": 18,
   "metadata": {},
   "outputs": [],
   "source": [
    "X_train_scaled = scaler.transform(X_train)\n",
    "X_test_scaled = scaler.transform(X_test)"
   ]
  },
  {
   "cell_type": "code",
   "execution_count": 19,
   "metadata": {},
   "outputs": [
    {
     "data": {
      "text/plain": [
       "(-4.549478713067231e-17, 0.9999999999999999)"
      ]
     },
     "execution_count": 19,
     "metadata": {},
     "output_type": "execute_result"
    }
   ],
   "source": [
    "X_train_scaled.mean(), X_train_scaled.std()"
   ]
  },
  {
   "cell_type": "code",
   "execution_count": 20,
   "metadata": {},
   "outputs": [
    {
     "data": {
      "text/plain": [
       "(0.0037610276015557016, 0.9687478266146227)"
      ]
     },
     "execution_count": 20,
     "metadata": {},
     "output_type": "execute_result"
    }
   ],
   "source": [
    "X_test_scaled.mean(), X_test_scaled.std()"
   ]
  },
  {
   "cell_type": "code",
   "execution_count": null,
   "metadata": {},
   "outputs": [],
   "source": []
  },
  {
   "cell_type": "markdown",
   "metadata": {},
   "source": [
    "# Logistic Regression"
   ]
  },
  {
   "cell_type": "code",
   "execution_count": 21,
   "metadata": {},
   "outputs": [],
   "source": [
    "from sklearn.linear_model import LogisticRegression\n",
    "from sklearn.model_selection import GridSearchCV\n",
    "from sklearn.metrics import accuracy_score"
   ]
  },
  {
   "cell_type": "code",
   "execution_count": 22,
   "metadata": {},
   "outputs": [],
   "source": [
    "# Create a Logistic Regression classifier\n",
    "lr = LogisticRegression()"
   ]
  },
  {
   "cell_type": "code",
   "execution_count": 23,
   "metadata": {},
   "outputs": [],
   "source": [
    "# Define the hyperparameters to tune and their possible values\n",
    "param_grid = {\n",
    "    'C': [0.001, 0.01, 0.1, 1, 10, 100]\n",
    "}"
   ]
  },
  {
   "cell_type": "code",
   "execution_count": 24,
   "metadata": {},
   "outputs": [
    {
     "name": "stdout",
     "output_type": "stream",
     "text": [
      "Fitting 5 folds for each of 6 candidates, totalling 30 fits\n"
     ]
    },
    {
     "name": "stderr",
     "output_type": "stream",
     "text": [
      "[Parallel(n_jobs=1)]: Using backend SequentialBackend with 1 concurrent workers.\n",
      "[Parallel(n_jobs=1)]: Done  30 out of  30 | elapsed:    1.1s finished\n"
     ]
    },
    {
     "data": {
      "text/plain": [
       "GridSearchCV(cv=5, estimator=LogisticRegression(),\n",
       "             param_grid={'C': [0.001, 0.01, 0.1, 1, 10, 100]},\n",
       "             scoring='accuracy', verbose=1)"
      ]
     },
     "execution_count": 24,
     "metadata": {},
     "output_type": "execute_result"
    }
   ],
   "source": [
    "# Perform hyperparameter tuning using cross-validation with accuracy scoring\n",
    "grid_search = GridSearchCV(lr, param_grid, cv=5, scoring='accuracy', verbose = 1)\n",
    "grid_search.fit(X_train_scaled, y_train)"
   ]
  },
  {
   "cell_type": "code",
   "execution_count": 25,
   "metadata": {},
   "outputs": [],
   "source": [
    "# Get the best hyperparameters and the corresponding model\n",
    "best_lr = grid_search.best_estimator_\n",
    "best_params = grid_search.best_params_"
   ]
  },
  {
   "cell_type": "code",
   "execution_count": 26,
   "metadata": {},
   "outputs": [
    {
     "name": "stdout",
     "output_type": "stream",
     "text": [
      "LogisticRegression(C=0.001)\n",
      "{'C': 0.001}\n"
     ]
    }
   ],
   "source": [
    "print(best_lr)\n",
    "print(best_params)"
   ]
  },
  {
   "cell_type": "code",
   "execution_count": 27,
   "metadata": {},
   "outputs": [
    {
     "data": {
      "text/plain": [
       "LogisticRegression(C=0.001)"
      ]
     },
     "execution_count": 27,
     "metadata": {},
     "output_type": "execute_result"
    }
   ],
   "source": [
    "# Train the model with the best hyperparameters on the full training set\n",
    "best_lr.fit(X_train_scaled, y_train)"
   ]
  },
  {
   "cell_type": "code",
   "execution_count": 28,
   "metadata": {},
   "outputs": [],
   "source": [
    "# Get predictions for the test set\n",
    "y_pred_lr = best_lr.predict(X_test_scaled)"
   ]
  },
  {
   "cell_type": "code",
   "execution_count": 29,
   "metadata": {},
   "outputs": [],
   "source": [
    "# Calculate the accuracy score on the test set\n",
    "accuracy = accuracy_score(y_test, y_pred_lr)\n"
   ]
  },
  {
   "cell_type": "code",
   "execution_count": 30,
   "metadata": {},
   "outputs": [
    {
     "name": "stdout",
     "output_type": "stream",
     "text": [
      "Accuracy on the test set: 0.574739281575898\n"
     ]
    }
   ],
   "source": [
    "print(\"Accuracy on the test set:\", accuracy)"
   ]
  },
  {
   "cell_type": "code",
   "execution_count": 31,
   "metadata": {},
   "outputs": [],
   "source": [
    "probs = best_lr.predict_proba(X_test_scaled)"
   ]
  },
  {
   "cell_type": "code",
   "execution_count": 32,
   "metadata": {},
   "outputs": [
    {
     "name": "stdout",
     "output_type": "stream",
     "text": [
      "[[0.41353705 0.58646295]\n",
      " [0.51804499 0.48195501]\n",
      " [0.4764191  0.5235809 ]\n",
      " ...\n",
      " [0.43705777 0.56294223]\n",
      " [0.39528342 0.60471658]\n",
      " [0.32319359 0.67680641]]\n"
     ]
    }
   ],
   "source": [
    "print(probs)"
   ]
  },
  {
   "cell_type": "markdown",
   "metadata": {},
   "source": [
    "# Now for ... live game predictions!"
   ]
  },
  {
   "cell_type": "code",
   "execution_count": 33,
   "metadata": {},
   "outputs": [],
   "source": [
    "import datetime as dt\n",
    "from datetime import timedelta"
   ]
  },
  {
   "cell_type": "code",
   "execution_count": 34,
   "metadata": {},
   "outputs": [],
   "source": [
    "today = dt.date.today()"
   ]
  },
  {
   "cell_type": "code",
   "execution_count": 35,
   "metadata": {},
   "outputs": [],
   "source": [
    "today_str = str(today)"
   ]
  },
  {
   "cell_type": "code",
   "execution_count": 36,
   "metadata": {},
   "outputs": [],
   "source": [
    "todays_game_data = pd.read_csv('Live_Game_Features_' + today_str + '.csv')"
   ]
  },
  {
   "cell_type": "code",
   "execution_count": 37,
   "metadata": {},
   "outputs": [
    {
     "data": {
      "text/html": [
       "<div>\n",
       "<style scoped>\n",
       "    .dataframe tbody tr th:only-of-type {\n",
       "        vertical-align: middle;\n",
       "    }\n",
       "\n",
       "    .dataframe tbody tr th {\n",
       "        vertical-align: top;\n",
       "    }\n",
       "\n",
       "    .dataframe thead th {\n",
       "        text-align: right;\n",
       "    }\n",
       "</style>\n",
       "<table border=\"1\" class=\"dataframe\">\n",
       "  <thead>\n",
       "    <tr style=\"text-align: right;\">\n",
       "      <th></th>\n",
       "      <th>Away</th>\n",
       "      <th>Home</th>\n",
       "      <th>A_Starter</th>\n",
       "      <th>H_Starter</th>\n",
       "      <th>Date</th>\n",
       "      <th>Park</th>\n",
       "      <th>H_Win_Diff</th>\n",
       "      <th>H_Py_Diff</th>\n",
       "      <th>Run_Diff</th>\n",
       "      <th>W_L10_Diff</th>\n",
       "      <th>...</th>\n",
       "      <th>OPS_Diff</th>\n",
       "      <th>RS/9_Diff</th>\n",
       "      <th>SIERA_Diff</th>\n",
       "      <th>SIERA_BP_Diff</th>\n",
       "      <th>WAR_Diff</th>\n",
       "      <th>WHIP_Diff</th>\n",
       "      <th>WHIP_BP_Diff</th>\n",
       "      <th>wOBA_Diff</th>\n",
       "      <th>xFIP_Diff</th>\n",
       "      <th>xFIP_BP_Diff</th>\n",
       "    </tr>\n",
       "  </thead>\n",
       "  <tbody>\n",
       "    <tr>\n",
       "      <th>0</th>\n",
       "      <td>CLE</td>\n",
       "      <td>CIN</td>\n",
       "      <td>Logan Allen</td>\n",
       "      <td>Graham Ashcraft</td>\n",
       "      <td>2023-08-15</td>\n",
       "      <td>107</td>\n",
       "      <td>5</td>\n",
       "      <td>-2.0</td>\n",
       "      <td>-22</td>\n",
       "      <td>-1</td>\n",
       "      <td>...</td>\n",
       "      <td>0.019</td>\n",
       "      <td>0.13</td>\n",
       "      <td>0.47</td>\n",
       "      <td>0.29</td>\n",
       "      <td>-0.3</td>\n",
       "      <td>0.04</td>\n",
       "      <td>-0.10</td>\n",
       "      <td>0.005</td>\n",
       "      <td>0.43</td>\n",
       "      <td>0.66</td>\n",
       "    </tr>\n",
       "    <tr>\n",
       "      <th>1</th>\n",
       "      <td>HOU</td>\n",
       "      <td>MIA</td>\n",
       "      <td>Cristian Javier</td>\n",
       "      <td>Johnny Cueto</td>\n",
       "      <td>2023-08-15</td>\n",
       "      <td>97</td>\n",
       "      <td>-5</td>\n",
       "      <td>-12.0</td>\n",
       "      <td>-118</td>\n",
       "      <td>-1</td>\n",
       "      <td>...</td>\n",
       "      <td>-0.089</td>\n",
       "      <td>-4.37</td>\n",
       "      <td>-0.24</td>\n",
       "      <td>-0.89</td>\n",
       "      <td>-1.5</td>\n",
       "      <td>-0.22</td>\n",
       "      <td>-0.09</td>\n",
       "      <td>-0.041</td>\n",
       "      <td>-0.35</td>\n",
       "      <td>-0.87</td>\n",
       "    </tr>\n",
       "    <tr>\n",
       "      <th>2</th>\n",
       "      <td>BOS</td>\n",
       "      <td>WSN</td>\n",
       "      <td>Nick Pivetta</td>\n",
       "      <td>Josiah Gray</td>\n",
       "      <td>2023-08-15</td>\n",
       "      <td>102</td>\n",
       "      <td>-9</td>\n",
       "      <td>-11.0</td>\n",
       "      <td>-118</td>\n",
       "      <td>2</td>\n",
       "      <td>...</td>\n",
       "      <td>0.003</td>\n",
       "      <td>-0.06</td>\n",
       "      <td>1.40</td>\n",
       "      <td>0.24</td>\n",
       "      <td>1.0</td>\n",
       "      <td>0.27</td>\n",
       "      <td>-0.03</td>\n",
       "      <td>0.006</td>\n",
       "      <td>1.09</td>\n",
       "      <td>0.31</td>\n",
       "    </tr>\n",
       "    <tr>\n",
       "      <th>3</th>\n",
       "      <td>PHI</td>\n",
       "      <td>TOR</td>\n",
       "      <td>Zack Wheeler</td>\n",
       "      <td>Yusei Kikuchi</td>\n",
       "      <td>2023-08-15</td>\n",
       "      <td>100</td>\n",
       "      <td>1</td>\n",
       "      <td>3.0</td>\n",
       "      <td>26</td>\n",
       "      <td>0</td>\n",
       "      <td>...</td>\n",
       "      <td>0.003</td>\n",
       "      <td>-0.22</td>\n",
       "      <td>0.55</td>\n",
       "      <td>-0.11</td>\n",
       "      <td>-2.9</td>\n",
       "      <td>0.12</td>\n",
       "      <td>-0.07</td>\n",
       "      <td>0.002</td>\n",
       "      <td>0.51</td>\n",
       "      <td>-0.14</td>\n",
       "    </tr>\n",
       "    <tr>\n",
       "      <th>4</th>\n",
       "      <td>PIT</td>\n",
       "      <td>NYM</td>\n",
       "      <td>Bailey Falter</td>\n",
       "      <td>David Peterson</td>\n",
       "      <td>2023-08-15</td>\n",
       "      <td>96</td>\n",
       "      <td>1</td>\n",
       "      <td>3.0</td>\n",
       "      <td>38</td>\n",
       "      <td>0</td>\n",
       "      <td>...</td>\n",
       "      <td>0.003</td>\n",
       "      <td>1.45</td>\n",
       "      <td>-0.87</td>\n",
       "      <td>0.82</td>\n",
       "      <td>0.0</td>\n",
       "      <td>0.06</td>\n",
       "      <td>0.26</td>\n",
       "      <td>0.004</td>\n",
       "      <td>-1.12</td>\n",
       "      <td>0.82</td>\n",
       "    </tr>\n",
       "    <tr>\n",
       "      <th>5</th>\n",
       "      <td>NYY</td>\n",
       "      <td>ATL</td>\n",
       "      <td>Luis Severino</td>\n",
       "      <td>Bryce Elder</td>\n",
       "      <td>2023-08-15</td>\n",
       "      <td>101</td>\n",
       "      <td>16</td>\n",
       "      <td>18.0</td>\n",
       "      <td>208</td>\n",
       "      <td>3</td>\n",
       "      <td>...</td>\n",
       "      <td>0.185</td>\n",
       "      <td>1.32</td>\n",
       "      <td>-0.43</td>\n",
       "      <td>0.15</td>\n",
       "      <td>2.2</td>\n",
       "      <td>-0.64</td>\n",
       "      <td>0.10</td>\n",
       "      <td>0.065</td>\n",
       "      <td>-0.81</td>\n",
       "      <td>0.03</td>\n",
       "    </tr>\n",
       "    <tr>\n",
       "      <th>6</th>\n",
       "      <td>DET</td>\n",
       "      <td>MIN</td>\n",
       "      <td>Alex Faedo</td>\n",
       "      <td>Bailey Ober</td>\n",
       "      <td>2023-08-15</td>\n",
       "      <td>101</td>\n",
       "      <td>9</td>\n",
       "      <td>15.0</td>\n",
       "      <td>139</td>\n",
       "      <td>1</td>\n",
       "      <td>...</td>\n",
       "      <td>0.109</td>\n",
       "      <td>-1.56</td>\n",
       "      <td>-0.41</td>\n",
       "      <td>-0.15</td>\n",
       "      <td>1.9</td>\n",
       "      <td>0.04</td>\n",
       "      <td>-0.03</td>\n",
       "      <td>0.044</td>\n",
       "      <td>-0.12</td>\n",
       "      <td>-0.07</td>\n",
       "    </tr>\n",
       "    <tr>\n",
       "      <th>7</th>\n",
       "      <td>LAA</td>\n",
       "      <td>TEX</td>\n",
       "      <td>Lucas Giolito</td>\n",
       "      <td>Jordan Montgomery</td>\n",
       "      <td>2023-08-15</td>\n",
       "      <td>101</td>\n",
       "      <td>12</td>\n",
       "      <td>19.0</td>\n",
       "      <td>209</td>\n",
       "      <td>5</td>\n",
       "      <td>...</td>\n",
       "      <td>0.063</td>\n",
       "      <td>-0.23</td>\n",
       "      <td>0.08</td>\n",
       "      <td>-0.65</td>\n",
       "      <td>1.3</td>\n",
       "      <td>-0.01</td>\n",
       "      <td>-0.51</td>\n",
       "      <td>0.031</td>\n",
       "      <td>-0.33</td>\n",
       "      <td>-0.49</td>\n",
       "    </tr>\n",
       "    <tr>\n",
       "      <th>8</th>\n",
       "      <td>CHW</td>\n",
       "      <td>CHC</td>\n",
       "      <td>Touki Toussaint</td>\n",
       "      <td>Kyle Hendricks</td>\n",
       "      <td>2023-08-15</td>\n",
       "      <td>102</td>\n",
       "      <td>14</td>\n",
       "      <td>15.0</td>\n",
       "      <td>159</td>\n",
       "      <td>2</td>\n",
       "      <td>...</td>\n",
       "      <td>0.179</td>\n",
       "      <td>0.63</td>\n",
       "      <td>-0.50</td>\n",
       "      <td>0.13</td>\n",
       "      <td>1.0</td>\n",
       "      <td>-0.28</td>\n",
       "      <td>-0.15</td>\n",
       "      <td>0.072</td>\n",
       "      <td>-0.14</td>\n",
       "      <td>-0.03</td>\n",
       "    </tr>\n",
       "    <tr>\n",
       "      <th>9</th>\n",
       "      <td>SEA</td>\n",
       "      <td>KCR</td>\n",
       "      <td>Emerson Hancock</td>\n",
       "      <td>Jordan Lyles</td>\n",
       "      <td>2023-08-15</td>\n",
       "      <td>103</td>\n",
       "      <td>-24</td>\n",
       "      <td>-20.0</td>\n",
       "      <td>-216</td>\n",
       "      <td>-3</td>\n",
       "      <td>...</td>\n",
       "      <td>0.027</td>\n",
       "      <td>2.69</td>\n",
       "      <td>-0.63</td>\n",
       "      <td>1.57</td>\n",
       "      <td>0.4</td>\n",
       "      <td>0.27</td>\n",
       "      <td>0.30</td>\n",
       "      <td>0.007</td>\n",
       "      <td>0.11</td>\n",
       "      <td>1.78</td>\n",
       "    </tr>\n",
       "    <tr>\n",
       "      <th>10</th>\n",
       "      <td>ARI</td>\n",
       "      <td>COL</td>\n",
       "      <td>Joe Mantiply</td>\n",
       "      <td>Ty Blach</td>\n",
       "      <td>2023-08-15</td>\n",
       "      <td>111</td>\n",
       "      <td>-13</td>\n",
       "      <td>-14.0</td>\n",
       "      <td>-154</td>\n",
       "      <td>1</td>\n",
       "      <td>...</td>\n",
       "      <td>-0.027</td>\n",
       "      <td>-3.04</td>\n",
       "      <td>2.02</td>\n",
       "      <td>0.18</td>\n",
       "      <td>0.2</td>\n",
       "      <td>0.24</td>\n",
       "      <td>-0.16</td>\n",
       "      <td>-0.013</td>\n",
       "      <td>1.52</td>\n",
       "      <td>0.29</td>\n",
       "    </tr>\n",
       "    <tr>\n",
       "      <th>11</th>\n",
       "      <td>BAL</td>\n",
       "      <td>SDP</td>\n",
       "      <td>Jack Flaherty</td>\n",
       "      <td>Michael Wacha</td>\n",
       "      <td>2023-08-15</td>\n",
       "      <td>95</td>\n",
       "      <td>-18</td>\n",
       "      <td>-1.0</td>\n",
       "      <td>-14</td>\n",
       "      <td>-5</td>\n",
       "      <td>...</td>\n",
       "      <td>0.057</td>\n",
       "      <td>-0.45</td>\n",
       "      <td>-0.06</td>\n",
       "      <td>0.16</td>\n",
       "      <td>0.1</td>\n",
       "      <td>-0.45</td>\n",
       "      <td>0.17</td>\n",
       "      <td>0.027</td>\n",
       "      <td>0.27</td>\n",
       "      <td>0.27</td>\n",
       "    </tr>\n",
       "    <tr>\n",
       "      <th>12</th>\n",
       "      <td>TBR</td>\n",
       "      <td>SFG</td>\n",
       "      <td>Zack Littell</td>\n",
       "      <td>Jakob Junis</td>\n",
       "      <td>2023-08-15</td>\n",
       "      <td>98</td>\n",
       "      <td>-9</td>\n",
       "      <td>-14.0</td>\n",
       "      <td>-137</td>\n",
       "      <td>-3</td>\n",
       "      <td>...</td>\n",
       "      <td>-0.128</td>\n",
       "      <td>-2.10</td>\n",
       "      <td>-0.51</td>\n",
       "      <td>0.31</td>\n",
       "      <td>-0.4</td>\n",
       "      <td>0.09</td>\n",
       "      <td>0.04</td>\n",
       "      <td>-0.051</td>\n",
       "      <td>0.02</td>\n",
       "      <td>0.39</td>\n",
       "    </tr>\n",
       "    <tr>\n",
       "      <th>13</th>\n",
       "      <td>MIL</td>\n",
       "      <td>LAD</td>\n",
       "      <td>Adrian Houser</td>\n",
       "      <td>Bobby Miller</td>\n",
       "      <td>2023-08-15</td>\n",
       "      <td>100</td>\n",
       "      <td>6</td>\n",
       "      <td>11.0</td>\n",
       "      <td>130</td>\n",
       "      <td>2</td>\n",
       "      <td>...</td>\n",
       "      <td>0.125</td>\n",
       "      <td>0.43</td>\n",
       "      <td>-0.48</td>\n",
       "      <td>0.89</td>\n",
       "      <td>0.7</td>\n",
       "      <td>-0.26</td>\n",
       "      <td>0.09</td>\n",
       "      <td>0.050</td>\n",
       "      <td>-0.34</td>\n",
       "      <td>1.02</td>\n",
       "    </tr>\n",
       "  </tbody>\n",
       "</table>\n",
       "<p>14 rows × 29 columns</p>\n",
       "</div>"
      ],
      "text/plain": [
       "   Away Home        A_Starter          H_Starter        Date  Park  \\\n",
       "0   CLE  CIN      Logan Allen    Graham Ashcraft  2023-08-15   107   \n",
       "1   HOU  MIA  Cristian Javier       Johnny Cueto  2023-08-15    97   \n",
       "2   BOS  WSN     Nick Pivetta        Josiah Gray  2023-08-15   102   \n",
       "3   PHI  TOR     Zack Wheeler      Yusei Kikuchi  2023-08-15   100   \n",
       "4   PIT  NYM    Bailey Falter     David Peterson  2023-08-15    96   \n",
       "5   NYY  ATL    Luis Severino        Bryce Elder  2023-08-15   101   \n",
       "6   DET  MIN       Alex Faedo        Bailey Ober  2023-08-15   101   \n",
       "7   LAA  TEX    Lucas Giolito  Jordan Montgomery  2023-08-15   101   \n",
       "8   CHW  CHC  Touki Toussaint     Kyle Hendricks  2023-08-15   102   \n",
       "9   SEA  KCR  Emerson Hancock       Jordan Lyles  2023-08-15   103   \n",
       "10  ARI  COL     Joe Mantiply           Ty Blach  2023-08-15   111   \n",
       "11  BAL  SDP    Jack Flaherty      Michael Wacha  2023-08-15    95   \n",
       "12  TBR  SFG     Zack Littell        Jakob Junis  2023-08-15    98   \n",
       "13  MIL  LAD    Adrian Houser       Bobby Miller  2023-08-15   100   \n",
       "\n",
       "    H_Win_Diff  H_Py_Diff  Run_Diff  W_L10_Diff  ...  OPS_Diff  RS/9_Diff  \\\n",
       "0            5       -2.0       -22          -1  ...     0.019       0.13   \n",
       "1           -5      -12.0      -118          -1  ...    -0.089      -4.37   \n",
       "2           -9      -11.0      -118           2  ...     0.003      -0.06   \n",
       "3            1        3.0        26           0  ...     0.003      -0.22   \n",
       "4            1        3.0        38           0  ...     0.003       1.45   \n",
       "5           16       18.0       208           3  ...     0.185       1.32   \n",
       "6            9       15.0       139           1  ...     0.109      -1.56   \n",
       "7           12       19.0       209           5  ...     0.063      -0.23   \n",
       "8           14       15.0       159           2  ...     0.179       0.63   \n",
       "9          -24      -20.0      -216          -3  ...     0.027       2.69   \n",
       "10         -13      -14.0      -154           1  ...    -0.027      -3.04   \n",
       "11         -18       -1.0       -14          -5  ...     0.057      -0.45   \n",
       "12          -9      -14.0      -137          -3  ...    -0.128      -2.10   \n",
       "13           6       11.0       130           2  ...     0.125       0.43   \n",
       "\n",
       "    SIERA_Diff  SIERA_BP_Diff  WAR_Diff  WHIP_Diff  WHIP_BP_Diff  wOBA_Diff  \\\n",
       "0         0.47           0.29      -0.3       0.04         -0.10      0.005   \n",
       "1        -0.24          -0.89      -1.5      -0.22         -0.09     -0.041   \n",
       "2         1.40           0.24       1.0       0.27         -0.03      0.006   \n",
       "3         0.55          -0.11      -2.9       0.12         -0.07      0.002   \n",
       "4        -0.87           0.82       0.0       0.06          0.26      0.004   \n",
       "5        -0.43           0.15       2.2      -0.64          0.10      0.065   \n",
       "6        -0.41          -0.15       1.9       0.04         -0.03      0.044   \n",
       "7         0.08          -0.65       1.3      -0.01         -0.51      0.031   \n",
       "8        -0.50           0.13       1.0      -0.28         -0.15      0.072   \n",
       "9        -0.63           1.57       0.4       0.27          0.30      0.007   \n",
       "10        2.02           0.18       0.2       0.24         -0.16     -0.013   \n",
       "11       -0.06           0.16       0.1      -0.45          0.17      0.027   \n",
       "12       -0.51           0.31      -0.4       0.09          0.04     -0.051   \n",
       "13       -0.48           0.89       0.7      -0.26          0.09      0.050   \n",
       "\n",
       "    xFIP_Diff  xFIP_BP_Diff  \n",
       "0        0.43          0.66  \n",
       "1       -0.35         -0.87  \n",
       "2        1.09          0.31  \n",
       "3        0.51         -0.14  \n",
       "4       -1.12          0.82  \n",
       "5       -0.81          0.03  \n",
       "6       -0.12         -0.07  \n",
       "7       -0.33         -0.49  \n",
       "8       -0.14         -0.03  \n",
       "9        0.11          1.78  \n",
       "10       1.52          0.29  \n",
       "11       0.27          0.27  \n",
       "12       0.02          0.39  \n",
       "13      -0.34          1.02  \n",
       "\n",
       "[14 rows x 29 columns]"
      ]
     },
     "execution_count": 37,
     "metadata": {},
     "output_type": "execute_result"
    }
   ],
   "source": [
    "todays_game_data"
   ]
  },
  {
   "cell_type": "code",
   "execution_count": 38,
   "metadata": {},
   "outputs": [],
   "source": [
    "# cols_to_drop = todays_game_data.columns"
   ]
  },
  {
   "cell_type": "markdown",
   "metadata": {},
   "source": [
    "Set the 5-column index again"
   ]
  },
  {
   "cell_type": "code",
   "execution_count": 39,
   "metadata": {},
   "outputs": [],
   "source": [
    "todays_game_data = todays_game_data.set_index(['Away', 'Home', 'A_Starter', 'H_Starter', 'Date'])"
   ]
  },
  {
   "cell_type": "code",
   "execution_count": 40,
   "metadata": {},
   "outputs": [
    {
     "name": "stdout",
     "output_type": "stream",
     "text": [
      "<class 'pandas.core.frame.DataFrame'>\n",
      "MultiIndex: 14 entries, ('CLE', 'CIN', 'Logan Allen', 'Graham Ashcraft', '2023-08-15') to ('MIL', 'LAD', 'Adrian Houser', 'Bobby Miller', '2023-08-15')\n",
      "Data columns (total 24 columns):\n",
      " #   Column           Non-Null Count  Dtype  \n",
      "---  ------           --------------  -----  \n",
      " 0   Park             14 non-null     int64  \n",
      " 1   H_Win_Diff       14 non-null     int64  \n",
      " 2   H_Py_Diff        14 non-null     float64\n",
      " 3   Run_Diff         14 non-null     int64  \n",
      " 4   W_L10_Diff       14 non-null     int64  \n",
      " 5   W_L30_Diff       14 non-null     int64  \n",
      " 6   BABIP_vs_SP      14 non-null     float64\n",
      " 7   BABIP_vs_BP      14 non-null     float64\n",
      " 8   BABIP_SP_vs_Hit  14 non-null     float64\n",
      " 9   BABIP_BP_vs_Hit  14 non-null     float64\n",
      " 10  Avg_Outs_Diff    14 non-null     float64\n",
      " 11  FIP_Diff         14 non-null     float64\n",
      " 12  FIP_BP_Diff      14 non-null     float64\n",
      " 13  ISO_Diff         14 non-null     float64\n",
      " 14  OPS_Diff         14 non-null     float64\n",
      " 15  RS/9_Diff        14 non-null     float64\n",
      " 16  SIERA_Diff       14 non-null     float64\n",
      " 17  SIERA_BP_Diff    14 non-null     float64\n",
      " 18  WAR_Diff         14 non-null     float64\n",
      " 19  WHIP_Diff        14 non-null     float64\n",
      " 20  WHIP_BP_Diff     14 non-null     float64\n",
      " 21  wOBA_Diff        14 non-null     float64\n",
      " 22  xFIP_Diff        14 non-null     float64\n",
      " 23  xFIP_BP_Diff     14 non-null     float64\n",
      "dtypes: float64(19), int64(5)\n",
      "memory usage: 6.0+ KB\n"
     ]
    }
   ],
   "source": [
    "todays_game_data.info()"
   ]
  },
  {
   "cell_type": "code",
   "execution_count": 41,
   "metadata": {},
   "outputs": [],
   "source": [
    "X_new = scaler.transform(todays_game_data)"
   ]
  },
  {
   "cell_type": "code",
   "execution_count": 42,
   "metadata": {},
   "outputs": [
    {
     "data": {
      "text/plain": [
       "(0.13700644647907828, 0.8915687128141783)"
      ]
     },
     "execution_count": 42,
     "metadata": {},
     "output_type": "execute_result"
    }
   ],
   "source": [
    "X_new.mean(), X_new.std()"
   ]
  },
  {
   "cell_type": "code",
   "execution_count": 43,
   "metadata": {},
   "outputs": [],
   "source": [
    "todays_pred = best_lr.predict(X_new)"
   ]
  },
  {
   "cell_type": "markdown",
   "metadata": {},
   "source": [
    "The array of today's predictions"
   ]
  },
  {
   "cell_type": "code",
   "execution_count": 44,
   "metadata": {},
   "outputs": [
    {
     "data": {
      "text/plain": [
       "array([1, 0, 1, 1, 1, 1, 1, 1, 1, 0, 1, 0, 0, 1], dtype=int64)"
      ]
     },
     "execution_count": 44,
     "metadata": {},
     "output_type": "execute_result"
    }
   ],
   "source": [
    "todays_pred"
   ]
  },
  {
   "cell_type": "code",
   "execution_count": 45,
   "metadata": {},
   "outputs": [],
   "source": [
    "todays_game_data['Pred'] = todays_pred"
   ]
  },
  {
   "cell_type": "markdown",
   "metadata": {},
   "source": [
    "# Predict_proba\n",
    "We need the predicted probabilities to derive money lines."
   ]
  },
  {
   "cell_type": "code",
   "execution_count": 46,
   "metadata": {},
   "outputs": [],
   "source": [
    "todays_probs = best_lr.predict_proba(X_new)"
   ]
  },
  {
   "cell_type": "code",
   "execution_count": 47,
   "metadata": {},
   "outputs": [
    {
     "data": {
      "text/plain": [
       "array([[0.47648118, 0.52351882],\n",
       "       [0.50286475, 0.49713525],\n",
       "       [0.49421477, 0.50578523],\n",
       "       [0.49966779, 0.50033221],\n",
       "       [0.48359662, 0.51640338],\n",
       "       [0.37000509, 0.62999491],\n",
       "       [0.38020107, 0.61979893],\n",
       "       [0.35140051, 0.64859949],\n",
       "       [0.36069658, 0.63930342],\n",
       "       [0.56860617, 0.43139383],\n",
       "       [0.49837895, 0.50162105],\n",
       "       [0.51432207, 0.48567793],\n",
       "       [0.53245243, 0.46754757],\n",
       "       [0.44168788, 0.55831212]])"
      ]
     },
     "execution_count": 47,
     "metadata": {},
     "output_type": "execute_result"
    }
   ],
   "source": [
    "todays_probs"
   ]
  },
  {
   "cell_type": "code",
   "execution_count": 48,
   "metadata": {},
   "outputs": [],
   "source": [
    "away_probs = [prob[0] for prob in todays_probs]\n",
    "home_probs = [prob[1] for prob in todays_probs]"
   ]
  },
  {
   "cell_type": "code",
   "execution_count": 49,
   "metadata": {},
   "outputs": [],
   "source": [
    "todays_game_data['Away_Prob'] = away_probs\n",
    "todays_game_data['Home_Prob'] = home_probs"
   ]
  },
  {
   "cell_type": "markdown",
   "metadata": {},
   "source": [
    "# Money lines\n",
    "The formula that converts predicted probabilities to money lines.\n",
    "\n",
    "If a team's money line is -200, that team is a heavy favorite. If the moneyline is -120, the team is a favorite but not nearly has heavy of a favorite as -200. A +130 moneyline indicates the team is an underdog. A +200 moneyline indicates the team is a heavy underdog."
   ]
  },
  {
   "cell_type": "code",
   "execution_count": 50,
   "metadata": {},
   "outputs": [],
   "source": [
    "moneylines = []\n",
    "for probs in todays_probs:\n",
    "    game_moneyline = []\n",
    "    for prob in probs:\n",
    "        if prob > .5:\n",
    "            moneyline = np.round(-(prob)/(1-prob) * 100, 0)\n",
    "        else:\n",
    "            moneyline = np.round(((1 - prob)/(prob) * 100), 0)\n",
    "        game_moneyline.append(moneyline)\n",
    "    moneylines.append(game_moneyline)\n",
    "        \n",
    "        "
   ]
  },
  {
   "cell_type": "code",
   "execution_count": 51,
   "metadata": {},
   "outputs": [
    {
     "data": {
      "text/plain": [
       "[[110.0, -110.0],\n",
       " [-101.0, 101.0],\n",
       " [102.0, -102.0],\n",
       " [100.0, -100.0],\n",
       " [107.0, -107.0],\n",
       " [170.0, -170.0],\n",
       " [163.0, -163.0],\n",
       " [185.0, -185.0],\n",
       " [177.0, -177.0],\n",
       " [-132.0, 132.0],\n",
       " [101.0, -101.0],\n",
       " [-106.0, 106.0],\n",
       " [-114.0, 114.0],\n",
       " [126.0, -126.0]]"
      ]
     },
     "execution_count": 51,
     "metadata": {},
     "output_type": "execute_result"
    }
   ],
   "source": [
    "moneylines"
   ]
  },
  {
   "cell_type": "code",
   "execution_count": 52,
   "metadata": {},
   "outputs": [],
   "source": [
    "away_ML = [ml[0] for ml in moneylines]\n",
    "home_ML = [ml[1] for ml in moneylines]"
   ]
  },
  {
   "cell_type": "code",
   "execution_count": 53,
   "metadata": {},
   "outputs": [],
   "source": [
    "todays_game_data['Away_ML'] = away_ML\n",
    "todays_game_data['Home_ML'] = home_ML"
   ]
  },
  {
   "cell_type": "code",
   "execution_count": 54,
   "metadata": {},
   "outputs": [],
   "source": [
    "# todays_results = [0, 0, 0, 0, 0, 0, 0, 0, 0, 0, 0, 0, 0, 0, 1]"
   ]
  },
  {
   "cell_type": "code",
   "execution_count": 55,
   "metadata": {},
   "outputs": [],
   "source": [
    "todays_game_data['Result'] = None"
   ]
  },
  {
   "cell_type": "code",
   "execution_count": 56,
   "metadata": {},
   "outputs": [],
   "source": [
    "todays_game_data['A_Amt_Bet'] = 0\n",
    "todays_game_data['H_Amt_Bet'] = 0"
   ]
  },
  {
   "cell_type": "code",
   "execution_count": 57,
   "metadata": {},
   "outputs": [],
   "source": [
    "# X_new"
   ]
  },
  {
   "cell_type": "code",
   "execution_count": 58,
   "metadata": {},
   "outputs": [],
   "source": [
    "todays_game_data = todays_game_data[['Pred', 'Away_Prob', 'Home_Prob', 'Away_ML', 'Home_ML', 'A_Amt_Bet', 'H_Amt_Bet', 'Result']]"
   ]
  },
  {
   "cell_type": "code",
   "execution_count": 59,
   "metadata": {},
   "outputs": [
    {
     "data": {
      "text/html": [
       "<div>\n",
       "<style scoped>\n",
       "    .dataframe tbody tr th:only-of-type {\n",
       "        vertical-align: middle;\n",
       "    }\n",
       "\n",
       "    .dataframe tbody tr th {\n",
       "        vertical-align: top;\n",
       "    }\n",
       "\n",
       "    .dataframe thead th {\n",
       "        text-align: right;\n",
       "    }\n",
       "</style>\n",
       "<table border=\"1\" class=\"dataframe\">\n",
       "  <thead>\n",
       "    <tr style=\"text-align: right;\">\n",
       "      <th></th>\n",
       "      <th></th>\n",
       "      <th></th>\n",
       "      <th></th>\n",
       "      <th></th>\n",
       "      <th>Pred</th>\n",
       "      <th>Away_Prob</th>\n",
       "      <th>Home_Prob</th>\n",
       "      <th>Away_ML</th>\n",
       "      <th>Home_ML</th>\n",
       "      <th>A_Amt_Bet</th>\n",
       "      <th>H_Amt_Bet</th>\n",
       "      <th>Result</th>\n",
       "    </tr>\n",
       "    <tr>\n",
       "      <th>Away</th>\n",
       "      <th>Home</th>\n",
       "      <th>A_Starter</th>\n",
       "      <th>H_Starter</th>\n",
       "      <th>Date</th>\n",
       "      <th></th>\n",
       "      <th></th>\n",
       "      <th></th>\n",
       "      <th></th>\n",
       "      <th></th>\n",
       "      <th></th>\n",
       "      <th></th>\n",
       "      <th></th>\n",
       "    </tr>\n",
       "  </thead>\n",
       "  <tbody>\n",
       "    <tr>\n",
       "      <th>CLE</th>\n",
       "      <th>CIN</th>\n",
       "      <th>Logan Allen</th>\n",
       "      <th>Graham Ashcraft</th>\n",
       "      <th>2023-08-15</th>\n",
       "      <td>1</td>\n",
       "      <td>0.476481</td>\n",
       "      <td>0.523519</td>\n",
       "      <td>110.0</td>\n",
       "      <td>-110.0</td>\n",
       "      <td>0</td>\n",
       "      <td>0</td>\n",
       "      <td>None</td>\n",
       "    </tr>\n",
       "    <tr>\n",
       "      <th>HOU</th>\n",
       "      <th>MIA</th>\n",
       "      <th>Cristian Javier</th>\n",
       "      <th>Johnny Cueto</th>\n",
       "      <th>2023-08-15</th>\n",
       "      <td>0</td>\n",
       "      <td>0.502865</td>\n",
       "      <td>0.497135</td>\n",
       "      <td>-101.0</td>\n",
       "      <td>101.0</td>\n",
       "      <td>0</td>\n",
       "      <td>0</td>\n",
       "      <td>None</td>\n",
       "    </tr>\n",
       "    <tr>\n",
       "      <th>BOS</th>\n",
       "      <th>WSN</th>\n",
       "      <th>Nick Pivetta</th>\n",
       "      <th>Josiah Gray</th>\n",
       "      <th>2023-08-15</th>\n",
       "      <td>1</td>\n",
       "      <td>0.494215</td>\n",
       "      <td>0.505785</td>\n",
       "      <td>102.0</td>\n",
       "      <td>-102.0</td>\n",
       "      <td>0</td>\n",
       "      <td>0</td>\n",
       "      <td>None</td>\n",
       "    </tr>\n",
       "    <tr>\n",
       "      <th>PHI</th>\n",
       "      <th>TOR</th>\n",
       "      <th>Zack Wheeler</th>\n",
       "      <th>Yusei Kikuchi</th>\n",
       "      <th>2023-08-15</th>\n",
       "      <td>1</td>\n",
       "      <td>0.499668</td>\n",
       "      <td>0.500332</td>\n",
       "      <td>100.0</td>\n",
       "      <td>-100.0</td>\n",
       "      <td>0</td>\n",
       "      <td>0</td>\n",
       "      <td>None</td>\n",
       "    </tr>\n",
       "    <tr>\n",
       "      <th>PIT</th>\n",
       "      <th>NYM</th>\n",
       "      <th>Bailey Falter</th>\n",
       "      <th>David Peterson</th>\n",
       "      <th>2023-08-15</th>\n",
       "      <td>1</td>\n",
       "      <td>0.483597</td>\n",
       "      <td>0.516403</td>\n",
       "      <td>107.0</td>\n",
       "      <td>-107.0</td>\n",
       "      <td>0</td>\n",
       "      <td>0</td>\n",
       "      <td>None</td>\n",
       "    </tr>\n",
       "    <tr>\n",
       "      <th>NYY</th>\n",
       "      <th>ATL</th>\n",
       "      <th>Luis Severino</th>\n",
       "      <th>Bryce Elder</th>\n",
       "      <th>2023-08-15</th>\n",
       "      <td>1</td>\n",
       "      <td>0.370005</td>\n",
       "      <td>0.629995</td>\n",
       "      <td>170.0</td>\n",
       "      <td>-170.0</td>\n",
       "      <td>0</td>\n",
       "      <td>0</td>\n",
       "      <td>None</td>\n",
       "    </tr>\n",
       "    <tr>\n",
       "      <th>DET</th>\n",
       "      <th>MIN</th>\n",
       "      <th>Alex Faedo</th>\n",
       "      <th>Bailey Ober</th>\n",
       "      <th>2023-08-15</th>\n",
       "      <td>1</td>\n",
       "      <td>0.380201</td>\n",
       "      <td>0.619799</td>\n",
       "      <td>163.0</td>\n",
       "      <td>-163.0</td>\n",
       "      <td>0</td>\n",
       "      <td>0</td>\n",
       "      <td>None</td>\n",
       "    </tr>\n",
       "    <tr>\n",
       "      <th>LAA</th>\n",
       "      <th>TEX</th>\n",
       "      <th>Lucas Giolito</th>\n",
       "      <th>Jordan Montgomery</th>\n",
       "      <th>2023-08-15</th>\n",
       "      <td>1</td>\n",
       "      <td>0.351401</td>\n",
       "      <td>0.648599</td>\n",
       "      <td>185.0</td>\n",
       "      <td>-185.0</td>\n",
       "      <td>0</td>\n",
       "      <td>0</td>\n",
       "      <td>None</td>\n",
       "    </tr>\n",
       "    <tr>\n",
       "      <th>CHW</th>\n",
       "      <th>CHC</th>\n",
       "      <th>Touki Toussaint</th>\n",
       "      <th>Kyle Hendricks</th>\n",
       "      <th>2023-08-15</th>\n",
       "      <td>1</td>\n",
       "      <td>0.360697</td>\n",
       "      <td>0.639303</td>\n",
       "      <td>177.0</td>\n",
       "      <td>-177.0</td>\n",
       "      <td>0</td>\n",
       "      <td>0</td>\n",
       "      <td>None</td>\n",
       "    </tr>\n",
       "    <tr>\n",
       "      <th>SEA</th>\n",
       "      <th>KCR</th>\n",
       "      <th>Emerson Hancock</th>\n",
       "      <th>Jordan Lyles</th>\n",
       "      <th>2023-08-15</th>\n",
       "      <td>0</td>\n",
       "      <td>0.568606</td>\n",
       "      <td>0.431394</td>\n",
       "      <td>-132.0</td>\n",
       "      <td>132.0</td>\n",
       "      <td>0</td>\n",
       "      <td>0</td>\n",
       "      <td>None</td>\n",
       "    </tr>\n",
       "    <tr>\n",
       "      <th>ARI</th>\n",
       "      <th>COL</th>\n",
       "      <th>Joe Mantiply</th>\n",
       "      <th>Ty Blach</th>\n",
       "      <th>2023-08-15</th>\n",
       "      <td>1</td>\n",
       "      <td>0.498379</td>\n",
       "      <td>0.501621</td>\n",
       "      <td>101.0</td>\n",
       "      <td>-101.0</td>\n",
       "      <td>0</td>\n",
       "      <td>0</td>\n",
       "      <td>None</td>\n",
       "    </tr>\n",
       "    <tr>\n",
       "      <th>BAL</th>\n",
       "      <th>SDP</th>\n",
       "      <th>Jack Flaherty</th>\n",
       "      <th>Michael Wacha</th>\n",
       "      <th>2023-08-15</th>\n",
       "      <td>0</td>\n",
       "      <td>0.514322</td>\n",
       "      <td>0.485678</td>\n",
       "      <td>-106.0</td>\n",
       "      <td>106.0</td>\n",
       "      <td>0</td>\n",
       "      <td>0</td>\n",
       "      <td>None</td>\n",
       "    </tr>\n",
       "    <tr>\n",
       "      <th>TBR</th>\n",
       "      <th>SFG</th>\n",
       "      <th>Zack Littell</th>\n",
       "      <th>Jakob Junis</th>\n",
       "      <th>2023-08-15</th>\n",
       "      <td>0</td>\n",
       "      <td>0.532452</td>\n",
       "      <td>0.467548</td>\n",
       "      <td>-114.0</td>\n",
       "      <td>114.0</td>\n",
       "      <td>0</td>\n",
       "      <td>0</td>\n",
       "      <td>None</td>\n",
       "    </tr>\n",
       "    <tr>\n",
       "      <th>MIL</th>\n",
       "      <th>LAD</th>\n",
       "      <th>Adrian Houser</th>\n",
       "      <th>Bobby Miller</th>\n",
       "      <th>2023-08-15</th>\n",
       "      <td>1</td>\n",
       "      <td>0.441688</td>\n",
       "      <td>0.558312</td>\n",
       "      <td>126.0</td>\n",
       "      <td>-126.0</td>\n",
       "      <td>0</td>\n",
       "      <td>0</td>\n",
       "      <td>None</td>\n",
       "    </tr>\n",
       "  </tbody>\n",
       "</table>\n",
       "</div>"
      ],
      "text/plain": [
       "                                                        Pred  Away_Prob  \\\n",
       "Away Home A_Starter       H_Starter         Date                          \n",
       "CLE  CIN  Logan Allen     Graham Ashcraft   2023-08-15     1   0.476481   \n",
       "HOU  MIA  Cristian Javier Johnny Cueto      2023-08-15     0   0.502865   \n",
       "BOS  WSN  Nick Pivetta    Josiah Gray       2023-08-15     1   0.494215   \n",
       "PHI  TOR  Zack Wheeler    Yusei Kikuchi     2023-08-15     1   0.499668   \n",
       "PIT  NYM  Bailey Falter   David Peterson    2023-08-15     1   0.483597   \n",
       "NYY  ATL  Luis Severino   Bryce Elder       2023-08-15     1   0.370005   \n",
       "DET  MIN  Alex Faedo      Bailey Ober       2023-08-15     1   0.380201   \n",
       "LAA  TEX  Lucas Giolito   Jordan Montgomery 2023-08-15     1   0.351401   \n",
       "CHW  CHC  Touki Toussaint Kyle Hendricks    2023-08-15     1   0.360697   \n",
       "SEA  KCR  Emerson Hancock Jordan Lyles      2023-08-15     0   0.568606   \n",
       "ARI  COL  Joe Mantiply    Ty Blach          2023-08-15     1   0.498379   \n",
       "BAL  SDP  Jack Flaherty   Michael Wacha     2023-08-15     0   0.514322   \n",
       "TBR  SFG  Zack Littell    Jakob Junis       2023-08-15     0   0.532452   \n",
       "MIL  LAD  Adrian Houser   Bobby Miller      2023-08-15     1   0.441688   \n",
       "\n",
       "                                                        Home_Prob  Away_ML  \\\n",
       "Away Home A_Starter       H_Starter         Date                             \n",
       "CLE  CIN  Logan Allen     Graham Ashcraft   2023-08-15   0.523519    110.0   \n",
       "HOU  MIA  Cristian Javier Johnny Cueto      2023-08-15   0.497135   -101.0   \n",
       "BOS  WSN  Nick Pivetta    Josiah Gray       2023-08-15   0.505785    102.0   \n",
       "PHI  TOR  Zack Wheeler    Yusei Kikuchi     2023-08-15   0.500332    100.0   \n",
       "PIT  NYM  Bailey Falter   David Peterson    2023-08-15   0.516403    107.0   \n",
       "NYY  ATL  Luis Severino   Bryce Elder       2023-08-15   0.629995    170.0   \n",
       "DET  MIN  Alex Faedo      Bailey Ober       2023-08-15   0.619799    163.0   \n",
       "LAA  TEX  Lucas Giolito   Jordan Montgomery 2023-08-15   0.648599    185.0   \n",
       "CHW  CHC  Touki Toussaint Kyle Hendricks    2023-08-15   0.639303    177.0   \n",
       "SEA  KCR  Emerson Hancock Jordan Lyles      2023-08-15   0.431394   -132.0   \n",
       "ARI  COL  Joe Mantiply    Ty Blach          2023-08-15   0.501621    101.0   \n",
       "BAL  SDP  Jack Flaherty   Michael Wacha     2023-08-15   0.485678   -106.0   \n",
       "TBR  SFG  Zack Littell    Jakob Junis       2023-08-15   0.467548   -114.0   \n",
       "MIL  LAD  Adrian Houser   Bobby Miller      2023-08-15   0.558312    126.0   \n",
       "\n",
       "                                                        Home_ML  A_Amt_Bet  \\\n",
       "Away Home A_Starter       H_Starter         Date                             \n",
       "CLE  CIN  Logan Allen     Graham Ashcraft   2023-08-15   -110.0          0   \n",
       "HOU  MIA  Cristian Javier Johnny Cueto      2023-08-15    101.0          0   \n",
       "BOS  WSN  Nick Pivetta    Josiah Gray       2023-08-15   -102.0          0   \n",
       "PHI  TOR  Zack Wheeler    Yusei Kikuchi     2023-08-15   -100.0          0   \n",
       "PIT  NYM  Bailey Falter   David Peterson    2023-08-15   -107.0          0   \n",
       "NYY  ATL  Luis Severino   Bryce Elder       2023-08-15   -170.0          0   \n",
       "DET  MIN  Alex Faedo      Bailey Ober       2023-08-15   -163.0          0   \n",
       "LAA  TEX  Lucas Giolito   Jordan Montgomery 2023-08-15   -185.0          0   \n",
       "CHW  CHC  Touki Toussaint Kyle Hendricks    2023-08-15   -177.0          0   \n",
       "SEA  KCR  Emerson Hancock Jordan Lyles      2023-08-15    132.0          0   \n",
       "ARI  COL  Joe Mantiply    Ty Blach          2023-08-15   -101.0          0   \n",
       "BAL  SDP  Jack Flaherty   Michael Wacha     2023-08-15    106.0          0   \n",
       "TBR  SFG  Zack Littell    Jakob Junis       2023-08-15    114.0          0   \n",
       "MIL  LAD  Adrian Houser   Bobby Miller      2023-08-15   -126.0          0   \n",
       "\n",
       "                                                        H_Amt_Bet Result  \n",
       "Away Home A_Starter       H_Starter         Date                          \n",
       "CLE  CIN  Logan Allen     Graham Ashcraft   2023-08-15          0   None  \n",
       "HOU  MIA  Cristian Javier Johnny Cueto      2023-08-15          0   None  \n",
       "BOS  WSN  Nick Pivetta    Josiah Gray       2023-08-15          0   None  \n",
       "PHI  TOR  Zack Wheeler    Yusei Kikuchi     2023-08-15          0   None  \n",
       "PIT  NYM  Bailey Falter   David Peterson    2023-08-15          0   None  \n",
       "NYY  ATL  Luis Severino   Bryce Elder       2023-08-15          0   None  \n",
       "DET  MIN  Alex Faedo      Bailey Ober       2023-08-15          0   None  \n",
       "LAA  TEX  Lucas Giolito   Jordan Montgomery 2023-08-15          0   None  \n",
       "CHW  CHC  Touki Toussaint Kyle Hendricks    2023-08-15          0   None  \n",
       "SEA  KCR  Emerson Hancock Jordan Lyles      2023-08-15          0   None  \n",
       "ARI  COL  Joe Mantiply    Ty Blach          2023-08-15          0   None  \n",
       "BAL  SDP  Jack Flaherty   Michael Wacha     2023-08-15          0   None  \n",
       "TBR  SFG  Zack Littell    Jakob Junis       2023-08-15          0   None  \n",
       "MIL  LAD  Adrian Houser   Bobby Miller      2023-08-15          0   None  "
      ]
     },
     "execution_count": 59,
     "metadata": {},
     "output_type": "execute_result"
    }
   ],
   "source": [
    "todays_game_data"
   ]
  },
  {
   "cell_type": "markdown",
   "metadata": {},
   "source": [
    "# Predictions sorted by heaviest home favorite\n",
    "Finally, we have our predictions, sorted by biggest home favorite.<br>\n",
    "\n",
    "**Be sure to run the three cells that follow this displayed dataframe. It adds Money_Won and Profit columns and stores it in a CSV so that we can evaluate the model when we have the results of the games.**\n",
    "\n",
    "We keep the starting pitchers' names here so that we can confirm one last time that the pitcher is starting before we put money down on the game."
   ]
  },
  {
   "cell_type": "code",
   "execution_count": 60,
   "metadata": {},
   "outputs": [],
   "source": [
    "todays_game_data_sorted = todays_game_data.sort_values(by = 'Home_ML')"
   ]
  },
  {
   "cell_type": "code",
   "execution_count": 61,
   "metadata": {},
   "outputs": [
    {
     "data": {
      "text/html": [
       "<div>\n",
       "<style scoped>\n",
       "    .dataframe tbody tr th:only-of-type {\n",
       "        vertical-align: middle;\n",
       "    }\n",
       "\n",
       "    .dataframe tbody tr th {\n",
       "        vertical-align: top;\n",
       "    }\n",
       "\n",
       "    .dataframe thead th {\n",
       "        text-align: right;\n",
       "    }\n",
       "</style>\n",
       "<table border=\"1\" class=\"dataframe\">\n",
       "  <thead>\n",
       "    <tr style=\"text-align: right;\">\n",
       "      <th></th>\n",
       "      <th></th>\n",
       "      <th></th>\n",
       "      <th></th>\n",
       "      <th></th>\n",
       "      <th>Pred</th>\n",
       "      <th>Away_Prob</th>\n",
       "      <th>Home_Prob</th>\n",
       "      <th>Away_ML</th>\n",
       "      <th>Home_ML</th>\n",
       "      <th>A_Amt_Bet</th>\n",
       "      <th>H_Amt_Bet</th>\n",
       "      <th>Result</th>\n",
       "    </tr>\n",
       "    <tr>\n",
       "      <th>Away</th>\n",
       "      <th>Home</th>\n",
       "      <th>A_Starter</th>\n",
       "      <th>H_Starter</th>\n",
       "      <th>Date</th>\n",
       "      <th></th>\n",
       "      <th></th>\n",
       "      <th></th>\n",
       "      <th></th>\n",
       "      <th></th>\n",
       "      <th></th>\n",
       "      <th></th>\n",
       "      <th></th>\n",
       "    </tr>\n",
       "  </thead>\n",
       "  <tbody>\n",
       "    <tr>\n",
       "      <th>LAA</th>\n",
       "      <th>TEX</th>\n",
       "      <th>Lucas Giolito</th>\n",
       "      <th>Jordan Montgomery</th>\n",
       "      <th>2023-08-15</th>\n",
       "      <td>1</td>\n",
       "      <td>0.351401</td>\n",
       "      <td>0.648599</td>\n",
       "      <td>185.0</td>\n",
       "      <td>-185.0</td>\n",
       "      <td>0</td>\n",
       "      <td>0</td>\n",
       "      <td>None</td>\n",
       "    </tr>\n",
       "    <tr>\n",
       "      <th>CHW</th>\n",
       "      <th>CHC</th>\n",
       "      <th>Touki Toussaint</th>\n",
       "      <th>Kyle Hendricks</th>\n",
       "      <th>2023-08-15</th>\n",
       "      <td>1</td>\n",
       "      <td>0.360697</td>\n",
       "      <td>0.639303</td>\n",
       "      <td>177.0</td>\n",
       "      <td>-177.0</td>\n",
       "      <td>0</td>\n",
       "      <td>0</td>\n",
       "      <td>None</td>\n",
       "    </tr>\n",
       "    <tr>\n",
       "      <th>NYY</th>\n",
       "      <th>ATL</th>\n",
       "      <th>Luis Severino</th>\n",
       "      <th>Bryce Elder</th>\n",
       "      <th>2023-08-15</th>\n",
       "      <td>1</td>\n",
       "      <td>0.370005</td>\n",
       "      <td>0.629995</td>\n",
       "      <td>170.0</td>\n",
       "      <td>-170.0</td>\n",
       "      <td>0</td>\n",
       "      <td>0</td>\n",
       "      <td>None</td>\n",
       "    </tr>\n",
       "    <tr>\n",
       "      <th>DET</th>\n",
       "      <th>MIN</th>\n",
       "      <th>Alex Faedo</th>\n",
       "      <th>Bailey Ober</th>\n",
       "      <th>2023-08-15</th>\n",
       "      <td>1</td>\n",
       "      <td>0.380201</td>\n",
       "      <td>0.619799</td>\n",
       "      <td>163.0</td>\n",
       "      <td>-163.0</td>\n",
       "      <td>0</td>\n",
       "      <td>0</td>\n",
       "      <td>None</td>\n",
       "    </tr>\n",
       "    <tr>\n",
       "      <th>MIL</th>\n",
       "      <th>LAD</th>\n",
       "      <th>Adrian Houser</th>\n",
       "      <th>Bobby Miller</th>\n",
       "      <th>2023-08-15</th>\n",
       "      <td>1</td>\n",
       "      <td>0.441688</td>\n",
       "      <td>0.558312</td>\n",
       "      <td>126.0</td>\n",
       "      <td>-126.0</td>\n",
       "      <td>0</td>\n",
       "      <td>0</td>\n",
       "      <td>None</td>\n",
       "    </tr>\n",
       "    <tr>\n",
       "      <th>CLE</th>\n",
       "      <th>CIN</th>\n",
       "      <th>Logan Allen</th>\n",
       "      <th>Graham Ashcraft</th>\n",
       "      <th>2023-08-15</th>\n",
       "      <td>1</td>\n",
       "      <td>0.476481</td>\n",
       "      <td>0.523519</td>\n",
       "      <td>110.0</td>\n",
       "      <td>-110.0</td>\n",
       "      <td>0</td>\n",
       "      <td>0</td>\n",
       "      <td>None</td>\n",
       "    </tr>\n",
       "    <tr>\n",
       "      <th>PIT</th>\n",
       "      <th>NYM</th>\n",
       "      <th>Bailey Falter</th>\n",
       "      <th>David Peterson</th>\n",
       "      <th>2023-08-15</th>\n",
       "      <td>1</td>\n",
       "      <td>0.483597</td>\n",
       "      <td>0.516403</td>\n",
       "      <td>107.0</td>\n",
       "      <td>-107.0</td>\n",
       "      <td>0</td>\n",
       "      <td>0</td>\n",
       "      <td>None</td>\n",
       "    </tr>\n",
       "    <tr>\n",
       "      <th>BOS</th>\n",
       "      <th>WSN</th>\n",
       "      <th>Nick Pivetta</th>\n",
       "      <th>Josiah Gray</th>\n",
       "      <th>2023-08-15</th>\n",
       "      <td>1</td>\n",
       "      <td>0.494215</td>\n",
       "      <td>0.505785</td>\n",
       "      <td>102.0</td>\n",
       "      <td>-102.0</td>\n",
       "      <td>0</td>\n",
       "      <td>0</td>\n",
       "      <td>None</td>\n",
       "    </tr>\n",
       "    <tr>\n",
       "      <th>ARI</th>\n",
       "      <th>COL</th>\n",
       "      <th>Joe Mantiply</th>\n",
       "      <th>Ty Blach</th>\n",
       "      <th>2023-08-15</th>\n",
       "      <td>1</td>\n",
       "      <td>0.498379</td>\n",
       "      <td>0.501621</td>\n",
       "      <td>101.0</td>\n",
       "      <td>-101.0</td>\n",
       "      <td>0</td>\n",
       "      <td>0</td>\n",
       "      <td>None</td>\n",
       "    </tr>\n",
       "    <tr>\n",
       "      <th>PHI</th>\n",
       "      <th>TOR</th>\n",
       "      <th>Zack Wheeler</th>\n",
       "      <th>Yusei Kikuchi</th>\n",
       "      <th>2023-08-15</th>\n",
       "      <td>1</td>\n",
       "      <td>0.499668</td>\n",
       "      <td>0.500332</td>\n",
       "      <td>100.0</td>\n",
       "      <td>-100.0</td>\n",
       "      <td>0</td>\n",
       "      <td>0</td>\n",
       "      <td>None</td>\n",
       "    </tr>\n",
       "    <tr>\n",
       "      <th>HOU</th>\n",
       "      <th>MIA</th>\n",
       "      <th>Cristian Javier</th>\n",
       "      <th>Johnny Cueto</th>\n",
       "      <th>2023-08-15</th>\n",
       "      <td>0</td>\n",
       "      <td>0.502865</td>\n",
       "      <td>0.497135</td>\n",
       "      <td>-101.0</td>\n",
       "      <td>101.0</td>\n",
       "      <td>0</td>\n",
       "      <td>0</td>\n",
       "      <td>None</td>\n",
       "    </tr>\n",
       "    <tr>\n",
       "      <th>BAL</th>\n",
       "      <th>SDP</th>\n",
       "      <th>Jack Flaherty</th>\n",
       "      <th>Michael Wacha</th>\n",
       "      <th>2023-08-15</th>\n",
       "      <td>0</td>\n",
       "      <td>0.514322</td>\n",
       "      <td>0.485678</td>\n",
       "      <td>-106.0</td>\n",
       "      <td>106.0</td>\n",
       "      <td>0</td>\n",
       "      <td>0</td>\n",
       "      <td>None</td>\n",
       "    </tr>\n",
       "    <tr>\n",
       "      <th>TBR</th>\n",
       "      <th>SFG</th>\n",
       "      <th>Zack Littell</th>\n",
       "      <th>Jakob Junis</th>\n",
       "      <th>2023-08-15</th>\n",
       "      <td>0</td>\n",
       "      <td>0.532452</td>\n",
       "      <td>0.467548</td>\n",
       "      <td>-114.0</td>\n",
       "      <td>114.0</td>\n",
       "      <td>0</td>\n",
       "      <td>0</td>\n",
       "      <td>None</td>\n",
       "    </tr>\n",
       "    <tr>\n",
       "      <th>SEA</th>\n",
       "      <th>KCR</th>\n",
       "      <th>Emerson Hancock</th>\n",
       "      <th>Jordan Lyles</th>\n",
       "      <th>2023-08-15</th>\n",
       "      <td>0</td>\n",
       "      <td>0.568606</td>\n",
       "      <td>0.431394</td>\n",
       "      <td>-132.0</td>\n",
       "      <td>132.0</td>\n",
       "      <td>0</td>\n",
       "      <td>0</td>\n",
       "      <td>None</td>\n",
       "    </tr>\n",
       "  </tbody>\n",
       "</table>\n",
       "</div>"
      ],
      "text/plain": [
       "                                                        Pred  Away_Prob  \\\n",
       "Away Home A_Starter       H_Starter         Date                          \n",
       "LAA  TEX  Lucas Giolito   Jordan Montgomery 2023-08-15     1   0.351401   \n",
       "CHW  CHC  Touki Toussaint Kyle Hendricks    2023-08-15     1   0.360697   \n",
       "NYY  ATL  Luis Severino   Bryce Elder       2023-08-15     1   0.370005   \n",
       "DET  MIN  Alex Faedo      Bailey Ober       2023-08-15     1   0.380201   \n",
       "MIL  LAD  Adrian Houser   Bobby Miller      2023-08-15     1   0.441688   \n",
       "CLE  CIN  Logan Allen     Graham Ashcraft   2023-08-15     1   0.476481   \n",
       "PIT  NYM  Bailey Falter   David Peterson    2023-08-15     1   0.483597   \n",
       "BOS  WSN  Nick Pivetta    Josiah Gray       2023-08-15     1   0.494215   \n",
       "ARI  COL  Joe Mantiply    Ty Blach          2023-08-15     1   0.498379   \n",
       "PHI  TOR  Zack Wheeler    Yusei Kikuchi     2023-08-15     1   0.499668   \n",
       "HOU  MIA  Cristian Javier Johnny Cueto      2023-08-15     0   0.502865   \n",
       "BAL  SDP  Jack Flaherty   Michael Wacha     2023-08-15     0   0.514322   \n",
       "TBR  SFG  Zack Littell    Jakob Junis       2023-08-15     0   0.532452   \n",
       "SEA  KCR  Emerson Hancock Jordan Lyles      2023-08-15     0   0.568606   \n",
       "\n",
       "                                                        Home_Prob  Away_ML  \\\n",
       "Away Home A_Starter       H_Starter         Date                             \n",
       "LAA  TEX  Lucas Giolito   Jordan Montgomery 2023-08-15   0.648599    185.0   \n",
       "CHW  CHC  Touki Toussaint Kyle Hendricks    2023-08-15   0.639303    177.0   \n",
       "NYY  ATL  Luis Severino   Bryce Elder       2023-08-15   0.629995    170.0   \n",
       "DET  MIN  Alex Faedo      Bailey Ober       2023-08-15   0.619799    163.0   \n",
       "MIL  LAD  Adrian Houser   Bobby Miller      2023-08-15   0.558312    126.0   \n",
       "CLE  CIN  Logan Allen     Graham Ashcraft   2023-08-15   0.523519    110.0   \n",
       "PIT  NYM  Bailey Falter   David Peterson    2023-08-15   0.516403    107.0   \n",
       "BOS  WSN  Nick Pivetta    Josiah Gray       2023-08-15   0.505785    102.0   \n",
       "ARI  COL  Joe Mantiply    Ty Blach          2023-08-15   0.501621    101.0   \n",
       "PHI  TOR  Zack Wheeler    Yusei Kikuchi     2023-08-15   0.500332    100.0   \n",
       "HOU  MIA  Cristian Javier Johnny Cueto      2023-08-15   0.497135   -101.0   \n",
       "BAL  SDP  Jack Flaherty   Michael Wacha     2023-08-15   0.485678   -106.0   \n",
       "TBR  SFG  Zack Littell    Jakob Junis       2023-08-15   0.467548   -114.0   \n",
       "SEA  KCR  Emerson Hancock Jordan Lyles      2023-08-15   0.431394   -132.0   \n",
       "\n",
       "                                                        Home_ML  A_Amt_Bet  \\\n",
       "Away Home A_Starter       H_Starter         Date                             \n",
       "LAA  TEX  Lucas Giolito   Jordan Montgomery 2023-08-15   -185.0          0   \n",
       "CHW  CHC  Touki Toussaint Kyle Hendricks    2023-08-15   -177.0          0   \n",
       "NYY  ATL  Luis Severino   Bryce Elder       2023-08-15   -170.0          0   \n",
       "DET  MIN  Alex Faedo      Bailey Ober       2023-08-15   -163.0          0   \n",
       "MIL  LAD  Adrian Houser   Bobby Miller      2023-08-15   -126.0          0   \n",
       "CLE  CIN  Logan Allen     Graham Ashcraft   2023-08-15   -110.0          0   \n",
       "PIT  NYM  Bailey Falter   David Peterson    2023-08-15   -107.0          0   \n",
       "BOS  WSN  Nick Pivetta    Josiah Gray       2023-08-15   -102.0          0   \n",
       "ARI  COL  Joe Mantiply    Ty Blach          2023-08-15   -101.0          0   \n",
       "PHI  TOR  Zack Wheeler    Yusei Kikuchi     2023-08-15   -100.0          0   \n",
       "HOU  MIA  Cristian Javier Johnny Cueto      2023-08-15    101.0          0   \n",
       "BAL  SDP  Jack Flaherty   Michael Wacha     2023-08-15    106.0          0   \n",
       "TBR  SFG  Zack Littell    Jakob Junis       2023-08-15    114.0          0   \n",
       "SEA  KCR  Emerson Hancock Jordan Lyles      2023-08-15    132.0          0   \n",
       "\n",
       "                                                        H_Amt_Bet Result  \n",
       "Away Home A_Starter       H_Starter         Date                          \n",
       "LAA  TEX  Lucas Giolito   Jordan Montgomery 2023-08-15          0   None  \n",
       "CHW  CHC  Touki Toussaint Kyle Hendricks    2023-08-15          0   None  \n",
       "NYY  ATL  Luis Severino   Bryce Elder       2023-08-15          0   None  \n",
       "DET  MIN  Alex Faedo      Bailey Ober       2023-08-15          0   None  \n",
       "MIL  LAD  Adrian Houser   Bobby Miller      2023-08-15          0   None  \n",
       "CLE  CIN  Logan Allen     Graham Ashcraft   2023-08-15          0   None  \n",
       "PIT  NYM  Bailey Falter   David Peterson    2023-08-15          0   None  \n",
       "BOS  WSN  Nick Pivetta    Josiah Gray       2023-08-15          0   None  \n",
       "ARI  COL  Joe Mantiply    Ty Blach          2023-08-15          0   None  \n",
       "PHI  TOR  Zack Wheeler    Yusei Kikuchi     2023-08-15          0   None  \n",
       "HOU  MIA  Cristian Javier Johnny Cueto      2023-08-15          0   None  \n",
       "BAL  SDP  Jack Flaherty   Michael Wacha     2023-08-15          0   None  \n",
       "TBR  SFG  Zack Littell    Jakob Junis       2023-08-15          0   None  \n",
       "SEA  KCR  Emerson Hancock Jordan Lyles      2023-08-15          0   None  "
      ]
     },
     "execution_count": 61,
     "metadata": {},
     "output_type": "execute_result"
    }
   ],
   "source": [
    "todays_game_data_sorted"
   ]
  },
  {
   "cell_type": "code",
   "execution_count": 62,
   "metadata": {},
   "outputs": [],
   "source": [
    "todays_game_data['Money_Won'] = 0"
   ]
  },
  {
   "cell_type": "code",
   "execution_count": 63,
   "metadata": {},
   "outputs": [],
   "source": [
    "todays_game_data['Profit'] = 0"
   ]
  },
  {
   "cell_type": "code",
   "execution_count": 64,
   "metadata": {},
   "outputs": [],
   "source": [
    "#Store in csv\n",
    "filepath = r'C:\\Users\\Owner\\Sports Betting\\MLB_Game_Outcome\\Predictions_Results_' + today_str + '.csv'\n",
    "todays_game_data.to_csv(filepath)"
   ]
  },
  {
   "cell_type": "code",
   "execution_count": null,
   "metadata": {},
   "outputs": [],
   "source": []
  },
  {
   "cell_type": "markdown",
   "metadata": {},
   "source": [
    "# Decision Tree Classifier"
   ]
  },
  {
   "cell_type": "code",
   "execution_count": 231,
   "metadata": {},
   "outputs": [],
   "source": [
    "from sklearn.tree import DecisionTreeClassifier"
   ]
  },
  {
   "cell_type": "code",
   "execution_count": 232,
   "metadata": {},
   "outputs": [],
   "source": [
    "params = {'max_depth': [2, 3, 4, 5, 6]}"
   ]
  },
  {
   "cell_type": "code",
   "execution_count": 233,
   "metadata": {},
   "outputs": [],
   "source": [
    "dt = DecisionTreeClassifier()"
   ]
  },
  {
   "cell_type": "code",
   "execution_count": 234,
   "metadata": {},
   "outputs": [],
   "source": [
    "grid_search_dt = GridSearchCV(dt, params, cv=5, scoring = 'accuracy', verbose = 1)"
   ]
  },
  {
   "cell_type": "code",
   "execution_count": 235,
   "metadata": {},
   "outputs": [
    {
     "name": "stdout",
     "output_type": "stream",
     "text": [
      "Fitting 5 folds for each of 5 candidates, totalling 25 fits\n"
     ]
    },
    {
     "name": "stderr",
     "output_type": "stream",
     "text": [
      "[Parallel(n_jobs=1)]: Using backend SequentialBackend with 1 concurrent workers.\n",
      "[Parallel(n_jobs=1)]: Done  25 out of  25 | elapsed:    0.8s finished\n"
     ]
    },
    {
     "data": {
      "text/plain": [
       "GridSearchCV(cv=5, estimator=DecisionTreeClassifier(),\n",
       "             param_grid={'max_depth': [2, 3, 4, 5, 6]}, scoring='accuracy',\n",
       "             verbose=1)"
      ]
     },
     "execution_count": 235,
     "metadata": {},
     "output_type": "execute_result"
    }
   ],
   "source": [
    "grid_search_dt.fit(X_train_scaled, y_train)"
   ]
  },
  {
   "cell_type": "code",
   "execution_count": 236,
   "metadata": {},
   "outputs": [],
   "source": [
    "# Get the best hyperparameters and the corresponding model\n",
    "best_dt = grid_search_dt.best_estimator_\n",
    "best_params_dt = grid_search_dt.best_params_"
   ]
  },
  {
   "cell_type": "code",
   "execution_count": 237,
   "metadata": {},
   "outputs": [
    {
     "name": "stdout",
     "output_type": "stream",
     "text": [
      "DecisionTreeClassifier(max_depth=2)\n",
      "{'max_depth': 2}\n"
     ]
    }
   ],
   "source": [
    "print(best_dt)\n",
    "print(best_params_dt)"
   ]
  },
  {
   "cell_type": "code",
   "execution_count": 238,
   "metadata": {},
   "outputs": [
    {
     "data": {
      "text/plain": [
       "DecisionTreeClassifier(max_depth=2)"
      ]
     },
     "execution_count": 238,
     "metadata": {},
     "output_type": "execute_result"
    }
   ],
   "source": [
    "best_dt.fit(X_train_scaled, y_train)"
   ]
  },
  {
   "cell_type": "code",
   "execution_count": 239,
   "metadata": {},
   "outputs": [],
   "source": [
    "y_pred = best_dt.predict(X_test_scaled)"
   ]
  },
  {
   "cell_type": "code",
   "execution_count": 240,
   "metadata": {},
   "outputs": [],
   "source": [
    "accuracy_dt = accuracy_score(y_test, y_pred)"
   ]
  },
  {
   "cell_type": "code",
   "execution_count": 241,
   "metadata": {},
   "outputs": [
    {
     "name": "stdout",
     "output_type": "stream",
     "text": [
      "Decision Tree Classifier accuracy on the test set: 0.5643105446118193\n"
     ]
    }
   ],
   "source": [
    "print(\"Decision Tree Classifier accuracy on the test set:\", accuracy_dt)"
   ]
  },
  {
   "cell_type": "code",
   "execution_count": 242,
   "metadata": {},
   "outputs": [],
   "source": [
    "optimal_models.update({'Decision Tree Classifier': {'max_depth': 2, 'test_accuracy': 0.564}})"
   ]
  },
  {
   "cell_type": "code",
   "execution_count": null,
   "metadata": {},
   "outputs": [],
   "source": []
  },
  {
   "cell_type": "markdown",
   "metadata": {},
   "source": [
    "# Voting Classifier"
   ]
  },
  {
   "cell_type": "code",
   "execution_count": 243,
   "metadata": {},
   "outputs": [],
   "source": [
    "from sklearn.ensemble import VotingClassifier"
   ]
  },
  {
   "cell_type": "code",
   "execution_count": 244,
   "metadata": {},
   "outputs": [],
   "source": [
    "knn_vote = KNeighborsClassifier(n_neighbors = 11)\n",
    "lr_vote = LogisticRegression(C = 0.001, random_state = 42)\n",
    "dt_vote = DecisionTreeClassifier(max_depth = 2, random_state = 42)"
   ]
  },
  {
   "cell_type": "code",
   "execution_count": 245,
   "metadata": {},
   "outputs": [],
   "source": [
    "classifiers = [('K Nearest Neighbors', knn_vote), ('Logistic Regression', lr_vote), ('Decision Tree Classifier', dt_vote)]"
   ]
  },
  {
   "cell_type": "code",
   "execution_count": 246,
   "metadata": {},
   "outputs": [],
   "source": [
    "vc = VotingClassifier(estimators = classifiers)"
   ]
  },
  {
   "cell_type": "code",
   "execution_count": 247,
   "metadata": {},
   "outputs": [
    {
     "data": {
      "text/plain": [
       "VotingClassifier(estimators=[('K Nearest Neighbors',\n",
       "                              KNeighborsClassifier(n_neighbors=11)),\n",
       "                             ('Logistic Regression',\n",
       "                              LogisticRegression(C=0.001, random_state=42)),\n",
       "                             ('Decision Tree Classifier',\n",
       "                              DecisionTreeClassifier(max_depth=2,\n",
       "                                                     random_state=42))])"
      ]
     },
     "execution_count": 247,
     "metadata": {},
     "output_type": "execute_result"
    }
   ],
   "source": [
    "vc.fit(X_train_scaled, y_train)"
   ]
  },
  {
   "cell_type": "code",
   "execution_count": 248,
   "metadata": {},
   "outputs": [],
   "source": [
    "y_pred = vc.predict(X_test_scaled)"
   ]
  },
  {
   "cell_type": "code",
   "execution_count": 249,
   "metadata": {},
   "outputs": [],
   "source": [
    "accuracy_vc = accuracy_score(y_test, y_pred)"
   ]
  },
  {
   "cell_type": "code",
   "execution_count": 250,
   "metadata": {},
   "outputs": [
    {
     "name": "stdout",
     "output_type": "stream",
     "text": [
      "Voting Classifier accuracy score: 0.5770567786790266\n"
     ]
    }
   ],
   "source": [
    "print(\"Voting Classifier accuracy score:\", accuracy_vc)"
   ]
  },
  {
   "cell_type": "code",
   "execution_count": 251,
   "metadata": {},
   "outputs": [],
   "source": [
    "optimal_models.update({'Voting Classifier': {'Models': ['KNN', 'Logistic Regression', 'Decision Tree Classifier'], 'test_accuracy': 0.577}})"
   ]
  },
  {
   "cell_type": "code",
   "execution_count": 252,
   "metadata": {},
   "outputs": [
    {
     "data": {
      "text/plain": [
       "{'KNN': {'n_neighbors': 11, 'test_accuracy': 0.555},\n",
       " 'Logistic Regression': {'C': 0.001, 'test_accuracy': 0.575},\n",
       " 'Decision Tree Classifier': {'max_depth': 2, 'test_accuracy': 0.564},\n",
       " 'Voting Classifier': {'Models': ['KNN',\n",
       "   'Logistic Regression',\n",
       "   'Decision Tree Classifier'],\n",
       "  'test_accuracy': 0.577}}"
      ]
     },
     "execution_count": 252,
     "metadata": {},
     "output_type": "execute_result"
    }
   ],
   "source": [
    "optimal_models"
   ]
  },
  {
   "cell_type": "code",
   "execution_count": null,
   "metadata": {},
   "outputs": [],
   "source": []
  },
  {
   "cell_type": "markdown",
   "metadata": {},
   "source": [
    "# Bagging Classifier"
   ]
  },
  {
   "cell_type": "code",
   "execution_count": 253,
   "metadata": {},
   "outputs": [],
   "source": [
    "from sklearn.ensemble import BaggingClassifier"
   ]
  },
  {
   "cell_type": "code",
   "execution_count": 254,
   "metadata": {},
   "outputs": [],
   "source": [
    "bc = BaggingClassifier(base_estimator = lr_vote, n_estimators = 300, n_jobs = -1)"
   ]
  },
  {
   "cell_type": "code",
   "execution_count": 255,
   "metadata": {},
   "outputs": [
    {
     "data": {
      "text/plain": [
       "BaggingClassifier(base_estimator=LogisticRegression(C=0.001, random_state=42),\n",
       "                  n_estimators=300, n_jobs=-1)"
      ]
     },
     "execution_count": 255,
     "metadata": {},
     "output_type": "execute_result"
    }
   ],
   "source": [
    "bc.fit(X_train_scaled, y_train)"
   ]
  },
  {
   "cell_type": "code",
   "execution_count": 256,
   "metadata": {},
   "outputs": [],
   "source": [
    "y_pred = bc.predict(X_test_scaled)"
   ]
  },
  {
   "cell_type": "code",
   "execution_count": 257,
   "metadata": {},
   "outputs": [],
   "source": [
    "bc_acc = accuracy_score(y_test, y_pred)"
   ]
  },
  {
   "cell_type": "code",
   "execution_count": 258,
   "metadata": {},
   "outputs": [
    {
     "name": "stdout",
     "output_type": "stream",
     "text": [
      "Bagging Classifier Accuracy: 0.5758980301274623\n"
     ]
    }
   ],
   "source": [
    "print(\"Bagging Classifier Accuracy:\", bc_acc)"
   ]
  },
  {
   "cell_type": "code",
   "execution_count": 259,
   "metadata": {},
   "outputs": [],
   "source": [
    "optimal_models.update({'Bagging Classifier': {'base_estimator': 'Logistic Regression', 'test_accuracy': 0.572}})"
   ]
  },
  {
   "cell_type": "code",
   "execution_count": null,
   "metadata": {},
   "outputs": [],
   "source": []
  },
  {
   "cell_type": "markdown",
   "metadata": {},
   "source": [
    "# Random Forest"
   ]
  },
  {
   "cell_type": "code",
   "execution_count": 260,
   "metadata": {},
   "outputs": [],
   "source": [
    "from sklearn.ensemble import RandomForestClassifier"
   ]
  },
  {
   "cell_type": "code",
   "execution_count": 261,
   "metadata": {},
   "outputs": [],
   "source": [
    "rf = RandomForestClassifier(random_state = 42)"
   ]
  },
  {
   "cell_type": "code",
   "execution_count": 262,
   "metadata": {},
   "outputs": [
    {
     "data": {
      "text/plain": [
       "{'bootstrap': True,\n",
       " 'ccp_alpha': 0.0,\n",
       " 'class_weight': None,\n",
       " 'criterion': 'gini',\n",
       " 'max_depth': None,\n",
       " 'max_features': 'auto',\n",
       " 'max_leaf_nodes': None,\n",
       " 'max_samples': None,\n",
       " 'min_impurity_decrease': 0.0,\n",
       " 'min_impurity_split': None,\n",
       " 'min_samples_leaf': 1,\n",
       " 'min_samples_split': 2,\n",
       " 'min_weight_fraction_leaf': 0.0,\n",
       " 'n_estimators': 100,\n",
       " 'n_jobs': None,\n",
       " 'oob_score': False,\n",
       " 'random_state': 42,\n",
       " 'verbose': 0,\n",
       " 'warm_start': False}"
      ]
     },
     "execution_count": 262,
     "metadata": {},
     "output_type": "execute_result"
    }
   ],
   "source": [
    "rf.get_params()"
   ]
  },
  {
   "cell_type": "code",
   "execution_count": 263,
   "metadata": {},
   "outputs": [
    {
     "data": {
      "text/plain": [
       "RandomForestClassifier(random_state=42)"
      ]
     },
     "execution_count": 263,
     "metadata": {},
     "output_type": "execute_result"
    }
   ],
   "source": [
    "rf.fit(X_train_scaled, y_train)"
   ]
  },
  {
   "cell_type": "code",
   "execution_count": 264,
   "metadata": {},
   "outputs": [],
   "source": [
    "y_pred = rf.predict(X_test_scaled)"
   ]
  },
  {
   "cell_type": "code",
   "execution_count": 265,
   "metadata": {},
   "outputs": [],
   "source": [
    "rf_acc = accuracy_score(y_test, y_pred)"
   ]
  },
  {
   "cell_type": "code",
   "execution_count": 266,
   "metadata": {},
   "outputs": [
    {
     "name": "stdout",
     "output_type": "stream",
     "text": [
      "Base Random Forest Accuracy: 0.5538818076477404\n"
     ]
    }
   ],
   "source": [
    "print(\"Base Random Forest Accuracy:\", rf_acc)"
   ]
  },
  {
   "cell_type": "code",
   "execution_count": 267,
   "metadata": {},
   "outputs": [],
   "source": [
    "# rf_params = {'max_depth': [2, 3, 4, 5], 'n_estimators': [200, 300, 400], 'max_features': ['auto', 'sqrt']}"
   ]
  },
  {
   "cell_type": "code",
   "execution_count": 268,
   "metadata": {},
   "outputs": [],
   "source": [
    "# rf_cv = GridSearchCV(rf, rf_params, cv=5, scoring='accuracy', verbose = 1)\n",
    "# rf_cv.fit(X_train_scaled, y_train)"
   ]
  },
  {
   "cell_type": "code",
   "execution_count": 269,
   "metadata": {},
   "outputs": [],
   "source": [
    "# rf_cv.best_params_"
   ]
  },
  {
   "cell_type": "code",
   "execution_count": 270,
   "metadata": {},
   "outputs": [],
   "source": [
    "# rf_tuned = rf_cv.best_estimator_"
   ]
  },
  {
   "cell_type": "code",
   "execution_count": 271,
   "metadata": {},
   "outputs": [],
   "source": [
    "best_rf_cv_score = 0.5816141856502808"
   ]
  },
  {
   "cell_type": "code",
   "execution_count": 272,
   "metadata": {},
   "outputs": [],
   "source": [
    "rf_tuned = RandomForestClassifier(max_depth = 5, n_estimators = 200, random_state = 42)"
   ]
  },
  {
   "cell_type": "code",
   "execution_count": 273,
   "metadata": {},
   "outputs": [
    {
     "data": {
      "text/plain": [
       "RandomForestClassifier(max_depth=5, n_estimators=200, random_state=42)"
      ]
     },
     "execution_count": 273,
     "metadata": {},
     "output_type": "execute_result"
    }
   ],
   "source": [
    "rf_tuned.fit(X_train_scaled, y_train)"
   ]
  },
  {
   "cell_type": "code",
   "execution_count": 274,
   "metadata": {},
   "outputs": [],
   "source": [
    "y_pred = rf_tuned.predict(X_test_scaled)"
   ]
  },
  {
   "cell_type": "code",
   "execution_count": 275,
   "metadata": {},
   "outputs": [],
   "source": [
    "rf_tuned_acc = accuracy_score(y_test, y_pred)"
   ]
  },
  {
   "cell_type": "code",
   "execution_count": 276,
   "metadata": {},
   "outputs": [
    {
     "name": "stdout",
     "output_type": "stream",
     "text": [
      "Tuned Random Forest Accuracy: 0.5608342989571263\n"
     ]
    }
   ],
   "source": [
    "print(\"Tuned Random Forest Accuracy:\", rf_tuned_acc)"
   ]
  },
  {
   "cell_type": "code",
   "execution_count": 277,
   "metadata": {},
   "outputs": [],
   "source": [
    "optimal_models.update({'Random Forest': {'max_depth': 5, 'n_estimators': 200, 'test_accuracy': 0.561}})"
   ]
  },
  {
   "cell_type": "code",
   "execution_count": null,
   "metadata": {},
   "outputs": [],
   "source": []
  },
  {
   "cell_type": "markdown",
   "metadata": {},
   "source": [
    "# AdaBoost"
   ]
  },
  {
   "cell_type": "code",
   "execution_count": 278,
   "metadata": {},
   "outputs": [],
   "source": [
    "from sklearn.ensemble import AdaBoostClassifier"
   ]
  },
  {
   "cell_type": "code",
   "execution_count": 279,
   "metadata": {},
   "outputs": [],
   "source": [
    "base_dt = DecisionTreeClassifier(max_depth = 1, random_state = 42)"
   ]
  },
  {
   "cell_type": "code",
   "execution_count": 280,
   "metadata": {},
   "outputs": [],
   "source": [
    "adb_clf = AdaBoostClassifier(base_estimator = base_dt, n_estimators = 200, random_state = 42)"
   ]
  },
  {
   "cell_type": "code",
   "execution_count": 281,
   "metadata": {},
   "outputs": [
    {
     "data": {
      "text/plain": [
       "AdaBoostClassifier(base_estimator=DecisionTreeClassifier(max_depth=1,\n",
       "                                                         random_state=42),\n",
       "                   n_estimators=200, random_state=42)"
      ]
     },
     "execution_count": 281,
     "metadata": {},
     "output_type": "execute_result"
    }
   ],
   "source": [
    "adb_clf.fit(X_train_scaled, y_train)"
   ]
  },
  {
   "cell_type": "code",
   "execution_count": 282,
   "metadata": {},
   "outputs": [],
   "source": [
    "y_pred = adb_clf.predict(X_test_scaled)"
   ]
  },
  {
   "cell_type": "code",
   "execution_count": 283,
   "metadata": {},
   "outputs": [],
   "source": [
    "adb_acc = accuracy_score(y_test, y_pred)"
   ]
  },
  {
   "cell_type": "code",
   "execution_count": 284,
   "metadata": {},
   "outputs": [
    {
     "name": "stdout",
     "output_type": "stream",
     "text": [
      "Ada Boost Accuracy: 0.5561993047508691\n"
     ]
    }
   ],
   "source": [
    "print(\"Ada Boost Accuracy:\", adb_acc)"
   ]
  },
  {
   "cell_type": "code",
   "execution_count": 285,
   "metadata": {},
   "outputs": [],
   "source": [
    "optimal_models.update({'AdaBoost': {'base_model': 'Decision Tree', 'n_estimators': 200, 'test_accuracy' : 0.556}})"
   ]
  },
  {
   "cell_type": "code",
   "execution_count": null,
   "metadata": {},
   "outputs": [],
   "source": []
  },
  {
   "cell_type": "markdown",
   "metadata": {},
   "source": [
    "# Gradient Boost"
   ]
  },
  {
   "cell_type": "code",
   "execution_count": 286,
   "metadata": {},
   "outputs": [],
   "source": [
    "from sklearn.ensemble import GradientBoostingClassifier"
   ]
  },
  {
   "cell_type": "code",
   "execution_count": 287,
   "metadata": {},
   "outputs": [],
   "source": [
    "base_gb = GradientBoostingClassifier(random_state = 42)"
   ]
  },
  {
   "cell_type": "code",
   "execution_count": 288,
   "metadata": {},
   "outputs": [
    {
     "data": {
      "text/plain": [
       "GradientBoostingClassifier(random_state=42)"
      ]
     },
     "execution_count": 288,
     "metadata": {},
     "output_type": "execute_result"
    }
   ],
   "source": [
    "base_gb.fit(X_train_scaled, y_train)"
   ]
  },
  {
   "cell_type": "code",
   "execution_count": 289,
   "metadata": {},
   "outputs": [],
   "source": [
    "y_pred = base_gb.predict(X_test_scaled)"
   ]
  },
  {
   "cell_type": "code",
   "execution_count": 290,
   "metadata": {},
   "outputs": [],
   "source": [
    "base_gb_acc = accuracy_score(y_test, y_pred)"
   ]
  },
  {
   "cell_type": "code",
   "execution_count": 291,
   "metadata": {},
   "outputs": [
    {
     "name": "stdout",
     "output_type": "stream",
     "text": [
      "Base Gradient Boosting Accuracy: 0.5480880648899189\n"
     ]
    }
   ],
   "source": [
    "print(\"Base Gradient Boosting Accuracy:\", base_gb_acc)"
   ]
  },
  {
   "cell_type": "code",
   "execution_count": 292,
   "metadata": {},
   "outputs": [],
   "source": [
    "# gb_params = {'n_estimators': [100, 200], 'max_depth': [2, 3, 4, 5], 'learning_rate': [0.05, 0.1, 0.2]}"
   ]
  },
  {
   "cell_type": "code",
   "execution_count": 293,
   "metadata": {},
   "outputs": [],
   "source": [
    "# gb_cv = GridSearchCV(base_gb, gb_params, cv = 5, scoring = 'accuracy', verbose = 1, n_jobs = -1)"
   ]
  },
  {
   "cell_type": "code",
   "execution_count": 294,
   "metadata": {},
   "outputs": [],
   "source": [
    "# gb_cv.fit(X_train_scaled, y_train)"
   ]
  },
  {
   "cell_type": "code",
   "execution_count": 295,
   "metadata": {},
   "outputs": [],
   "source": [
    "# gb_cv.best_params_"
   ]
  },
  {
   "cell_type": "code",
   "execution_count": 296,
   "metadata": {},
   "outputs": [],
   "source": [
    "gb_tuned = GradientBoostingClassifier(learning_rate = 0.05, max_depth = 3, n_estimators = 100, random_state = 42)"
   ]
  },
  {
   "cell_type": "code",
   "execution_count": 297,
   "metadata": {},
   "outputs": [],
   "source": [
    "# gb_cv.best_score_"
   ]
  },
  {
   "cell_type": "code",
   "execution_count": 298,
   "metadata": {},
   "outputs": [
    {
     "data": {
      "text/plain": [
       "GradientBoostingClassifier(learning_rate=0.05, random_state=42)"
      ]
     },
     "execution_count": 298,
     "metadata": {},
     "output_type": "execute_result"
    }
   ],
   "source": [
    "gb_tuned.fit(X_train_scaled, y_train)"
   ]
  },
  {
   "cell_type": "code",
   "execution_count": 299,
   "metadata": {},
   "outputs": [],
   "source": [
    "y_pred = gb_tuned.predict(X_test_scaled)"
   ]
  },
  {
   "cell_type": "code",
   "execution_count": 300,
   "metadata": {},
   "outputs": [],
   "source": [
    "gb_tuned_acc = accuracy_score(y_test, y_pred)"
   ]
  },
  {
   "cell_type": "code",
   "execution_count": 301,
   "metadata": {},
   "outputs": [
    {
     "name": "stdout",
     "output_type": "stream",
     "text": [
      "Tuned Gradient Boosting Accuracy: 0.5480880648899189\n"
     ]
    }
   ],
   "source": [
    "print(\"Tuned Gradient Boosting Accuracy:\", gb_tuned_acc)"
   ]
  },
  {
   "cell_type": "code",
   "execution_count": 302,
   "metadata": {},
   "outputs": [],
   "source": [
    "optimal_models.update({'Gradient Boost': {'learning_rate' : 0.05, 'max_depth': 3, 'n_estimators': 100, 'test_accuracy': 0.548}})"
   ]
  },
  {
   "cell_type": "code",
   "execution_count": null,
   "metadata": {},
   "outputs": [],
   "source": []
  },
  {
   "cell_type": "markdown",
   "metadata": {},
   "source": [
    "# XGBoost"
   ]
  },
  {
   "cell_type": "code",
   "execution_count": 303,
   "metadata": {},
   "outputs": [],
   "source": [
    "import xgboost as xgb"
   ]
  },
  {
   "cell_type": "code",
   "execution_count": 304,
   "metadata": {},
   "outputs": [],
   "source": [
    "clf_xgb = xgb.XGBClassifier(random_state = 42)"
   ]
  },
  {
   "cell_type": "code",
   "execution_count": 305,
   "metadata": {},
   "outputs": [
    {
     "name": "stdout",
     "output_type": "stream",
     "text": [
      "[07:58:04] WARNING: D:\\bld\\xgboost-split_1637426510059\\work\\src\\learner.cc:1115: Starting in XGBoost 1.3.0, the default evaluation metric used with the objective 'binary:logistic' was changed from 'error' to 'logloss'. Explicitly set eval_metric if you'd like to restore the old behavior.\n"
     ]
    },
    {
     "name": "stderr",
     "output_type": "stream",
     "text": [
      "C:\\Users\\Owner\\anaconda3\\lib\\site-packages\\xgboost\\sklearn.py:1224: UserWarning: The use of label encoder in XGBClassifier is deprecated and will be removed in a future release. To remove this warning, do the following: 1) Pass option use_label_encoder=False when constructing XGBClassifier object; and 2) Encode your labels (y) as integers starting with 0, i.e. 0, 1, 2, ..., [num_class - 1].\n",
      "  warnings.warn(label_encoder_deprecation_msg, UserWarning)\n"
     ]
    },
    {
     "data": {
      "text/plain": [
       "XGBClassifier(base_score=0.5, booster='gbtree', colsample_bylevel=1,\n",
       "              colsample_bynode=1, colsample_bytree=1, enable_categorical=False,\n",
       "              gamma=0, gpu_id=-1, importance_type=None,\n",
       "              interaction_constraints='', learning_rate=0.300000012,\n",
       "              max_delta_step=0, max_depth=6, min_child_weight=1, missing=nan,\n",
       "              monotone_constraints='()', n_estimators=100, n_jobs=8,\n",
       "              num_parallel_tree=1, predictor='auto', random_state=42,\n",
       "              reg_alpha=0, reg_lambda=1, scale_pos_weight=1, subsample=1,\n",
       "              tree_method='exact', validate_parameters=1, verbosity=None)"
      ]
     },
     "execution_count": 305,
     "metadata": {},
     "output_type": "execute_result"
    }
   ],
   "source": [
    "clf_xgb.fit(X_train_scaled, y_train)"
   ]
  },
  {
   "cell_type": "code",
   "execution_count": 306,
   "metadata": {},
   "outputs": [],
   "source": [
    "y_pred = clf_xgb.predict(X_test_scaled)"
   ]
  },
  {
   "cell_type": "code",
   "execution_count": 307,
   "metadata": {},
   "outputs": [],
   "source": [
    "clf_xgb_acc = accuracy_score(y_test, y_pred)"
   ]
  },
  {
   "cell_type": "code",
   "execution_count": 308,
   "metadata": {},
   "outputs": [
    {
     "name": "stdout",
     "output_type": "stream",
     "text": [
      "XGBoost Accuracy 0.5237543453070683\n"
     ]
    }
   ],
   "source": [
    "print(\"XGBoost Accuracy\", clf_xgb_acc)"
   ]
  },
  {
   "cell_type": "code",
   "execution_count": 309,
   "metadata": {},
   "outputs": [],
   "source": [
    "params = {'max_depth': [2, 3, 4, 5, 6], 'learning_rate' : [0.01, 0.1, 0.5], 'colsample_bytree': [0.5, 0.75, 1], 'n_estimators': [50, 100, 150, 200]}"
   ]
  },
  {
   "cell_type": "code",
   "execution_count": 310,
   "metadata": {},
   "outputs": [],
   "source": [
    "# xg_cv = GridSearchCV(clf_xgb, params, cv = 5, scoring = 'accuracy', verbose = 1, n_jobs = -1)\n",
    "# xg_cv.fit(X_train_scaled, y_train)\n",
    "# print(f\"Best Accuracy: {xg_cv.best_score_}\")\n",
    "# print(f\"Best Params: {xg_cv.best_params_}\")"
   ]
  },
  {
   "cell_type": "code",
   "execution_count": 311,
   "metadata": {},
   "outputs": [],
   "source": [
    "# gb_cv = GridSearchCV(base_gb, gb_params, cv = 5, scoring = 'accuracy', verbose = 1, n_jobs = -1)"
   ]
  },
  {
   "cell_type": "code",
   "execution_count": 312,
   "metadata": {},
   "outputs": [],
   "source": [
    "est_values = []"
   ]
  },
  {
   "cell_type": "code",
   "execution_count": 313,
   "metadata": {},
   "outputs": [],
   "source": [
    "for i in range(200, 510, 10):\n",
    "    est_values.append(i)"
   ]
  },
  {
   "cell_type": "code",
   "execution_count": 314,
   "metadata": {},
   "outputs": [
    {
     "data": {
      "text/plain": [
       "31"
      ]
     },
     "execution_count": 314,
     "metadata": {},
     "output_type": "execute_result"
    }
   ],
   "source": [
    "len(est_values)"
   ]
  },
  {
   "cell_type": "code",
   "execution_count": 315,
   "metadata": {},
   "outputs": [],
   "source": [
    "params2 = {'max_depth': [3], 'learning_rate' : [0.0001, 0.001, 0.01], 'colsample_bytree': [0.75], 'n_estimators': est_values}"
   ]
  },
  {
   "cell_type": "code",
   "execution_count": 316,
   "metadata": {},
   "outputs": [],
   "source": [
    "# xg_cv2 = GridSearchCV(clf_xgb, params2, cv = 5, scoring = 'accuracy', verbose = 1, n_jobs = -1)\n",
    "# xg_cv2.fit(X_train_scaled, y_train)\n",
    "# print(f\"Best Accuracy: {xg_cv2.best_score_}\")\n",
    "# print(f\"Best Params: {xg_cv2.best_params_}\")"
   ]
  },
  {
   "cell_type": "code",
   "execution_count": 317,
   "metadata": {},
   "outputs": [],
   "source": [
    "tuned_xgb = xgb.XGBClassifier(colsample_bytree = 0.75, learning_rate = 0.01, max_depth = 3, n_estimators = 270, random_state = 42)"
   ]
  },
  {
   "cell_type": "code",
   "execution_count": 318,
   "metadata": {},
   "outputs": [
    {
     "name": "stdout",
     "output_type": "stream",
     "text": [
      "[07:58:04] WARNING: D:\\bld\\xgboost-split_1637426510059\\work\\src\\learner.cc:1115: Starting in XGBoost 1.3.0, the default evaluation metric used with the objective 'binary:logistic' was changed from 'error' to 'logloss'. Explicitly set eval_metric if you'd like to restore the old behavior.\n"
     ]
    },
    {
     "data": {
      "text/plain": [
       "XGBClassifier(base_score=0.5, booster='gbtree', colsample_bylevel=1,\n",
       "              colsample_bynode=1, colsample_bytree=0.75,\n",
       "              enable_categorical=False, gamma=0, gpu_id=-1,\n",
       "              importance_type=None, interaction_constraints='',\n",
       "              learning_rate=0.01, max_delta_step=0, max_depth=3,\n",
       "              min_child_weight=1, missing=nan, monotone_constraints='()',\n",
       "              n_estimators=270, n_jobs=8, num_parallel_tree=1, predictor='auto',\n",
       "              random_state=42, reg_alpha=0, reg_lambda=1, scale_pos_weight=1,\n",
       "              subsample=1, tree_method='exact', validate_parameters=1,\n",
       "              verbosity=None)"
      ]
     },
     "execution_count": 318,
     "metadata": {},
     "output_type": "execute_result"
    }
   ],
   "source": [
    "tuned_xgb.fit(X_train_scaled, y_train)"
   ]
  },
  {
   "cell_type": "code",
   "execution_count": 319,
   "metadata": {},
   "outputs": [],
   "source": [
    "y_pred = tuned_xgb.predict(X_test_scaled)"
   ]
  },
  {
   "cell_type": "code",
   "execution_count": 320,
   "metadata": {},
   "outputs": [],
   "source": [
    "xgb_tuned_acc = accuracy_score(y_test, y_pred)"
   ]
  },
  {
   "cell_type": "code",
   "execution_count": 321,
   "metadata": {},
   "outputs": [
    {
     "name": "stdout",
     "output_type": "stream",
     "text": [
      "XGBoost Accuracy: 0.5330243337195828\n"
     ]
    }
   ],
   "source": [
    "print(\"XGBoost Accuracy:\", xgb_tuned_acc)"
   ]
  },
  {
   "cell_type": "code",
   "execution_count": 322,
   "metadata": {},
   "outputs": [],
   "source": [
    "optimal_models.update({'XGBoost': {'learning_rate': 0.01, 'max_depth': 3, 'colsample_bytree' : 0.75, 'n_estimators': 270, 'test_accuracy': 0.533}})"
   ]
  },
  {
   "cell_type": "code",
   "execution_count": 323,
   "metadata": {},
   "outputs": [
    {
     "data": {
      "text/plain": [
       "{'KNN': {'n_neighbors': 11, 'test_accuracy': 0.555},\n",
       " 'Logistic Regression': {'C': 0.001, 'test_accuracy': 0.575},\n",
       " 'Decision Tree Classifier': {'max_depth': 2, 'test_accuracy': 0.564},\n",
       " 'Voting Classifier': {'Models': ['KNN',\n",
       "   'Logistic Regression',\n",
       "   'Decision Tree Classifier'],\n",
       "  'test_accuracy': 0.577},\n",
       " 'Bagging Classifier': {'base_estimator': 'Logistic Regression',\n",
       "  'test_accuracy': 0.572},\n",
       " 'Random Forest': {'max_depth': 5,\n",
       "  'n_estimators': 200,\n",
       "  'test_accuracy': 0.561},\n",
       " 'AdaBoost': {'base_model': 'Decision Tree',\n",
       "  'n_estimators': 200,\n",
       "  'test_accuracy': 0.556},\n",
       " 'Gradient Boost': {'learning_rate': 0.05,\n",
       "  'max_depth': 3,\n",
       "  'n_estimators': 100,\n",
       "  'test_accuracy': 0.548},\n",
       " 'XGBoost': {'learning_rate': 0.01,\n",
       "  'max_depth': 3,\n",
       "  'colsample_bytree': 0.75,\n",
       "  'n_estimators': 270,\n",
       "  'test_accuracy': 0.533}}"
      ]
     },
     "execution_count": 323,
     "metadata": {},
     "output_type": "execute_result"
    }
   ],
   "source": [
    "optimal_models"
   ]
  },
  {
   "cell_type": "code",
   "execution_count": null,
   "metadata": {},
   "outputs": [],
   "source": []
  },
  {
   "cell_type": "code",
   "execution_count": null,
   "metadata": {},
   "outputs": [],
   "source": []
  },
  {
   "cell_type": "markdown",
   "metadata": {},
   "source": [
    "# Voting Classifier (different models)"
   ]
  },
  {
   "cell_type": "code",
   "execution_count": 324,
   "metadata": {},
   "outputs": [],
   "source": [
    "lr_vote = LogisticRegression(C = 0.001, random_state = 42)\n",
    "dt_vote = DecisionTreeClassifier(max_depth = 2, random_state = 42)\n",
    "bc_vote = BaggingClassifier(base_estimator = lr_vote, n_estimators = 300, n_jobs = -1, random_state = 42)\n",
    "rf_vote = RandomForestClassifier(max_depth = 5, n_estimators = 200, random_state = 42)\n",
    "ab_vote = AdaBoostClassifier(base_estimator = base_dt, n_estimators = 200, random_state = 42)"
   ]
  },
  {
   "cell_type": "code",
   "execution_count": 325,
   "metadata": {},
   "outputs": [],
   "source": [
    "classifiers = [('Logistic Regression', lr_vote), ('Decision Tree', dt_vote),\\\n",
    "              ('Bagging', bc_vote), ('Random Forest', rf_vote), ('Ada Boost', ab_vote)]"
   ]
  },
  {
   "cell_type": "code",
   "execution_count": 326,
   "metadata": {},
   "outputs": [],
   "source": [
    "vc = VotingClassifier(estimators = classifiers)"
   ]
  },
  {
   "cell_type": "code",
   "execution_count": 327,
   "metadata": {},
   "outputs": [
    {
     "data": {
      "text/plain": [
       "VotingClassifier(estimators=[('Logistic Regression',\n",
       "                              LogisticRegression(C=0.001, random_state=42)),\n",
       "                             ('Decision Tree',\n",
       "                              DecisionTreeClassifier(max_depth=2,\n",
       "                                                     random_state=42)),\n",
       "                             ('Bagging',\n",
       "                              BaggingClassifier(base_estimator=LogisticRegression(C=0.001,\n",
       "                                                                                  random_state=42),\n",
       "                                                n_estimators=300, n_jobs=-1,\n",
       "                                                random_state=42)),\n",
       "                             ('Random Forest',\n",
       "                              RandomForestClassifier(max_depth=5,\n",
       "                                                     n_estimators=200,\n",
       "                                                     random_state=42)),\n",
       "                             ('Ada Boost',\n",
       "                              AdaBoostClassifier(base_estimator=DecisionTreeClassifier(max_depth=1,\n",
       "                                                                                       random_state=42),\n",
       "                                                 n_estimators=200,\n",
       "                                                 random_state=42))])"
      ]
     },
     "execution_count": 327,
     "metadata": {},
     "output_type": "execute_result"
    }
   ],
   "source": [
    "vc.fit(X_train_scaled, y_train)"
   ]
  },
  {
   "cell_type": "code",
   "execution_count": 328,
   "metadata": {},
   "outputs": [],
   "source": [
    "y_pred = vc.predict(X_test_scaled)"
   ]
  },
  {
   "cell_type": "code",
   "execution_count": 329,
   "metadata": {},
   "outputs": [],
   "source": [
    "accuracy_vc = accuracy_score(y_test, y_pred)"
   ]
  },
  {
   "cell_type": "code",
   "execution_count": 330,
   "metadata": {},
   "outputs": [
    {
     "name": "stdout",
     "output_type": "stream",
     "text": [
      "Voting Classifier accuracy score: 0.5654692931633836\n"
     ]
    }
   ],
   "source": [
    "print(\"Voting Classifier accuracy score:\", accuracy_vc)"
   ]
  },
  {
   "cell_type": "code",
   "execution_count": null,
   "metadata": {},
   "outputs": [],
   "source": []
  },
  {
   "cell_type": "markdown",
   "metadata": {},
   "source": [
    "# Gaussian Naive Bayes"
   ]
  },
  {
   "cell_type": "code",
   "execution_count": 331,
   "metadata": {},
   "outputs": [],
   "source": [
    "from sklearn.naive_bayes import GaussianNB"
   ]
  },
  {
   "cell_type": "code",
   "execution_count": 332,
   "metadata": {},
   "outputs": [],
   "source": [
    "nb = GaussianNB()"
   ]
  },
  {
   "cell_type": "code",
   "execution_count": 333,
   "metadata": {},
   "outputs": [
    {
     "data": {
      "text/plain": [
       "GaussianNB()"
      ]
     },
     "execution_count": 333,
     "metadata": {},
     "output_type": "execute_result"
    }
   ],
   "source": [
    "nb.fit(X_train_scaled, y_train)"
   ]
  },
  {
   "cell_type": "code",
   "execution_count": 334,
   "metadata": {},
   "outputs": [],
   "source": [
    "y_pred = nb.predict(X_test_scaled)"
   ]
  },
  {
   "cell_type": "code",
   "execution_count": 335,
   "metadata": {},
   "outputs": [],
   "source": [
    "nb_acc = accuracy_score(y_test, y_pred)"
   ]
  },
  {
   "cell_type": "code",
   "execution_count": 336,
   "metadata": {},
   "outputs": [
    {
     "name": "stdout",
     "output_type": "stream",
     "text": [
      "Naive Bayes Accuracy: 0.5469293163383546\n"
     ]
    }
   ],
   "source": [
    "print(\"Naive Bayes Accuracy:\", nb_acc)"
   ]
  },
  {
   "cell_type": "code",
   "execution_count": 337,
   "metadata": {},
   "outputs": [],
   "source": [
    "optimal_models.update({'Naive Bayes': {'test_accuracy': 0.547}})"
   ]
  },
  {
   "cell_type": "code",
   "execution_count": null,
   "metadata": {},
   "outputs": [],
   "source": []
  },
  {
   "cell_type": "markdown",
   "metadata": {},
   "source": [
    "# Support Vector Classifier"
   ]
  },
  {
   "cell_type": "code",
   "execution_count": 338,
   "metadata": {},
   "outputs": [],
   "source": [
    "from sklearn.svm import SVC"
   ]
  },
  {
   "cell_type": "code",
   "execution_count": 339,
   "metadata": {},
   "outputs": [],
   "source": [
    "svm = SVC()"
   ]
  },
  {
   "cell_type": "code",
   "execution_count": 340,
   "metadata": {},
   "outputs": [
    {
     "data": {
      "text/plain": [
       "SVC()"
      ]
     },
     "execution_count": 340,
     "metadata": {},
     "output_type": "execute_result"
    }
   ],
   "source": [
    "svm.fit(X_train_scaled, y_train)"
   ]
  },
  {
   "cell_type": "code",
   "execution_count": 341,
   "metadata": {},
   "outputs": [],
   "source": [
    "y_pred = svm.predict(X_test_scaled)"
   ]
  },
  {
   "cell_type": "code",
   "execution_count": 342,
   "metadata": {},
   "outputs": [],
   "source": [
    "svm_acc = accuracy_score(y_test, y_pred)"
   ]
  },
  {
   "cell_type": "code",
   "execution_count": 343,
   "metadata": {},
   "outputs": [
    {
     "name": "stdout",
     "output_type": "stream",
     "text": [
      "Support Vector Machine Accuracy Score: 0.5619930475086906\n"
     ]
    }
   ],
   "source": [
    "print(\"Support Vector Machine Accuracy Score:\", svm_acc)"
   ]
  },
  {
   "cell_type": "code",
   "execution_count": 344,
   "metadata": {},
   "outputs": [],
   "source": [
    "params = {'C' : [0.1, 1, 10], 'gamma':[0.00001, 0.0001, 0.001, 0.01, 0.1]}"
   ]
  },
  {
   "cell_type": "code",
   "execution_count": 345,
   "metadata": {},
   "outputs": [
    {
     "name": "stdout",
     "output_type": "stream",
     "text": [
      "Fitting 5 folds for each of 15 candidates, totalling 75 fits\n"
     ]
    },
    {
     "name": "stderr",
     "output_type": "stream",
     "text": [
      "[Parallel(n_jobs=-1)]: Using backend LokyBackend with 8 concurrent workers.\n",
      "[Parallel(n_jobs=-1)]: Done  34 tasks      | elapsed:    6.4s\n",
      "[Parallel(n_jobs=-1)]: Done  75 out of  75 | elapsed:   12.6s finished\n"
     ]
    },
    {
     "name": "stdout",
     "output_type": "stream",
     "text": [
      "Best params: {'C': 1, 'gamma': 0.001}\n",
      "Best score: 0.5842258261290254\n"
     ]
    }
   ],
   "source": [
    "svm_cv = GridSearchCV(svm, params, cv = 5, scoring = 'accuracy', verbose = 1, n_jobs = -1)\n",
    "svm_cv.fit(X_train_scaled, y_train)\n",
    "print(\"Best params:\", svm_cv.best_params_)\n",
    "print(\"Best score:\", svm_cv.best_score_)"
   ]
  },
  {
   "cell_type": "code",
   "execution_count": 346,
   "metadata": {},
   "outputs": [],
   "source": [
    "tuned_svm = svm_cv.best_estimator_"
   ]
  },
  {
   "cell_type": "code",
   "execution_count": 347,
   "metadata": {},
   "outputs": [
    {
     "data": {
      "text/plain": [
       "SVC(C=1, gamma=0.001)"
      ]
     },
     "execution_count": 347,
     "metadata": {},
     "output_type": "execute_result"
    }
   ],
   "source": [
    "tuned_svm"
   ]
  },
  {
   "cell_type": "code",
   "execution_count": 348,
   "metadata": {},
   "outputs": [
    {
     "data": {
      "text/plain": [
       "SVC(C=1, gamma=0.001)"
      ]
     },
     "execution_count": 348,
     "metadata": {},
     "output_type": "execute_result"
    }
   ],
   "source": [
    "tuned_svm.fit(X_train_scaled, y_train)"
   ]
  },
  {
   "cell_type": "code",
   "execution_count": 349,
   "metadata": {},
   "outputs": [],
   "source": [
    "y_pred = tuned_svm.predict(X_test_scaled)"
   ]
  },
  {
   "cell_type": "code",
   "execution_count": 350,
   "metadata": {},
   "outputs": [],
   "source": [
    "svm_acc = accuracy_score(y_test, y_pred)"
   ]
  },
  {
   "cell_type": "code",
   "execution_count": 351,
   "metadata": {},
   "outputs": [
    {
     "name": "stdout",
     "output_type": "stream",
     "text": [
      "Support Vector Machine Accuracy: 0.5677867902665121\n"
     ]
    }
   ],
   "source": [
    "print(\"Support Vector Machine Accuracy:\", svm_acc)"
   ]
  },
  {
   "cell_type": "code",
   "execution_count": 352,
   "metadata": {},
   "outputs": [],
   "source": [
    "optimal_models.update({'Support Vector Machine': {'C': 1, 'gamma': 0.001, 'test_accuracy': 0.568}})"
   ]
  },
  {
   "cell_type": "code",
   "execution_count": 353,
   "metadata": {},
   "outputs": [],
   "source": [
    "results_df = pd.DataFrame(optimal_models)"
   ]
  },
  {
   "cell_type": "code",
   "execution_count": 354,
   "metadata": {},
   "outputs": [
    {
     "data": {
      "text/plain": [
       "Voting Classifier           0.577\n",
       "Logistic Regression         0.575\n",
       "Bagging Classifier          0.572\n",
       "Support Vector Machine      0.568\n",
       "Decision Tree Classifier    0.564\n",
       "Random Forest               0.561\n",
       "AdaBoost                    0.556\n",
       "KNN                         0.555\n",
       "Gradient Boost              0.548\n",
       "Naive Bayes                 0.547\n",
       "XGBoost                     0.533\n",
       "Name: test_accuracy, dtype: object"
      ]
     },
     "execution_count": 354,
     "metadata": {},
     "output_type": "execute_result"
    }
   ],
   "source": [
    "results_df.T.sort_values(by='test_accuracy', ascending = False)['test_accuracy']"
   ]
  },
  {
   "cell_type": "code",
   "execution_count": 355,
   "metadata": {},
   "outputs": [
    {
     "data": {
      "text/html": [
       "<div>\n",
       "<style scoped>\n",
       "    .dataframe tbody tr th:only-of-type {\n",
       "        vertical-align: middle;\n",
       "    }\n",
       "\n",
       "    .dataframe tbody tr th {\n",
       "        vertical-align: top;\n",
       "    }\n",
       "\n",
       "    .dataframe thead th {\n",
       "        text-align: right;\n",
       "    }\n",
       "</style>\n",
       "<table border=\"1\" class=\"dataframe\">\n",
       "  <thead>\n",
       "    <tr style=\"text-align: right;\">\n",
       "      <th></th>\n",
       "      <th>KNN</th>\n",
       "      <th>Logistic Regression</th>\n",
       "      <th>Decision Tree Classifier</th>\n",
       "      <th>Voting Classifier</th>\n",
       "      <th>Bagging Classifier</th>\n",
       "      <th>Random Forest</th>\n",
       "      <th>AdaBoost</th>\n",
       "      <th>Gradient Boost</th>\n",
       "      <th>XGBoost</th>\n",
       "      <th>Naive Bayes</th>\n",
       "      <th>Support Vector Machine</th>\n",
       "    </tr>\n",
       "  </thead>\n",
       "  <tbody>\n",
       "    <tr>\n",
       "      <th>n_neighbors</th>\n",
       "      <td>11.000</td>\n",
       "      <td>NaN</td>\n",
       "      <td>NaN</td>\n",
       "      <td>NaN</td>\n",
       "      <td>NaN</td>\n",
       "      <td>NaN</td>\n",
       "      <td>NaN</td>\n",
       "      <td>NaN</td>\n",
       "      <td>NaN</td>\n",
       "      <td>NaN</td>\n",
       "      <td>NaN</td>\n",
       "    </tr>\n",
       "    <tr>\n",
       "      <th>test_accuracy</th>\n",
       "      <td>0.555</td>\n",
       "      <td>0.575</td>\n",
       "      <td>0.564</td>\n",
       "      <td>0.577</td>\n",
       "      <td>0.572</td>\n",
       "      <td>0.561</td>\n",
       "      <td>0.556</td>\n",
       "      <td>0.548</td>\n",
       "      <td>0.533</td>\n",
       "      <td>0.547</td>\n",
       "      <td>0.568</td>\n",
       "    </tr>\n",
       "    <tr>\n",
       "      <th>C</th>\n",
       "      <td>NaN</td>\n",
       "      <td>0.001</td>\n",
       "      <td>NaN</td>\n",
       "      <td>NaN</td>\n",
       "      <td>NaN</td>\n",
       "      <td>NaN</td>\n",
       "      <td>NaN</td>\n",
       "      <td>NaN</td>\n",
       "      <td>NaN</td>\n",
       "      <td>NaN</td>\n",
       "      <td>1.000</td>\n",
       "    </tr>\n",
       "    <tr>\n",
       "      <th>max_depth</th>\n",
       "      <td>NaN</td>\n",
       "      <td>NaN</td>\n",
       "      <td>2.000</td>\n",
       "      <td>NaN</td>\n",
       "      <td>NaN</td>\n",
       "      <td>5.000</td>\n",
       "      <td>NaN</td>\n",
       "      <td>3.000</td>\n",
       "      <td>3.000</td>\n",
       "      <td>NaN</td>\n",
       "      <td>NaN</td>\n",
       "    </tr>\n",
       "    <tr>\n",
       "      <th>Models</th>\n",
       "      <td>NaN</td>\n",
       "      <td>NaN</td>\n",
       "      <td>NaN</td>\n",
       "      <td>[KNN, Logistic Regression, Decision Tree Class...</td>\n",
       "      <td>NaN</td>\n",
       "      <td>NaN</td>\n",
       "      <td>NaN</td>\n",
       "      <td>NaN</td>\n",
       "      <td>NaN</td>\n",
       "      <td>NaN</td>\n",
       "      <td>NaN</td>\n",
       "    </tr>\n",
       "    <tr>\n",
       "      <th>base_estimator</th>\n",
       "      <td>NaN</td>\n",
       "      <td>NaN</td>\n",
       "      <td>NaN</td>\n",
       "      <td>NaN</td>\n",
       "      <td>Logistic Regression</td>\n",
       "      <td>NaN</td>\n",
       "      <td>NaN</td>\n",
       "      <td>NaN</td>\n",
       "      <td>NaN</td>\n",
       "      <td>NaN</td>\n",
       "      <td>NaN</td>\n",
       "    </tr>\n",
       "    <tr>\n",
       "      <th>n_estimators</th>\n",
       "      <td>NaN</td>\n",
       "      <td>NaN</td>\n",
       "      <td>NaN</td>\n",
       "      <td>NaN</td>\n",
       "      <td>NaN</td>\n",
       "      <td>200.000</td>\n",
       "      <td>200</td>\n",
       "      <td>100.000</td>\n",
       "      <td>270.000</td>\n",
       "      <td>NaN</td>\n",
       "      <td>NaN</td>\n",
       "    </tr>\n",
       "    <tr>\n",
       "      <th>base_model</th>\n",
       "      <td>NaN</td>\n",
       "      <td>NaN</td>\n",
       "      <td>NaN</td>\n",
       "      <td>NaN</td>\n",
       "      <td>NaN</td>\n",
       "      <td>NaN</td>\n",
       "      <td>Decision Tree</td>\n",
       "      <td>NaN</td>\n",
       "      <td>NaN</td>\n",
       "      <td>NaN</td>\n",
       "      <td>NaN</td>\n",
       "    </tr>\n",
       "    <tr>\n",
       "      <th>learning_rate</th>\n",
       "      <td>NaN</td>\n",
       "      <td>NaN</td>\n",
       "      <td>NaN</td>\n",
       "      <td>NaN</td>\n",
       "      <td>NaN</td>\n",
       "      <td>NaN</td>\n",
       "      <td>NaN</td>\n",
       "      <td>0.050</td>\n",
       "      <td>0.010</td>\n",
       "      <td>NaN</td>\n",
       "      <td>NaN</td>\n",
       "    </tr>\n",
       "    <tr>\n",
       "      <th>colsample_bytree</th>\n",
       "      <td>NaN</td>\n",
       "      <td>NaN</td>\n",
       "      <td>NaN</td>\n",
       "      <td>NaN</td>\n",
       "      <td>NaN</td>\n",
       "      <td>NaN</td>\n",
       "      <td>NaN</td>\n",
       "      <td>NaN</td>\n",
       "      <td>0.750</td>\n",
       "      <td>NaN</td>\n",
       "      <td>NaN</td>\n",
       "    </tr>\n",
       "    <tr>\n",
       "      <th>gamma</th>\n",
       "      <td>NaN</td>\n",
       "      <td>NaN</td>\n",
       "      <td>NaN</td>\n",
       "      <td>NaN</td>\n",
       "      <td>NaN</td>\n",
       "      <td>NaN</td>\n",
       "      <td>NaN</td>\n",
       "      <td>NaN</td>\n",
       "      <td>NaN</td>\n",
       "      <td>NaN</td>\n",
       "      <td>0.001</td>\n",
       "    </tr>\n",
       "  </tbody>\n",
       "</table>\n",
       "</div>"
      ],
      "text/plain": [
       "                     KNN  Logistic Regression  Decision Tree Classifier  \\\n",
       "n_neighbors       11.000                  NaN                       NaN   \n",
       "test_accuracy      0.555                0.575                     0.564   \n",
       "C                    NaN                0.001                       NaN   \n",
       "max_depth            NaN                  NaN                     2.000   \n",
       "Models               NaN                  NaN                       NaN   \n",
       "base_estimator       NaN                  NaN                       NaN   \n",
       "n_estimators         NaN                  NaN                       NaN   \n",
       "base_model           NaN                  NaN                       NaN   \n",
       "learning_rate        NaN                  NaN                       NaN   \n",
       "colsample_bytree     NaN                  NaN                       NaN   \n",
       "gamma                NaN                  NaN                       NaN   \n",
       "\n",
       "                                                  Voting Classifier  \\\n",
       "n_neighbors                                                     NaN   \n",
       "test_accuracy                                                 0.577   \n",
       "C                                                               NaN   \n",
       "max_depth                                                       NaN   \n",
       "Models            [KNN, Logistic Regression, Decision Tree Class...   \n",
       "base_estimator                                                  NaN   \n",
       "n_estimators                                                    NaN   \n",
       "base_model                                                      NaN   \n",
       "learning_rate                                                   NaN   \n",
       "colsample_bytree                                                NaN   \n",
       "gamma                                                           NaN   \n",
       "\n",
       "                   Bagging Classifier  Random Forest       AdaBoost  \\\n",
       "n_neighbors                       NaN            NaN            NaN   \n",
       "test_accuracy                   0.572          0.561          0.556   \n",
       "C                                 NaN            NaN            NaN   \n",
       "max_depth                         NaN          5.000            NaN   \n",
       "Models                            NaN            NaN            NaN   \n",
       "base_estimator    Logistic Regression            NaN            NaN   \n",
       "n_estimators                      NaN        200.000            200   \n",
       "base_model                        NaN            NaN  Decision Tree   \n",
       "learning_rate                     NaN            NaN            NaN   \n",
       "colsample_bytree                  NaN            NaN            NaN   \n",
       "gamma                             NaN            NaN            NaN   \n",
       "\n",
       "                  Gradient Boost  XGBoost  Naive Bayes  Support Vector Machine  \n",
       "n_neighbors                  NaN      NaN          NaN                     NaN  \n",
       "test_accuracy              0.548    0.533        0.547                   0.568  \n",
       "C                            NaN      NaN          NaN                   1.000  \n",
       "max_depth                  3.000    3.000          NaN                     NaN  \n",
       "Models                       NaN      NaN          NaN                     NaN  \n",
       "base_estimator               NaN      NaN          NaN                     NaN  \n",
       "n_estimators             100.000  270.000          NaN                     NaN  \n",
       "base_model                   NaN      NaN          NaN                     NaN  \n",
       "learning_rate              0.050    0.010          NaN                     NaN  \n",
       "colsample_bytree             NaN    0.750          NaN                     NaN  \n",
       "gamma                        NaN      NaN          NaN                   0.001  "
      ]
     },
     "execution_count": 355,
     "metadata": {},
     "output_type": "execute_result"
    }
   ],
   "source": [
    "results_df"
   ]
  },
  {
   "cell_type": "code",
   "execution_count": 356,
   "metadata": {},
   "outputs": [],
   "source": [
    "test_acc_df = pd.DataFrame(results_df.T['test_accuracy'])"
   ]
  },
  {
   "cell_type": "code",
   "execution_count": 357,
   "metadata": {},
   "outputs": [
    {
     "data": {
      "text/html": [
       "<div>\n",
       "<style scoped>\n",
       "    .dataframe tbody tr th:only-of-type {\n",
       "        vertical-align: middle;\n",
       "    }\n",
       "\n",
       "    .dataframe tbody tr th {\n",
       "        vertical-align: top;\n",
       "    }\n",
       "\n",
       "    .dataframe thead th {\n",
       "        text-align: right;\n",
       "    }\n",
       "</style>\n",
       "<table border=\"1\" class=\"dataframe\">\n",
       "  <thead>\n",
       "    <tr style=\"text-align: right;\">\n",
       "      <th></th>\n",
       "      <th>test_accuracy</th>\n",
       "    </tr>\n",
       "  </thead>\n",
       "  <tbody>\n",
       "    <tr>\n",
       "      <th>KNN</th>\n",
       "      <td>0.555</td>\n",
       "    </tr>\n",
       "    <tr>\n",
       "      <th>Logistic Regression</th>\n",
       "      <td>0.575</td>\n",
       "    </tr>\n",
       "    <tr>\n",
       "      <th>Decision Tree Classifier</th>\n",
       "      <td>0.564</td>\n",
       "    </tr>\n",
       "    <tr>\n",
       "      <th>Voting Classifier</th>\n",
       "      <td>0.577</td>\n",
       "    </tr>\n",
       "    <tr>\n",
       "      <th>Bagging Classifier</th>\n",
       "      <td>0.572</td>\n",
       "    </tr>\n",
       "    <tr>\n",
       "      <th>Random Forest</th>\n",
       "      <td>0.561</td>\n",
       "    </tr>\n",
       "    <tr>\n",
       "      <th>AdaBoost</th>\n",
       "      <td>0.556</td>\n",
       "    </tr>\n",
       "    <tr>\n",
       "      <th>Gradient Boost</th>\n",
       "      <td>0.548</td>\n",
       "    </tr>\n",
       "    <tr>\n",
       "      <th>XGBoost</th>\n",
       "      <td>0.533</td>\n",
       "    </tr>\n",
       "    <tr>\n",
       "      <th>Naive Bayes</th>\n",
       "      <td>0.547</td>\n",
       "    </tr>\n",
       "    <tr>\n",
       "      <th>Support Vector Machine</th>\n",
       "      <td>0.568</td>\n",
       "    </tr>\n",
       "  </tbody>\n",
       "</table>\n",
       "</div>"
      ],
      "text/plain": [
       "                         test_accuracy\n",
       "KNN                              0.555\n",
       "Logistic Regression              0.575\n",
       "Decision Tree Classifier         0.564\n",
       "Voting Classifier                0.577\n",
       "Bagging Classifier               0.572\n",
       "Random Forest                    0.561\n",
       "AdaBoost                         0.556\n",
       "Gradient Boost                   0.548\n",
       "XGBoost                          0.533\n",
       "Naive Bayes                      0.547\n",
       "Support Vector Machine           0.568"
      ]
     },
     "execution_count": 357,
     "metadata": {},
     "output_type": "execute_result"
    }
   ],
   "source": [
    "test_acc_df"
   ]
  },
  {
   "cell_type": "code",
   "execution_count": 358,
   "metadata": {},
   "outputs": [],
   "source": [
    "test_acc_df = test_acc_df.drop('Voting Classifier')"
   ]
  },
  {
   "cell_type": "code",
   "execution_count": 359,
   "metadata": {},
   "outputs": [
    {
     "data": {
      "text/html": [
       "<div>\n",
       "<style scoped>\n",
       "    .dataframe tbody tr th:only-of-type {\n",
       "        vertical-align: middle;\n",
       "    }\n",
       "\n",
       "    .dataframe tbody tr th {\n",
       "        vertical-align: top;\n",
       "    }\n",
       "\n",
       "    .dataframe thead th {\n",
       "        text-align: right;\n",
       "    }\n",
       "</style>\n",
       "<table border=\"1\" class=\"dataframe\">\n",
       "  <thead>\n",
       "    <tr style=\"text-align: right;\">\n",
       "      <th></th>\n",
       "      <th>test_accuracy</th>\n",
       "    </tr>\n",
       "  </thead>\n",
       "  <tbody>\n",
       "    <tr>\n",
       "      <th>KNN</th>\n",
       "      <td>0.555</td>\n",
       "    </tr>\n",
       "    <tr>\n",
       "      <th>Logistic Regression</th>\n",
       "      <td>0.575</td>\n",
       "    </tr>\n",
       "    <tr>\n",
       "      <th>Decision Tree Classifier</th>\n",
       "      <td>0.564</td>\n",
       "    </tr>\n",
       "    <tr>\n",
       "      <th>Bagging Classifier</th>\n",
       "      <td>0.572</td>\n",
       "    </tr>\n",
       "    <tr>\n",
       "      <th>Random Forest</th>\n",
       "      <td>0.561</td>\n",
       "    </tr>\n",
       "    <tr>\n",
       "      <th>AdaBoost</th>\n",
       "      <td>0.556</td>\n",
       "    </tr>\n",
       "    <tr>\n",
       "      <th>Gradient Boost</th>\n",
       "      <td>0.548</td>\n",
       "    </tr>\n",
       "    <tr>\n",
       "      <th>XGBoost</th>\n",
       "      <td>0.533</td>\n",
       "    </tr>\n",
       "    <tr>\n",
       "      <th>Naive Bayes</th>\n",
       "      <td>0.547</td>\n",
       "    </tr>\n",
       "    <tr>\n",
       "      <th>Support Vector Machine</th>\n",
       "      <td>0.568</td>\n",
       "    </tr>\n",
       "  </tbody>\n",
       "</table>\n",
       "</div>"
      ],
      "text/plain": [
       "                         test_accuracy\n",
       "KNN                              0.555\n",
       "Logistic Regression              0.575\n",
       "Decision Tree Classifier         0.564\n",
       "Bagging Classifier               0.572\n",
       "Random Forest                    0.561\n",
       "AdaBoost                         0.556\n",
       "Gradient Boost                   0.548\n",
       "XGBoost                          0.533\n",
       "Naive Bayes                      0.547\n",
       "Support Vector Machine           0.568"
      ]
     },
     "execution_count": 359,
     "metadata": {},
     "output_type": "execute_result"
    }
   ],
   "source": [
    "test_acc_df"
   ]
  },
  {
   "cell_type": "markdown",
   "metadata": {},
   "source": [
    "# And the winner is ..."
   ]
  },
  {
   "cell_type": "code",
   "execution_count": 360,
   "metadata": {},
   "outputs": [
    {
     "data": {
      "image/png": "[encoded data removed]",
      "text/plain": [
       "<Figure size 432x288 with 1 Axes>"
      ]
     },
     "metadata": {
      "needs_background": "light"
     },
     "output_type": "display_data"
    }
   ],
   "source": [
    "# Set the y-axis range\n",
    "y_min = 0.5\n",
    "y_max = 0.6\n",
    "\n",
    "# Horizontal line value\n",
    "horizontal_line = 0.538\n",
    "\n",
    "# Create the plot\n",
    "fig, ax = plt.subplots()\n",
    "\n",
    "# Plot the values\n",
    "ax.plot(test_acc_df['test_accuracy'], 'o-', label='Model Accuracy')\n",
    "\n",
    "# Set y-axis limits\n",
    "ax.set_ylim(y_min, y_max)\n",
    "\n",
    "# Add a horizontal line\n",
    "ax.axhline(y=horizontal_line, color='r', linestyle='--', label='Home Win Pct.')\n",
    "\n",
    "# Set x-axis labels\n",
    "ax.set_xticks(range(len(test_acc_df.index)))\n",
    "ax.set_xticklabels(test_acc_df.index, rotation=45, ha='right')\n",
    "\n",
    "# Set axis labels and title\n",
    "ax.set_xlabel('Models')\n",
    "ax.set_ylabel('Accuracy')\n",
    "ax.set_title('Test Accuracy of Models')\n",
    "\n",
    "# Add legend\n",
    "ax.legend()\n",
    "\n",
    "# Show the plot\n",
    "#plt.tight_layout()\n",
    "plt.show()\n",
    "\n",
    "\n",
    "\n"
   ]
  },
  {
   "cell_type": "code",
   "execution_count": null,
   "metadata": {},
   "outputs": [],
   "source": []
  },
  {
   "cell_type": "markdown",
   "metadata": {},
   "source": [
    "# Logistic Regression!\n",
    "Our best model is Logistic Regression with a test set accuracy of 0.575.<br>\n",
    "\n",
    "Our Voting Classifier, which included Logistic Regression, KNN and Decision Tree Classifier, achieved 57.7 accuracy on the test set, but that was with hard voting. In order for predicted probabilities to be available, we needed soft voting, and that reduced the accuracy. We need the predicted probabilities when deploying this model live, so the Voting Classifier isn't viable.<br>\n",
    "\n",
    "The test set contains 56.1 percent true positive labels. Logistic Regression makes positive predictions on 67.1 percent of the test set. So it's not just guessing the positive class for every sample."
   ]
  },
  {
   "cell_type": "code",
   "execution_count": 376,
   "metadata": {},
   "outputs": [],
   "source": [
    "pct_pos_pred = y_pred_lr.sum()/len(y_test)"
   ]
  },
  {
   "cell_type": "code",
   "execution_count": 377,
   "metadata": {},
   "outputs": [
    {
     "name": "stdout",
     "output_type": "stream",
     "text": [
      "Percentage of Positive Predictions: 0.6709154113557358\n"
     ]
    }
   ],
   "source": [
    "print(f\"Percentage of Positive Predictions: {pct_pos_pred}\")"
   ]
  },
  {
   "cell_type": "code",
   "execution_count": 361,
   "metadata": {},
   "outputs": [],
   "source": [
    "from sklearn.metrics import classification_report"
   ]
  },
  {
   "cell_type": "code",
   "execution_count": 364,
   "metadata": {},
   "outputs": [],
   "source": [
    "from sklearn.metrics import confusion_matrix"
   ]
  },
  {
   "cell_type": "code",
   "execution_count": 362,
   "metadata": {},
   "outputs": [
    {
     "name": "stdout",
     "output_type": "stream",
     "text": [
      "              precision    recall  f1-score   support\n",
      "\n",
      "           0       0.52      0.39      0.45       379\n",
      "           1       0.60      0.72      0.65       484\n",
      "\n",
      "    accuracy                           0.57       863\n",
      "   macro avg       0.56      0.55      0.55       863\n",
      "weighted avg       0.57      0.57      0.56       863\n",
      "\n"
     ]
    }
   ],
   "source": [
    "print(classification_report(y_test, y_pred_lr))"
   ]
  },
  {
   "cell_type": "code",
   "execution_count": null,
   "metadata": {},
   "outputs": [],
   "source": []
  },
  {
   "cell_type": "code",
   "execution_count": 375,
   "metadata": {},
   "outputs": [
    {
     "data": {
      "image/png": "[encoded data removed]",
      "text/plain": [
       "<Figure size 864x576 with 2 Axes>"
      ]
     },
     "metadata": {},
     "output_type": "display_data"
    }
   ],
   "source": [
    "sns.set(rc = {'figure.figsize':(12,8)}, font_scale = 2)\n",
    "clf_cmatrix = confusion_matrix(y_test, y_pred_lr)\n",
    "sns.heatmap(clf_cmatrix, fmt = 'd', annot = True, cmap = 'Blues').set(title = 'Log Reg Confusion Matrix');"
   ]
  },
  {
   "cell_type": "code",
   "execution_count": 192,
   "metadata": {},
   "outputs": [
    {
     "name": "stdout",
     "output_type": "stream",
     "text": [
      "Test set samples: 863\n",
      "True Positives: 484\n",
      "% of True Positives: 0.5608342989571263\n",
      "Positive Class Predictions: 599\n",
      "% of Positive Class Predictions: 0.694090382387022\n"
     ]
    }
   ],
   "source": [
    "# print(f\"Test set samples: {len(y_pred)}\")\n",
    "# print(f\"True Positives: {y_test.sum()}\")\n",
    "# print(f\"% of True Positives: {pct_true_pos}\")\n",
    "# print(f\"Positive Class Predictions: {y_pred.sum()}\")\n",
    "# print(f\"% of Positive Class Predictions: {pct_pos_pred}\")"
   ]
  },
  {
   "cell_type": "code",
   "execution_count": 169,
   "metadata": {},
   "outputs": [],
   "source": [
    "# lr_vote = LogisticRegression(C = 0.001, random_state = 42)\n",
    "# #svm_vote = SVC(C = 1, gamma = 0.001, random_state = 42)\n",
    "# #bc_vote = BaggingClassifier(base_estimator = lr_vote, n_estimators = 300, n_jobs = -1, random_state = 42)\n",
    "# dt_vote = DecisionTreeClassifier(max_depth = 2, random_state = 42)\n",
    "# #rf_vote = RandomForestClassifier(max_depth = 5, n_estimators = 200, random_state = 42)\n",
    "# #ab_vote = AdaBoostClassifier(base_estimator = base_dt, n_estimators = 200, random_state = 42)\n",
    "# knn_vote = KNeighborsClassifier(n_neighbors = 11)"
   ]
  },
  {
   "cell_type": "code",
   "execution_count": 170,
   "metadata": {},
   "outputs": [],
   "source": [
    "# classifiers = [('Logistic Regression', lr_vote), ('KNN', knn_vote), ('Decision Tree', dt_vote)]"
   ]
  },
  {
   "cell_type": "code",
   "execution_count": 171,
   "metadata": {},
   "outputs": [],
   "source": [
    "# vc = VotingClassifier(estimators = classifiers, voting = 'soft')"
   ]
  },
  {
   "cell_type": "code",
   "execution_count": 172,
   "metadata": {},
   "outputs": [],
   "source": [
    "# vc.fit(X_train_scaled, y_train)"
   ]
  },
  {
   "cell_type": "code",
   "execution_count": 173,
   "metadata": {},
   "outputs": [],
   "source": [
    "# y_pred = vc.predict(X_test_scaled)"
   ]
  },
  {
   "cell_type": "code",
   "execution_count": 174,
   "metadata": {},
   "outputs": [],
   "source": [
    "# accuracy_vc = accuracy_score(y_test, y_pred)"
   ]
  },
  {
   "cell_type": "code",
   "execution_count": 175,
   "metadata": {},
   "outputs": [],
   "source": [
    "# print(\"Voting Classifier Accuracy:\", accuracy_vc)"
   ]
  },
  {
   "cell_type": "code",
   "execution_count": 176,
   "metadata": {},
   "outputs": [],
   "source": [
    "# vc.predict_proba(X_test_scaled)"
   ]
  },
  {
   "cell_type": "code",
   "execution_count": null,
   "metadata": {},
   "outputs": [],
   "source": []
  }
 ],
 "metadata": {
  "kernelspec": {
   "display_name": "Python 3",
   "language": "python",
   "name": "python3"
  },
  "language_info": {
   "codemirror_mode": {
    "name": "ipython",
    "version": 3
   },
   "file_extension": ".py",
   "mimetype": "text/x-python",
   "name": "python",
   "nbconvert_exporter": "python",
   "pygments_lexer": "ipython3",
   "version": "3.8.5"
  }
 },
 "nbformat": 4,
 "nbformat_minor": 4
}
