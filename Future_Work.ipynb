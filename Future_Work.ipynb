{
 "cells": [
  {
   "cell_type": "markdown",
   "id": "6daf418a",
   "metadata": {},
   "source": [
    "# In-game predictions\n",
    "The next step could be to augment this model so that it predicts the winner of the game at any point during the game.<br>\n",
    "\n",
    "Bet MGM, FanDuel and DraftKings sportsbooks offer cashout options during games. For example, if your team is winning late in the game, you could cash out for a little bit less than the full amount you'd win if you waited until the end of the game. Conversely, you also could cash out a small amount to cut your losses if your team is losing. In-game probabilities would be helpful for cashout decisions, and also for sports trading.<br>"
   ]
  },
  {
   "cell_type": "markdown",
   "id": "81f34aa6",
   "metadata": {},
   "source": [
    "## How would we do this?\n",
    "We could use all our current features, and then add the current score of the game, the inning, how many outs, which bases are occupied. We also might add the current pitcher for each team if the starting pitcher has been relieved. This would require us to have every single pitcher's FanGraphs data ready. If there's no FG data available, then we would just have to impute with means.<br>"
   ]
  },
  {
   "cell_type": "markdown",
   "id": "0cc99f6b",
   "metadata": {},
   "source": [
    "## The opener problem\n",
    "Having data on the current pitcher during the game also would address a potential glitch in our current model when \"openers\" are used. An opener is a pitcher who pitches only the first or second inning. Sometimes this happens in \"bullpen\" games when a team doesn't have a true starting pitcher available and just pieces together innings with relievers. However, teams are starting to use openers before a legitimate starting pitcher. The opener might pitch an inning or two, and then the starter will go five or so innings. This way teams can have a more proven pitcher going later in the game. RotoGrinders often accounts for this, which is nice. RG often will indicate the pitcher expected to relieve the opener as the starter.<br>\n",
    "\n",
    "However, a model in which we always know who's currently pitching would be ideal.<br>"
   ]
  },
  {
   "cell_type": "markdown",
   "id": "3f02c892",
   "metadata": {},
   "source": [
    "## Where would we get the data?\n",
    "To implement an in-game model we'd have to comb the web for an affordable API that could give us real-time game data. The professional APIs can be really expensive. In the worst-case scenario, we could just follow the game we're betting on and input all the data ourselves. It might be a little labor intensive, but it could be manageable if inputting the name of the pitcher can fetch all the FG data, and then we just plug in inning, outs, score and occupied bases. "
   ]
  },
  {
   "cell_type": "markdown",
   "id": "c1830ece",
   "metadata": {},
   "source": [
    "## Current batter data?\n",
    "Our current model has hitting data for the whole team as a collective. However, if we know the starting lineup for each team, we could narrow that data down to the nine hitters in that game. This is another feature we could add to our in-game model. The hitting features would apply to whoever is currently batting."
   ]
  },
  {
   "cell_type": "markdown",
   "id": "e0490b00",
   "metadata": {},
   "source": [
    "# Update FanGraphs scraping code\n",
    "FanGraphs changed the format of the page we use to scrape data. Fortunately, there's a \"legacy\" url still available until the end of the season. Still, it would behoove use to adjust the scraping code for the new format."
   ]
  },
  {
   "cell_type": "markdown",
   "id": "3f0a77cc",
   "metadata": {},
   "source": [
    "# Strikeout-prop model?\n",
    "This is another thing on our wish list.<br>\n",
    "\n",
    "For this to happen we would need data for hitters against right-handed and left-handed pitchers, and we can't scrape that for past seasons. If we wanted to scrape that kind of data for 2023, we might have to do it before the season is over. Or we might have until the start of the 2024 season."
   ]
  },
  {
   "cell_type": "code",
   "execution_count": null,
   "id": "b64edd4e",
   "metadata": {},
   "outputs": [],
   "source": []
  }
 ],
 "metadata": {
  "kernelspec": {
   "display_name": "Python 3",
   "language": "python",
   "name": "python3"
  },
  "language_info": {
   "codemirror_mode": {
    "name": "ipython",
    "version": 3
   },
   "file_extension": ".py",
   "mimetype": "text/x-python",
   "name": "python",
   "nbconvert_exporter": "python",
   "pygments_lexer": "ipython3",
   "version": "3.8.5"
  }
 },
 "nbformat": 4,
 "nbformat_minor": 5
}
