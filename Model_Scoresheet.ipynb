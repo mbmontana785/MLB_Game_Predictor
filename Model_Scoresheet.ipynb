{
 "cells": [
  {
   "cell_type": "markdown",
   "id": "3648a97c",
   "metadata": {},
   "source": [
    "# Our betting day begins here\n",
    "**This is the first notebook that runs when we use our model**<br>\n",
    "\n",
    "Before we bet on games, we need to wrap up our previous day of betting. This notebook concatenates the daily model results and shows how the model is performing in live games.<br>"
   ]
  },
  {
   "cell_type": "code",
   "execution_count": 36,
   "id": "152c3703",
   "metadata": {},
   "outputs": [],
   "source": [
    "import pandas as pd\n",
    "import numpy as np\n",
    "from bs4 import BeautifulSoup\n",
    "import requests\n",
    "import datetime as dt\n",
    "from datetime import timedelta\n",
    "import time\n",
    "import papermill as pm"
   ]
  },
  {
   "cell_type": "code",
   "execution_count": 37,
   "id": "3b9dca6c",
   "metadata": {},
   "outputs": [],
   "source": [
    "def clean_unnamed(df):\n",
    "    \"\"\"\n",
    "    Deletes 'Unnamed: 0' column that we somehow get after reading in our CSVs\n",
    "    \"\"\"\n",
    "    if 'Unnamed: 0' in df.columns:\n",
    "        df = df.drop(columns = ['Unnamed: 0'])\n",
    "        return df\n",
    "    print(\"Dataframe does not have 'Unnamed: 0' column.\")"
   ]
  },
  {
   "cell_type": "code",
   "execution_count": 38,
   "id": "c1723719",
   "metadata": {},
   "outputs": [],
   "source": [
    "today = dt.date.today()"
   ]
  },
  {
   "cell_type": "code",
   "execution_count": 39,
   "id": "92152352",
   "metadata": {},
   "outputs": [],
   "source": [
    "today_str = str(today)"
   ]
  },
  {
   "cell_type": "markdown",
   "id": "4b7f2100",
   "metadata": {},
   "source": [
    "# 3-letter team codes\n",
    "The three-letter codes for each team"
   ]
  },
  {
   "cell_type": "code",
   "execution_count": 40,
   "id": "2461d01a",
   "metadata": {},
   "outputs": [],
   "source": [
    "team_codes = [\n",
    "    'ARI', 'ARI', 'ATL', 'BAL', 'BOS', 'CHW', 'CHC', 'CIN', 'CLE', 'COL', 'DET', 'HOU',\n",
    "    'KCR', 'LAA', 'LAD', 'MIA', 'MIL', 'MIN', 'NYY', 'NYM', 'OAK', 'PHI', 'PIT',\n",
    "    'SDP', 'SFG', 'SEA', 'STL', 'TBR', 'TEX', 'TOR', 'WSN'\n",
    "]"
   ]
  },
  {
   "cell_type": "markdown",
   "id": "76207312",
   "metadata": {},
   "source": [
    "# record_bets function\n",
    "This function runs if we have bets to record.<br>\n",
    "\n",
    "Our answers to the prompts will update yesterday_df.<br>\n",
    "\n",
    "**When entering the three-letter code for the year, please make sure it matches the code in the team_codes list in the previous cell. Otherwise, you'll get an error and will need to go back to the cell where we read in the yesterday_df.**"
   ]
  },
  {
   "cell_type": "code",
   "execution_count": 41,
   "id": "84a6e939",
   "metadata": {},
   "outputs": [],
   "source": [
    "def record_bets(num, yesterday_df):\n",
    "    if num_games > 0:\n",
    "        for i in range(num_games):\n",
    "            what_team = input(\"Enter the team you bet on. \").upper()\n",
    "            amount = input(\"Enter the amount you bet. \")\n",
    "            if what_team in yesterday_df['Away'].values:\n",
    "                yesterday_df.loc[yesterday_df['Away'] == what_team, 'A_Amt_Bet'] = float(amount)\n",
    "                won = float(input(\"How much did you win, including the stake? \"))\n",
    "                yesterday_df.loc[yesterday_df['Away'] == what_team, 'Money_Won'] = won\n",
    "            else:\n",
    "                yesterday_df.loc[yesterday_df['Home'] == what_team, 'H_Amt_Bet'] = float(amount)\n",
    "                won = float(input(\"How much did you win, including the stake? \"))\n",
    "                yesterday_df.loc[yesterday_df['Home'] == what_team, 'Money_Won'] = won\n",
    "            correct = input(\"Is the information you entered correct?\").upper()\n",
    "            if correct != 'Y':\n",
    "                yesterday_df = pd.read_csv('Predictions_Results_' + yesterday_str + '.csv')\n",
    "                record_bets(num)\n",
    "                \n",
    "        "
   ]
  },
  {
   "cell_type": "markdown",
   "id": "8bded872",
   "metadata": {},
   "source": [
    "Since we're not betting every single day, we input the number of days it's been since our last bet so we can derive the date to use to retrieve the CSV that needs to be filled in. So the \"yesterday\" variable might not necessarily be the previous day."
   ]
  },
  {
   "cell_type": "code",
   "execution_count": 42,
   "id": "f16125c6",
   "metadata": {},
   "outputs": [
    {
     "name": "stdout",
     "output_type": "stream",
     "text": [
      "Do you have bets to record? N\n"
     ]
    }
   ],
   "source": [
    "bets_to_record = input(\"Do you have bets to record? \").upper()\n",
    "if bets_to_record == 'Y':\n",
    "    since_last_bet = int(input(\"How many days since your last bet? \"))\n",
    "    yesterday = dt.date.today() - timedelta(days = since_last_bet)\n",
    "    yesterday_str = str(yesterday)\n",
    "    yesterday_df = pd.read_csv('Predictions_Results_' + yesterday_str + '.csv')\n",
    "    num_games = int(input(\"How many games did you bet on during your most recent betting day? \"))\n",
    "    record_bets(num_games, yesterday_df)\n",
    "    yesterday_df = yesterday_df.rename(columns = {'Away' : 'Away_Team', 'Home': 'Home_Team'})"
   ]
  },
  {
   "cell_type": "markdown",
   "id": "1ac3d64e",
   "metadata": {},
   "source": [
    "# yesterday_df\n",
    "In these next cells, we'll show yesterday_df if it exists, and then update it with the betting information we just input. If we didn't bet and yesterday_df was not created, these cells will handle the error."
   ]
  },
  {
   "cell_type": "code",
   "execution_count": 43,
   "id": "be52c6f3",
   "metadata": {},
   "outputs": [
    {
     "name": "stdout",
     "output_type": "stream",
     "text": [
      "The variable is not defined\n"
     ]
    }
   ],
   "source": [
    "try:\n",
    "    yesterday_df\n",
    "    result = undefined_variable + 10\n",
    "    print(result)\n",
    "except NameError:\n",
    "    print(\"The variable is not defined\")"
   ]
  },
  {
   "cell_type": "code",
   "execution_count": 45,
   "id": "062b0cea",
   "metadata": {},
   "outputs": [
    {
     "name": "stdout",
     "output_type": "stream",
     "text": [
      "The variable is not defined\n"
     ]
    }
   ],
   "source": [
    "try:\n",
    "    yesterday_df['Profit'] = yesterday_df['Money_Won'] - (yesterday_df['A_Amt_Bet'] + yesterday_df['H_Amt_Bet'])\n",
    "    result = undefined_variable + 10\n",
    "    print(result)\n",
    "except NameError:\n",
    "    print(\"The variable is not defined\") "
   ]
  },
  {
   "cell_type": "code",
   "execution_count": 46,
   "id": "191cde1a",
   "metadata": {},
   "outputs": [
    {
     "name": "stdout",
     "output_type": "stream",
     "text": [
      "The variable is not defined\n"
     ]
    }
   ],
   "source": [
    "try:\n",
    "    yesterday_df\n",
    "    result = undefined_variable + 10\n",
    "    print(result)\n",
    "except NameError:\n",
    "    print(\"The variable is not defined\")"
   ]
  },
  {
   "cell_type": "markdown",
   "id": "12290c48",
   "metadata": {},
   "source": [
    "# Creating CSV of game scores for season\n",
    "Using the Papermill library, we'll run the notebook where we scrape all the MLB scores this season from <a href = 'https://www.baseball-reference.com/leagues/majors/2023-schedule.shtml'>Baseball Reference</a>, then use a temporary notebook, 'stored_scores' or output_notebook, to store the code, then we run Papermill's execute_notebook function.<br>\n",
    "\n",
    "Then we can read in the 2023_Game_Scores csv and use it to merge with the Predictions_Results dataframe so we can evaluate how our model did with yesterday's games (or our most recent betting day). In the Live_Data_Wrangling notebook, this data will be used to create and derive the various win variables for our model."
   ]
  },
  {
   "cell_type": "code",
   "execution_count": 47,
   "id": "5d5c7c6e",
   "metadata": {},
   "outputs": [],
   "source": [
    "input_notebook = 'Game_Scores.ipynb'"
   ]
  },
  {
   "cell_type": "code",
   "execution_count": 48,
   "id": "45313866",
   "metadata": {},
   "outputs": [],
   "source": [
    "output_notebook = 'stored_scores.ipynb'"
   ]
  },
  {
   "cell_type": "code",
   "execution_count": 49,
   "id": "f5b38bcd",
   "metadata": {},
   "outputs": [
    {
     "data": {
      "application/vnd.jupyter.widget-view+json": {
       "model_id": "4f732626ea1c4b8f8e36bdc676fc483a",
       "version_major": 2,
       "version_minor": 0
      },
      "text/plain": [
       "HBox(children=(HTML(value='Executing'), FloatProgress(value=0.0, max=20.0), HTML(value='')))"
      ]
     },
     "metadata": {},
     "output_type": "display_data"
    },
    {
     "name": "stdout",
     "output_type": "stream",
     "text": [
      "\n"
     ]
    },
    {
     "data": {
      "text/plain": [
       "{'cells': [{'cell_type': 'markdown',\n",
       "   'metadata': {'tags': [],\n",
       "    'papermill': {'exception': False,\n",
       "     'start_time': '2023-08-22T20:48:02.243094',\n",
       "     'end_time': '2023-08-22T20:48:02.251291',\n",
       "     'duration': 0.008197,\n",
       "     'status': 'completed'}},\n",
       "   'source': \"# Scraping 2021 and 2022 game scores\\nWe only need to scrape two <a href='https://www.baseball-reference.com/leagues/majors/2022-schedule.shtml'>Baseball Reference</a> pages to wrangle scores from the 2021 and 2022 seasons.\\n\\nThis took a little figuring out because unlike most of the pages we scraped, this didn't come from a table. Instead, each score is listed under a date heading.\\n\",\n",
       "   'id': 'af098dfb'},\n",
       "  {'cell_type': 'code',\n",
       "   'execution_count': 1,\n",
       "   'metadata': {'tags': [],\n",
       "    'papermill': {'exception': False,\n",
       "     'start_time': '2023-08-22T20:48:02.267486',\n",
       "     'end_time': '2023-08-22T20:48:02.911092',\n",
       "     'duration': 0.643606,\n",
       "     'status': 'completed'},\n",
       "    'execution': {'iopub.status.busy': '2023-08-22T20:48:02.283651Z',\n",
       "     'iopub.execute_input': '2023-08-22T20:48:02.283651Z',\n",
       "     'shell.execute_reply': '2023-08-22T20:48:02.911092Z',\n",
       "     'iopub.status.idle': '2023-08-22T20:48:02.911092Z'}},\n",
       "   'outputs': [],\n",
       "   'source': 'import pandas as pd\\nimport numpy as np\\nfrom bs4 import BeautifulSoup\\nimport requests\\nimport unidecode\\nfrom datetime import datetime\\nfrom datetime import timedelta',\n",
       "   'id': '1e3c832e'},\n",
       "  {'cell_type': 'code',\n",
       "   'execution_count': None,\n",
       "   'metadata': {'tags': [],\n",
       "    'papermill': {'exception': False,\n",
       "     'start_time': '2023-08-22T20:48:02.927497',\n",
       "     'end_time': '2023-08-22T20:48:02.935667',\n",
       "     'duration': 0.00817,\n",
       "     'status': 'completed'}},\n",
       "   'outputs': [],\n",
       "   'source': '',\n",
       "   'id': 'c4604860'},\n",
       "  {'cell_type': 'code',\n",
       "   'execution_count': 2,\n",
       "   'metadata': {'tags': [],\n",
       "    'papermill': {'exception': False,\n",
       "     'start_time': '2023-08-22T20:48:02.949626',\n",
       "     'end_time': '2023-08-22T20:48:02.982314',\n",
       "     'duration': 0.032688,\n",
       "     'status': 'completed'},\n",
       "    'execution': {'iopub.status.busy': '2023-08-22T20:48:02.966027Z',\n",
       "     'iopub.execute_input': '2023-08-22T20:48:02.966027Z',\n",
       "     'shell.execute_reply': '2023-08-22T20:48:02.982314Z',\n",
       "     'iopub.status.idle': '2023-08-22T20:48:02.982314Z'}},\n",
       "   'outputs': [],\n",
       "   'source': \"br_string = 'https://www.baseball-reference.com/leagues/majors/2023-schedule.shtml' #This is the 2022 string\\n\",\n",
       "   'id': '5ec33b63'},\n",
       "  {'cell_type': 'code',\n",
       "   'execution_count': 3,\n",
       "   'metadata': {'tags': [],\n",
       "    'papermill': {'exception': False,\n",
       "     'start_time': '2023-08-22T20:48:02.990703',\n",
       "     'end_time': '2023-08-22T20:48:03.849563',\n",
       "     'duration': 0.85886,\n",
       "     'status': 'completed'},\n",
       "    'execution': {'iopub.status.busy': '2023-08-22T20:48:03.007046Z',\n",
       "     'iopub.execute_input': '2023-08-22T20:48:03.015158Z',\n",
       "     'shell.execute_reply': '2023-08-22T20:48:03.849563Z',\n",
       "     'iopub.status.idle': '2023-08-22T20:48:03.849563Z'}},\n",
       "   'outputs': [],\n",
       "   'source': 'br_page = requests.get(br_string)\\nbr_html = br_page.text\\nbr_soup = BeautifulSoup(br_html)',\n",
       "   'id': 'bc5a0d53'},\n",
       "  {'cell_type': 'code',\n",
       "   'execution_count': 4,\n",
       "   'metadata': {'tags': [],\n",
       "    'papermill': {'exception': False,\n",
       "     'start_time': '2023-08-22T20:48:03.865861',\n",
       "     'end_time': '2023-08-22T20:48:03.898381',\n",
       "     'duration': 0.03252,\n",
       "     'status': 'completed'},\n",
       "    'execution': {'iopub.status.busy': '2023-08-22T20:48:03.882122Z',\n",
       "     'iopub.execute_input': '2023-08-22T20:48:03.890341Z',\n",
       "     'shell.execute_reply': '2023-08-22T20:48:03.898381Z',\n",
       "     'iopub.status.idle': '2023-08-22T20:48:03.898381Z'}},\n",
       "   'outputs': [],\n",
       "   'source': '# print(br_soup.prettify)',\n",
       "   'id': 'f4a54c37'},\n",
       "  {'cell_type': 'code',\n",
       "   'execution_count': 5,\n",
       "   'metadata': {'tags': [],\n",
       "    'papermill': {'exception': False,\n",
       "     'start_time': '2023-08-22T20:48:03.914337',\n",
       "     'end_time': '2023-08-22T20:48:03.947206',\n",
       "     'duration': 0.032869,\n",
       "     'status': 'completed'},\n",
       "    'execution': {'iopub.status.busy': '2023-08-22T20:48:03.930686Z',\n",
       "     'iopub.execute_input': '2023-08-22T20:48:03.930686Z',\n",
       "     'iopub.status.idle': '2023-08-22T20:48:03.947206Z',\n",
       "     'shell.execute_reply': '2023-08-22T20:48:03.947206Z'}},\n",
       "   'outputs': [],\n",
       "   'source': '# br_soup',\n",
       "   'id': 'f4b3cb40'},\n",
       "  {'cell_type': 'markdown',\n",
       "   'metadata': {'tags': [],\n",
       "    'papermill': {'exception': False,\n",
       "     'start_time': '2023-08-22T20:48:03.957883',\n",
       "     'end_time': '2023-08-22T20:48:03.974308',\n",
       "     'duration': 0.016425,\n",
       "     'status': 'completed'}},\n",
       "   'source': '# Dates\\nThe dates are all in h3 tags.',\n",
       "   'id': 'c162cc17'},\n",
       "  {'cell_type': 'code',\n",
       "   'execution_count': 6,\n",
       "   'metadata': {'tags': [],\n",
       "    'papermill': {'exception': False,\n",
       "     'start_time': '2023-08-22T20:48:03.982674',\n",
       "     'end_time': '2023-08-22T20:48:04.037304',\n",
       "     'duration': 0.05463,\n",
       "     'status': 'completed'},\n",
       "    'execution': {'iopub.status.busy': '2023-08-22T20:48:04.003759Z',\n",
       "     'iopub.execute_input': '2023-08-22T20:48:04.020549Z',\n",
       "     'shell.execute_reply': '2023-08-22T20:48:04.037304Z',\n",
       "     'iopub.status.idle': '2023-08-22T20:48:04.037304Z'}},\n",
       "   'outputs': [],\n",
       "   'source': \"game_dates = br_soup.find_all('h3')\",\n",
       "   'id': '4a154a88'},\n",
       "  {'cell_type': 'code',\n",
       "   'execution_count': 7,\n",
       "   'metadata': {'tags': [],\n",
       "    'papermill': {'exception': False,\n",
       "     'start_time': '2023-08-22T20:48:04.053359',\n",
       "     'end_time': '2023-08-22T20:48:04.082738',\n",
       "     'duration': 0.029379,\n",
       "     'status': 'completed'},\n",
       "    'execution': {'iopub.status.busy': '2023-08-22T20:48:04.066075Z',\n",
       "     'iopub.execute_input': '2023-08-22T20:48:04.066075Z',\n",
       "     'iopub.status.idle': '2023-08-22T20:48:04.082738Z',\n",
       "     'shell.execute_reply': '2023-08-22T20:48:04.082738Z'}},\n",
       "   'outputs': [],\n",
       "   'source': 'opening_day = datetime(2023, 3, 30)',\n",
       "   'id': 'b7ebd624'},\n",
       "  {'cell_type': 'code',\n",
       "   'execution_count': 8,\n",
       "   'metadata': {'tags': [],\n",
       "    'papermill': {'exception': False,\n",
       "     'start_time': '2023-08-22T20:48:04.101299',\n",
       "     'end_time': '2023-08-22T20:48:04.142478',\n",
       "     'duration': 0.041179,\n",
       "     'status': 'completed'},\n",
       "    'execution': {'iopub.status.busy': '2023-08-22T20:48:04.125949Z',\n",
       "     'iopub.execute_input': '2023-08-22T20:48:04.125949Z',\n",
       "     'iopub.status.idle': '2023-08-22T20:48:04.142478Z',\n",
       "     'shell.execute_reply': '2023-08-22T20:48:04.142478Z'}},\n",
       "   'outputs': [{'output_type': 'execute_result',\n",
       "     'metadata': {},\n",
       "     'data': {'text/plain': 'datetime.datetime(2023, 3, 30, 0, 0)'},\n",
       "     'execution_count': 8}],\n",
       "   'source': 'opening_day',\n",
       "   'id': 'e54bd72e'},\n",
       "  {'cell_type': 'code',\n",
       "   'execution_count': 9,\n",
       "   'metadata': {'tags': [],\n",
       "    'papermill': {'exception': False,\n",
       "     'start_time': '2023-08-22T20:48:04.158517',\n",
       "     'end_time': '2023-08-22T20:48:04.191833',\n",
       "     'duration': 0.033316,\n",
       "     'status': 'completed'},\n",
       "    'execution': {'iopub.status.busy': '2023-08-22T20:48:04.174962Z',\n",
       "     'iopub.execute_input': '2023-08-22T20:48:04.174962Z',\n",
       "     'iopub.status.idle': '2023-08-22T20:48:04.191833Z',\n",
       "     'shell.execute_reply': '2023-08-22T20:48:04.191833Z'}},\n",
       "   'outputs': [],\n",
       "   'source': 'today = datetime.today()',\n",
       "   'id': '327f957e'},\n",
       "  {'cell_type': 'code',\n",
       "   'execution_count': 10,\n",
       "   'metadata': {'tags': [],\n",
       "    'papermill': {'exception': False,\n",
       "     'start_time': '2023-08-22T20:48:04.208106',\n",
       "     'end_time': '2023-08-22T20:48:04.241013',\n",
       "     'duration': 0.032907,\n",
       "     'status': 'completed'},\n",
       "    'execution': {'iopub.status.busy': '2023-08-22T20:48:04.224303Z',\n",
       "     'iopub.execute_input': '2023-08-22T20:48:04.224303Z',\n",
       "     'shell.execute_reply': '2023-08-22T20:48:04.241013Z',\n",
       "     'iopub.status.idle': '2023-08-22T20:48:04.241013Z'}},\n",
       "   'outputs': [{'output_type': 'execute_result',\n",
       "     'metadata': {},\n",
       "     'data': {'text/plain': 'datetime.datetime(2023, 8, 22, 16, 48, 4, 174963)'},\n",
       "     'execution_count': 10}],\n",
       "   'source': 'today',\n",
       "   'id': '04480711'},\n",
       "  {'cell_type': 'code',\n",
       "   'execution_count': 11,\n",
       "   'metadata': {'tags': [],\n",
       "    'papermill': {'exception': False,\n",
       "     'start_time': '2023-08-22T20:48:04.257015',\n",
       "     'end_time': '2023-08-22T20:48:04.290463',\n",
       "     'duration': 0.033448,\n",
       "     'status': 'completed'},\n",
       "    'execution': {'iopub.status.busy': '2023-08-22T20:48:04.273612Z',\n",
       "     'iopub.execute_input': '2023-08-22T20:48:04.273612Z',\n",
       "     'iopub.status.idle': '2023-08-22T20:48:04.290463Z',\n",
       "     'shell.execute_reply': '2023-08-22T20:48:04.290463Z'}},\n",
       "   'outputs': [],\n",
       "   'source': 'slice_var = ((today - opening_day).days) - 4',\n",
       "   'id': 'd3f6db28'},\n",
       "  {'cell_type': 'code',\n",
       "   'execution_count': 12,\n",
       "   'metadata': {'tags': [],\n",
       "    'papermill': {'exception': False,\n",
       "     'start_time': '2023-08-22T20:48:04.306475',\n",
       "     'end_time': '2023-08-22T20:48:04.331307',\n",
       "     'duration': 0.024832,\n",
       "     'status': 'completed'},\n",
       "    'execution': {'iopub.status.busy': '2023-08-22T20:48:04.322968Z',\n",
       "     'iopub.execute_input': '2023-08-22T20:48:04.322968Z',\n",
       "     'iopub.status.idle': '2023-08-22T20:48:04.331307Z',\n",
       "     'shell.execute_reply': '2023-08-22T20:48:04.331307Z'}},\n",
       "   'outputs': [],\n",
       "   'source': 'game_dates = game_dates[:slice_var]',\n",
       "   'id': 'e59f6e05'},\n",
       "  {'cell_type': 'markdown',\n",
       "   'metadata': {'tags': [],\n",
       "    'papermill': {'exception': False,\n",
       "     'start_time': '2023-08-22T20:48:04.347647',\n",
       "     'end_time': '2023-08-22T20:48:04.363871',\n",
       "     'duration': 0.016224,\n",
       "     'status': 'completed'}},\n",
       "   'source': \"# A modestly-sized for loop\\nThe names of the teams are in a tags that follow the h3 tags. These a tags are within p tags, and each team's score is in the p tag. Beautiful Soup's next_sibling method was the magic bullet here.\",\n",
       "   'id': '2cd33319'},\n",
       "  {'cell_type': 'code',\n",
       "   'execution_count': 13,\n",
       "   'metadata': {'tags': [],\n",
       "    'papermill': {'exception': False,\n",
       "     'start_time': '2023-08-22T20:48:04.372219',\n",
       "     'end_time': '2023-08-22T20:48:04.489696',\n",
       "     'duration': 0.117477,\n",
       "     'status': 'completed'},\n",
       "    'execution': {'iopub.status.busy': '2023-08-22T20:48:04.415656Z',\n",
       "     'iopub.execute_input': '2023-08-22T20:48:04.432204Z',\n",
       "     'iopub.status.idle': '2023-08-22T20:48:04.489696Z',\n",
       "     'shell.execute_reply': '2023-08-22T20:48:04.489696Z'}},\n",
       "   'outputs': [],\n",
       "   'source': 'table = []\\nfor h3 in game_dates:\\n    date = h3.get_text() \\n    h3_sibs = list(h3.next_siblings)\\n    h3_sibs = [string for string in h3_sibs if string != \\'\\\\n\\' ] #filtering out the siblings that only include \\'\\\\n\\'\\n    #We slice out the last list item because the last sib is just all the scores and standings from that date.\\n    #We can engineer those features ourselves\\n    for game in h3_sibs[:-1]: \\n        new_row = []\\n        teams = game.find_all(\\'a\\')\\n        away_team = (teams[0].text)\\n        #A lot of chained code here. \\n        #A list comprehension to extract the numbers from the string, then joining that list into a string.\\n        away_score = \\'\\'.join([num for num in teams[0].next_sibling if num.isdigit()])\\n        home_team = teams[1].text\\n        home_score = \\'\\'.join([num for num in teams[1].next_sibling if num.isdigit()])\\n        date_obj = datetime.strptime(date, \"%A, %B %d, %Y\").date()\\n        formatted_date = date_obj.strftime(\"%Y-%m-%d\")\\n        new_row = [away_team, away_score, home_team, home_score, formatted_date]\\n        table.append(new_row)\\n    \\n        ',\n",
       "   'id': '3b74d9e3'},\n",
       "  {'cell_type': 'code',\n",
       "   'execution_count': 14,\n",
       "   'metadata': {'tags': [],\n",
       "    'papermill': {'exception': False,\n",
       "     'start_time': '2023-08-22T20:48:04.506070',\n",
       "     'end_time': '2023-08-22T20:48:04.530574',\n",
       "     'duration': 0.024504,\n",
       "     'status': 'completed'},\n",
       "    'execution': {'iopub.status.busy': '2023-08-22T20:48:04.522453Z',\n",
       "     'iopub.execute_input': '2023-08-22T20:48:04.522453Z',\n",
       "     'iopub.status.idle': '2023-08-22T20:48:04.530574Z',\n",
       "     'shell.execute_reply': '2023-08-22T20:48:04.530574Z'}},\n",
       "   'outputs': [],\n",
       "   'source': \"scores_2023 = pd.DataFrame(table, columns = ['Away_Team', 'Away_Score', 'Home_Team', 'Home_Score', 'Date'])\",\n",
       "   'id': '9176e44b'},\n",
       "  {'cell_type': 'code',\n",
       "   'execution_count': 15,\n",
       "   'metadata': {'tags': [],\n",
       "    'papermill': {'exception': False,\n",
       "     'start_time': '2023-08-22T20:48:04.547100',\n",
       "     'end_time': '2023-08-22T20:48:04.598039',\n",
       "     'duration': 0.050939,\n",
       "     'status': 'completed'},\n",
       "    'execution': {'iopub.status.busy': '2023-08-22T20:48:04.563522Z',\n",
       "     'iopub.execute_input': '2023-08-22T20:48:04.563522Z',\n",
       "     'iopub.status.idle': '2023-08-22T20:48:04.598039Z',\n",
       "     'shell.execute_reply': '2023-08-22T20:48:04.598039Z'}},\n",
       "   'outputs': [],\n",
       "   'source': \"#Store in csv\\nfilepath = r'C:\\\\Users\\\\Owner\\\\Sports Betting\\\\MLB_Game_Outcome\\\\2023_Game_Scores.csv'\\nscores_2023.to_csv(filepath)\",\n",
       "   'id': 'bd7f68f6'},\n",
       "  {'cell_type': 'code',\n",
       "   'execution_count': None,\n",
       "   'metadata': {'tags': [],\n",
       "    'papermill': {'exception': False,\n",
       "     'start_time': '2023-08-22T20:48:04.614303',\n",
       "     'end_time': '2023-08-22T20:48:04.626539',\n",
       "     'duration': 0.012236,\n",
       "     'status': 'completed'}},\n",
       "   'outputs': [],\n",
       "   'source': '',\n",
       "   'id': '7a392686'}],\n",
       " 'metadata': {'kernelspec': {'display_name': 'Python 3',\n",
       "   'language': 'python',\n",
       "   'name': 'python3'},\n",
       "  'language_info': {'name': 'python',\n",
       "   'version': '3.8.5',\n",
       "   'mimetype': 'text/x-python',\n",
       "   'codemirror_mode': {'name': 'ipython', 'version': 3},\n",
       "   'pygments_lexer': 'ipython3',\n",
       "   'nbconvert_exporter': 'python',\n",
       "   'file_extension': '.py'},\n",
       "  'orig_nbformat_minor': 4,\n",
       "  'papermill': {'default_parameters': {},\n",
       "   'parameters': {},\n",
       "   'environment_variables': {},\n",
       "   'version': '2.4.0',\n",
       "   'input_path': 'Game_Scores.ipynb',\n",
       "   'output_path': 'stored_scores.ipynb',\n",
       "   'start_time': '2023-08-22T20:48:00.914458',\n",
       "   'end_time': '2023-08-22T20:48:04.995604',\n",
       "   'duration': 4.081146,\n",
       "   'exception': None}},\n",
       " 'nbformat': 4,\n",
       " 'nbformat_minor': 5}"
      ]
     },
     "execution_count": 49,
     "metadata": {},
     "output_type": "execute_result"
    }
   ],
   "source": [
    "pm.execute_notebook(input_notebook, output_notebook)"
   ]
  },
  {
   "cell_type": "code",
   "execution_count": 50,
   "id": "3a8e8fa7",
   "metadata": {},
   "outputs": [],
   "source": [
    "scores_df = pd.read_csv('2023_Game_Scores.csv')"
   ]
  },
  {
   "cell_type": "code",
   "execution_count": 51,
   "id": "07704c29",
   "metadata": {},
   "outputs": [],
   "source": [
    "scores_df = clean_unnamed(scores_df)"
   ]
  },
  {
   "cell_type": "code",
   "execution_count": 52,
   "id": "a6713199",
   "metadata": {},
   "outputs": [
    {
     "data": {
      "text/html": [
       "<div>\n",
       "<style scoped>\n",
       "    .dataframe tbody tr th:only-of-type {\n",
       "        vertical-align: middle;\n",
       "    }\n",
       "\n",
       "    .dataframe tbody tr th {\n",
       "        vertical-align: top;\n",
       "    }\n",
       "\n",
       "    .dataframe thead th {\n",
       "        text-align: right;\n",
       "    }\n",
       "</style>\n",
       "<table border=\"1\" class=\"dataframe\">\n",
       "  <thead>\n",
       "    <tr style=\"text-align: right;\">\n",
       "      <th></th>\n",
       "      <th>Away_Team</th>\n",
       "      <th>Away_Score</th>\n",
       "      <th>Home_Team</th>\n",
       "      <th>Home_Score</th>\n",
       "      <th>Date</th>\n",
       "    </tr>\n",
       "  </thead>\n",
       "  <tbody>\n",
       "    <tr>\n",
       "      <th>0</th>\n",
       "      <td>Baltimore Orioles</td>\n",
       "      <td>10</td>\n",
       "      <td>Boston Red Sox</td>\n",
       "      <td>9</td>\n",
       "      <td>2023-03-30</td>\n",
       "    </tr>\n",
       "    <tr>\n",
       "      <th>1</th>\n",
       "      <td>Milwaukee Brewers</td>\n",
       "      <td>0</td>\n",
       "      <td>Chicago Cubs</td>\n",
       "      <td>4</td>\n",
       "      <td>2023-03-30</td>\n",
       "    </tr>\n",
       "    <tr>\n",
       "      <th>2</th>\n",
       "      <td>Pittsburgh Pirates</td>\n",
       "      <td>5</td>\n",
       "      <td>Cincinnati Reds</td>\n",
       "      <td>4</td>\n",
       "      <td>2023-03-30</td>\n",
       "    </tr>\n",
       "    <tr>\n",
       "      <th>3</th>\n",
       "      <td>Chicago White Sox</td>\n",
       "      <td>3</td>\n",
       "      <td>Houston Astros</td>\n",
       "      <td>2</td>\n",
       "      <td>2023-03-30</td>\n",
       "    </tr>\n",
       "    <tr>\n",
       "      <th>4</th>\n",
       "      <td>Minnesota Twins</td>\n",
       "      <td>2</td>\n",
       "      <td>Kansas City Royals</td>\n",
       "      <td>0</td>\n",
       "      <td>2023-03-30</td>\n",
       "    </tr>\n",
       "  </tbody>\n",
       "</table>\n",
       "</div>"
      ],
      "text/plain": [
       "            Away_Team  Away_Score           Home_Team  Home_Score        Date\n",
       "0   Baltimore Orioles          10      Boston Red Sox           9  2023-03-30\n",
       "1   Milwaukee Brewers           0        Chicago Cubs           4  2023-03-30\n",
       "2  Pittsburgh Pirates           5     Cincinnati Reds           4  2023-03-30\n",
       "3   Chicago White Sox           3      Houston Astros           2  2023-03-30\n",
       "4     Minnesota Twins           2  Kansas City Royals           0  2023-03-30"
      ]
     },
     "execution_count": 52,
     "metadata": {},
     "output_type": "execute_result"
    }
   ],
   "source": [
    "scores_df.head()"
   ]
  },
  {
   "cell_type": "code",
   "execution_count": 53,
   "id": "126f0a4e",
   "metadata": {},
   "outputs": [
    {
     "data": {
      "text/html": [
       "<div>\n",
       "<style scoped>\n",
       "    .dataframe tbody tr th:only-of-type {\n",
       "        vertical-align: middle;\n",
       "    }\n",
       "\n",
       "    .dataframe tbody tr th {\n",
       "        vertical-align: top;\n",
       "    }\n",
       "\n",
       "    .dataframe thead th {\n",
       "        text-align: right;\n",
       "    }\n",
       "</style>\n",
       "<table border=\"1\" class=\"dataframe\">\n",
       "  <thead>\n",
       "    <tr style=\"text-align: right;\">\n",
       "      <th></th>\n",
       "      <th>Away_Team</th>\n",
       "      <th>Away_Score</th>\n",
       "      <th>Home_Team</th>\n",
       "      <th>Home_Score</th>\n",
       "      <th>Date</th>\n",
       "    </tr>\n",
       "  </thead>\n",
       "  <tbody>\n",
       "    <tr>\n",
       "      <th>1871</th>\n",
       "      <td>Boston Red Sox</td>\n",
       "      <td>4</td>\n",
       "      <td>Houston Astros</td>\n",
       "      <td>9</td>\n",
       "      <td>2023-08-21</td>\n",
       "    </tr>\n",
       "    <tr>\n",
       "      <th>1872</th>\n",
       "      <td>Kansas City Royals</td>\n",
       "      <td>4</td>\n",
       "      <td>Oakland Athletics</td>\n",
       "      <td>6</td>\n",
       "      <td>2023-08-21</td>\n",
       "    </tr>\n",
       "    <tr>\n",
       "      <th>1873</th>\n",
       "      <td>San Francisco Giants</td>\n",
       "      <td>4</td>\n",
       "      <td>Philadelphia Phillies</td>\n",
       "      <td>10</td>\n",
       "      <td>2023-08-21</td>\n",
       "    </tr>\n",
       "    <tr>\n",
       "      <th>1874</th>\n",
       "      <td>St. Louis Cardinals</td>\n",
       "      <td>1</td>\n",
       "      <td>Pittsburgh Pirates</td>\n",
       "      <td>11</td>\n",
       "      <td>2023-08-21</td>\n",
       "    </tr>\n",
       "    <tr>\n",
       "      <th>1875</th>\n",
       "      <td>Miami Marlins</td>\n",
       "      <td>2</td>\n",
       "      <td>San Diego Padres</td>\n",
       "      <td>6</td>\n",
       "      <td>2023-08-21</td>\n",
       "    </tr>\n",
       "  </tbody>\n",
       "</table>\n",
       "</div>"
      ],
      "text/plain": [
       "                 Away_Team  Away_Score              Home_Team  Home_Score  \\\n",
       "1871        Boston Red Sox           4         Houston Astros           9   \n",
       "1872    Kansas City Royals           4      Oakland Athletics           6   \n",
       "1873  San Francisco Giants           4  Philadelphia Phillies          10   \n",
       "1874   St. Louis Cardinals           1     Pittsburgh Pirates          11   \n",
       "1875         Miami Marlins           2       San Diego Padres           6   \n",
       "\n",
       "            Date  \n",
       "1871  2023-08-21  \n",
       "1872  2023-08-21  \n",
       "1873  2023-08-21  \n",
       "1874  2023-08-21  \n",
       "1875  2023-08-21  "
      ]
     },
     "execution_count": 53,
     "metadata": {},
     "output_type": "execute_result"
    }
   ],
   "source": [
    "scores_df.tail()"
   ]
  },
  {
   "cell_type": "code",
   "execution_count": 54,
   "id": "a684735f",
   "metadata": {},
   "outputs": [
    {
     "name": "stdout",
     "output_type": "stream",
     "text": [
      "<class 'pandas.core.frame.DataFrame'>\n",
      "RangeIndex: 1876 entries, 0 to 1875\n",
      "Data columns (total 5 columns):\n",
      " #   Column      Non-Null Count  Dtype \n",
      "---  ------      --------------  ----- \n",
      " 0   Away_Team   1876 non-null   object\n",
      " 1   Away_Score  1876 non-null   int64 \n",
      " 2   Home_Team   1876 non-null   object\n",
      " 3   Home_Score  1876 non-null   int64 \n",
      " 4   Date        1876 non-null   object\n",
      "dtypes: int64(2), object(3)\n",
      "memory usage: 73.4+ KB\n"
     ]
    }
   ],
   "source": [
    "scores_df.info()"
   ]
  },
  {
   "cell_type": "code",
   "execution_count": 55,
   "id": "9206e484",
   "metadata": {},
   "outputs": [
    {
     "name": "stdout",
     "output_type": "stream",
     "text": [
      "The variable is not defined\n"
     ]
    }
   ],
   "source": [
    "scores_df['Date'] = pd.to_datetime(scores_df['Date'])\n",
    "\n",
    "try:\n",
    "    yesterday_df['Date'] = pd.to_datetime(yesterday_df['Date'])\n",
    "    result = undefined_variable + 10\n",
    "    print(result)\n",
    "except NameError:\n",
    "    print(\"The variable is not defined\")"
   ]
  },
  {
   "cell_type": "markdown",
   "id": "039fd458",
   "metadata": {},
   "source": [
    "Column indicating if home or road team won game"
   ]
  },
  {
   "cell_type": "code",
   "execution_count": 56,
   "id": "897a31ac",
   "metadata": {},
   "outputs": [],
   "source": [
    "scores_df['Home_Win'] = np.where(scores_df['Home_Score'] > scores_df['Away_Score'], 1, 0)\n",
    "scores_df['Away_Win'] = np.where(scores_df['Away_Score'] > scores_df['Home_Score'], 1, 0)"
   ]
  },
  {
   "cell_type": "code",
   "execution_count": 57,
   "id": "80a8a5a6",
   "metadata": {},
   "outputs": [
    {
     "data": {
      "text/html": [
       "<div>\n",
       "<style scoped>\n",
       "    .dataframe tbody tr th:only-of-type {\n",
       "        vertical-align: middle;\n",
       "    }\n",
       "\n",
       "    .dataframe tbody tr th {\n",
       "        vertical-align: top;\n",
       "    }\n",
       "\n",
       "    .dataframe thead th {\n",
       "        text-align: right;\n",
       "    }\n",
       "</style>\n",
       "<table border=\"1\" class=\"dataframe\">\n",
       "  <thead>\n",
       "    <tr style=\"text-align: right;\">\n",
       "      <th></th>\n",
       "      <th>Away_Team</th>\n",
       "      <th>Away_Score</th>\n",
       "      <th>Home_Team</th>\n",
       "      <th>Home_Score</th>\n",
       "      <th>Date</th>\n",
       "      <th>Home_Win</th>\n",
       "      <th>Away_Win</th>\n",
       "    </tr>\n",
       "  </thead>\n",
       "  <tbody>\n",
       "    <tr>\n",
       "      <th>0</th>\n",
       "      <td>Baltimore Orioles</td>\n",
       "      <td>10</td>\n",
       "      <td>Boston Red Sox</td>\n",
       "      <td>9</td>\n",
       "      <td>2023-03-30</td>\n",
       "      <td>0</td>\n",
       "      <td>1</td>\n",
       "    </tr>\n",
       "    <tr>\n",
       "      <th>1</th>\n",
       "      <td>Milwaukee Brewers</td>\n",
       "      <td>0</td>\n",
       "      <td>Chicago Cubs</td>\n",
       "      <td>4</td>\n",
       "      <td>2023-03-30</td>\n",
       "      <td>1</td>\n",
       "      <td>0</td>\n",
       "    </tr>\n",
       "    <tr>\n",
       "      <th>2</th>\n",
       "      <td>Pittsburgh Pirates</td>\n",
       "      <td>5</td>\n",
       "      <td>Cincinnati Reds</td>\n",
       "      <td>4</td>\n",
       "      <td>2023-03-30</td>\n",
       "      <td>0</td>\n",
       "      <td>1</td>\n",
       "    </tr>\n",
       "    <tr>\n",
       "      <th>3</th>\n",
       "      <td>Chicago White Sox</td>\n",
       "      <td>3</td>\n",
       "      <td>Houston Astros</td>\n",
       "      <td>2</td>\n",
       "      <td>2023-03-30</td>\n",
       "      <td>0</td>\n",
       "      <td>1</td>\n",
       "    </tr>\n",
       "    <tr>\n",
       "      <th>4</th>\n",
       "      <td>Minnesota Twins</td>\n",
       "      <td>2</td>\n",
       "      <td>Kansas City Royals</td>\n",
       "      <td>0</td>\n",
       "      <td>2023-03-30</td>\n",
       "      <td>0</td>\n",
       "      <td>1</td>\n",
       "    </tr>\n",
       "  </tbody>\n",
       "</table>\n",
       "</div>"
      ],
      "text/plain": [
       "            Away_Team  Away_Score           Home_Team  Home_Score       Date  \\\n",
       "0   Baltimore Orioles          10      Boston Red Sox           9 2023-03-30   \n",
       "1   Milwaukee Brewers           0        Chicago Cubs           4 2023-03-30   \n",
       "2  Pittsburgh Pirates           5     Cincinnati Reds           4 2023-03-30   \n",
       "3   Chicago White Sox           3      Houston Astros           2 2023-03-30   \n",
       "4     Minnesota Twins           2  Kansas City Royals           0 2023-03-30   \n",
       "\n",
       "   Home_Win  Away_Win  \n",
       "0         0         1  \n",
       "1         1         0  \n",
       "2         0         1  \n",
       "3         0         1  \n",
       "4         0         1  "
      ]
     },
     "execution_count": 57,
     "metadata": {},
     "output_type": "execute_result"
    }
   ],
   "source": [
    "scores_df.head()"
   ]
  },
  {
   "cell_type": "code",
   "execution_count": 58,
   "id": "7f45311f",
   "metadata": {},
   "outputs": [
    {
     "data": {
      "text/html": [
       "<div>\n",
       "<style scoped>\n",
       "    .dataframe tbody tr th:only-of-type {\n",
       "        vertical-align: middle;\n",
       "    }\n",
       "\n",
       "    .dataframe tbody tr th {\n",
       "        vertical-align: top;\n",
       "    }\n",
       "\n",
       "    .dataframe thead th {\n",
       "        text-align: right;\n",
       "    }\n",
       "</style>\n",
       "<table border=\"1\" class=\"dataframe\">\n",
       "  <thead>\n",
       "    <tr style=\"text-align: right;\">\n",
       "      <th></th>\n",
       "      <th>Away_Team</th>\n",
       "      <th>Away_Score</th>\n",
       "      <th>Home_Team</th>\n",
       "      <th>Home_Score</th>\n",
       "      <th>Date</th>\n",
       "      <th>Home_Win</th>\n",
       "      <th>Away_Win</th>\n",
       "    </tr>\n",
       "  </thead>\n",
       "  <tbody>\n",
       "    <tr>\n",
       "      <th>1871</th>\n",
       "      <td>Boston Red Sox</td>\n",
       "      <td>4</td>\n",
       "      <td>Houston Astros</td>\n",
       "      <td>9</td>\n",
       "      <td>2023-08-21</td>\n",
       "      <td>1</td>\n",
       "      <td>0</td>\n",
       "    </tr>\n",
       "    <tr>\n",
       "      <th>1872</th>\n",
       "      <td>Kansas City Royals</td>\n",
       "      <td>4</td>\n",
       "      <td>Oakland Athletics</td>\n",
       "      <td>6</td>\n",
       "      <td>2023-08-21</td>\n",
       "      <td>1</td>\n",
       "      <td>0</td>\n",
       "    </tr>\n",
       "    <tr>\n",
       "      <th>1873</th>\n",
       "      <td>San Francisco Giants</td>\n",
       "      <td>4</td>\n",
       "      <td>Philadelphia Phillies</td>\n",
       "      <td>10</td>\n",
       "      <td>2023-08-21</td>\n",
       "      <td>1</td>\n",
       "      <td>0</td>\n",
       "    </tr>\n",
       "    <tr>\n",
       "      <th>1874</th>\n",
       "      <td>St. Louis Cardinals</td>\n",
       "      <td>1</td>\n",
       "      <td>Pittsburgh Pirates</td>\n",
       "      <td>11</td>\n",
       "      <td>2023-08-21</td>\n",
       "      <td>1</td>\n",
       "      <td>0</td>\n",
       "    </tr>\n",
       "    <tr>\n",
       "      <th>1875</th>\n",
       "      <td>Miami Marlins</td>\n",
       "      <td>2</td>\n",
       "      <td>San Diego Padres</td>\n",
       "      <td>6</td>\n",
       "      <td>2023-08-21</td>\n",
       "      <td>1</td>\n",
       "      <td>0</td>\n",
       "    </tr>\n",
       "  </tbody>\n",
       "</table>\n",
       "</div>"
      ],
      "text/plain": [
       "                 Away_Team  Away_Score              Home_Team  Home_Score  \\\n",
       "1871        Boston Red Sox           4         Houston Astros           9   \n",
       "1872    Kansas City Royals           4      Oakland Athletics           6   \n",
       "1873  San Francisco Giants           4  Philadelphia Phillies          10   \n",
       "1874   St. Louis Cardinals           1     Pittsburgh Pirates          11   \n",
       "1875         Miami Marlins           2       San Diego Padres           6   \n",
       "\n",
       "           Date  Home_Win  Away_Win  \n",
       "1871 2023-08-21         1         0  \n",
       "1872 2023-08-21         1         0  \n",
       "1873 2023-08-21         1         0  \n",
       "1874 2023-08-21         1         0  \n",
       "1875 2023-08-21         1         0  "
      ]
     },
     "execution_count": 58,
     "metadata": {},
     "output_type": "execute_result"
    }
   ],
   "source": [
    "scores_df.tail()"
   ]
  },
  {
   "cell_type": "code",
   "execution_count": 59,
   "id": "5010dbb8",
   "metadata": {},
   "outputs": [],
   "source": [
    "teams_list = scores_df['Away_Team'].unique()"
   ]
  },
  {
   "cell_type": "code",
   "execution_count": 60,
   "id": "98284d05",
   "metadata": {},
   "outputs": [],
   "source": [
    "teams_list = [\n",
    "    'Arizona Diamondbacks',\n",
    "    \"Arizona D'Backs\",\n",
    "    'Atlanta Braves',\n",
    "    'Baltimore Orioles',\n",
    "    'Boston Red Sox',\n",
    "    'Chicago White Sox',\n",
    "    'Chicago Cubs',\n",
    "    'Cincinnati Reds',\n",
    "    'Cleveland Guardians',\n",
    "    'Colorado Rockies',\n",
    "    'Detroit Tigers',\n",
    "    'Houston Astros',\n",
    "    'Kansas City Royals',\n",
    "    'Los Angeles Angels',\n",
    "    'Los Angeles Dodgers',\n",
    "    'Miami Marlins',\n",
    "    'Milwaukee Brewers',\n",
    "    'Minnesota Twins',\n",
    "    'New York Yankees',\n",
    "    'New York Mets',\n",
    "    'Oakland Athletics',\n",
    "    'Philadelphia Phillies',\n",
    "    'Pittsburgh Pirates',\n",
    "    'San Diego Padres',\n",
    "    'San Francisco Giants',\n",
    "    'Seattle Mariners',\n",
    "    'St. Louis Cardinals',\n",
    "    'Tampa Bay Rays',\n",
    "    'Texas Rangers',\n",
    "    'Toronto Blue Jays',\n",
    "    'Washington Nationals'\n",
    "]"
   ]
  },
  {
   "cell_type": "markdown",
   "id": "40b18223",
   "metadata": {},
   "source": [
    "# 3-letter team codes\n",
    "This is where we convert the full team name to a 3-letter team code. Diamondbacks is sometimes referred to as 'D'Backs' so we need two entries for that team."
   ]
  },
  {
   "cell_type": "code",
   "execution_count": 61,
   "id": "413b09f9",
   "metadata": {},
   "outputs": [],
   "source": [
    "team_dict = {key: value for key, value in zip(teams_list, team_codes)}"
   ]
  },
  {
   "cell_type": "code",
   "execution_count": 62,
   "id": "3fb64903",
   "metadata": {},
   "outputs": [
    {
     "data": {
      "text/plain": [
       "{'Arizona Diamondbacks': 'ARI',\n",
       " \"Arizona D'Backs\": 'ARI',\n",
       " 'Atlanta Braves': 'ATL',\n",
       " 'Baltimore Orioles': 'BAL',\n",
       " 'Boston Red Sox': 'BOS',\n",
       " 'Chicago White Sox': 'CHW',\n",
       " 'Chicago Cubs': 'CHC',\n",
       " 'Cincinnati Reds': 'CIN',\n",
       " 'Cleveland Guardians': 'CLE',\n",
       " 'Colorado Rockies': 'COL',\n",
       " 'Detroit Tigers': 'DET',\n",
       " 'Houston Astros': 'HOU',\n",
       " 'Kansas City Royals': 'KCR',\n",
       " 'Los Angeles Angels': 'LAA',\n",
       " 'Los Angeles Dodgers': 'LAD',\n",
       " 'Miami Marlins': 'MIA',\n",
       " 'Milwaukee Brewers': 'MIL',\n",
       " 'Minnesota Twins': 'MIN',\n",
       " 'New York Yankees': 'NYY',\n",
       " 'New York Mets': 'NYM',\n",
       " 'Oakland Athletics': 'OAK',\n",
       " 'Philadelphia Phillies': 'PHI',\n",
       " 'Pittsburgh Pirates': 'PIT',\n",
       " 'San Diego Padres': 'SDP',\n",
       " 'San Francisco Giants': 'SFG',\n",
       " 'Seattle Mariners': 'SEA',\n",
       " 'St. Louis Cardinals': 'STL',\n",
       " 'Tampa Bay Rays': 'TBR',\n",
       " 'Texas Rangers': 'TEX',\n",
       " 'Toronto Blue Jays': 'TOR',\n",
       " 'Washington Nationals': 'WSN'}"
      ]
     },
     "execution_count": 62,
     "metadata": {},
     "output_type": "execute_result"
    }
   ],
   "source": [
    "team_dict"
   ]
  },
  {
   "cell_type": "code",
   "execution_count": 63,
   "id": "6df956d7",
   "metadata": {},
   "outputs": [],
   "source": [
    "scores_df['Home_Team'] = scores_df['Home_Team'].replace(team_dict)"
   ]
  },
  {
   "cell_type": "code",
   "execution_count": 64,
   "id": "3e9e12f8",
   "metadata": {},
   "outputs": [],
   "source": [
    "scores_df['Away_Team'] = scores_df['Away_Team'].replace(team_dict)"
   ]
  },
  {
   "cell_type": "code",
   "execution_count": 65,
   "id": "c291a489",
   "metadata": {},
   "outputs": [],
   "source": [
    "filepath = r'C:\\Users\\Owner\\Sports Betting\\MLB_Game_Outcome\\2023_Game_Scores.csv'\n",
    "scores_df.to_csv(filepath)"
   ]
  },
  {
   "cell_type": "markdown",
   "id": "b6fda49b",
   "metadata": {},
   "source": [
    "# All game scores stored\n",
    "We've just stored all of the season's game scores, including yesterday's, in a CSV. We need that to derive the win variables for our model data. Now we're going to slice yesterday's scores so that we can fill in the results and track our model's accuracy.<br>\n",
    "\n",
    "If we didn't record bets and there's no need to update the model performance results, we created a custom exception so that the notebook stops here."
   ]
  },
  {
   "cell_type": "code",
   "execution_count": 66,
   "id": "e69599c5",
   "metadata": {},
   "outputs": [],
   "source": [
    "class NotebookStopException(Exception):\n",
    "    pass"
   ]
  },
  {
   "cell_type": "code",
   "execution_count": 67,
   "id": "8a5deb23",
   "metadata": {},
   "outputs": [
    {
     "name": "stdout",
     "output_type": "stream",
     "text": [
      "Did the model make predictions on yesterday's games? N\n"
     ]
    }
   ],
   "source": [
    "pred_yesterday = input(\"Did the model make predictions on yesterday's games? \").upper()"
   ]
  },
  {
   "cell_type": "code",
   "execution_count": 68,
   "id": "e7e9ad6c",
   "metadata": {},
   "outputs": [
    {
     "name": "stdout",
     "output_type": "stream",
     "text": [
      "No predictions made yesterday. Stopping notebook.\n"
     ]
    },
    {
     "ename": "NotebookStopException",
     "evalue": "",
     "output_type": "error",
     "traceback": [
      "\u001b[1;31m---------------------------------------------------------------------------\u001b[0m",
      "\u001b[1;31mNotebookStopException\u001b[0m                     Traceback (most recent call last)",
      "\u001b[1;32m<ipython-input-68-4a86d780a462>\u001b[0m in \u001b[0;36m<module>\u001b[1;34m\u001b[0m\n\u001b[0;32m      1\u001b[0m \u001b[1;32mif\u001b[0m \u001b[1;32mnot\u001b[0m \u001b[0mpred_yesterday\u001b[0m \u001b[1;33m==\u001b[0m \u001b[1;34m'Y'\u001b[0m\u001b[1;33m:\u001b[0m\u001b[1;33m\u001b[0m\u001b[1;33m\u001b[0m\u001b[0m\n\u001b[0;32m      2\u001b[0m     \u001b[0mprint\u001b[0m\u001b[1;33m(\u001b[0m\u001b[1;34m\"No predictions made yesterday. Stopping notebook.\"\u001b[0m\u001b[1;33m)\u001b[0m\u001b[1;33m\u001b[0m\u001b[1;33m\u001b[0m\u001b[0m\n\u001b[1;32m----> 3\u001b[1;33m     \u001b[1;32mraise\u001b[0m \u001b[0mNotebookStopException\u001b[0m\u001b[1;33m(\u001b[0m\u001b[1;33m)\u001b[0m\u001b[1;33m\u001b[0m\u001b[1;33m\u001b[0m\u001b[0m\n\u001b[0m",
      "\u001b[1;31mNotebookStopException\u001b[0m: "
     ]
    }
   ],
   "source": [
    "if not pred_yesterday == 'Y':\n",
    "    print(\"No predictions made yesterday. Stopping notebook.\")\n",
    "    raise NotebookStopException()"
   ]
  },
  {
   "cell_type": "code",
   "execution_count": null,
   "id": "b0b23642",
   "metadata": {},
   "outputs": [],
   "source": [
    "scores_yesterday = scores_df[scores_df['Date'] == yesterday_str]"
   ]
  },
  {
   "cell_type": "code",
   "execution_count": null,
   "id": "2119da98",
   "metadata": {},
   "outputs": [],
   "source": [
    "scores_yesterday"
   ]
  },
  {
   "cell_type": "markdown",
   "id": "ef478d0d",
   "metadata": {},
   "source": [
    "# What about doubleheaders?\n",
    "As we'll see in the Live_Data_Wrangling notebook, we scrape RotoGrinders to identify our starting pitchers each day. Most of the time when we have doubleheaders, we'll only get data on one of the games from RotoGrinders, as that's a daily fantasy sports site and most of the time only one game can be played in DFS when there's a doubleheader. So we'll include the names of the starting pitchers in the index, and when there's a doubleheader we'll just have to look up which of the games our model predicted based on the starting pitchers.<br>\n",
    "\n",
    "This code block checks for doubleheaders in yesterday's scores. If there are doubleheaders, we'll get a prompt asking us which row(s) to drop."
   ]
  },
  {
   "cell_type": "code",
   "execution_count": null,
   "id": "c8415691",
   "metadata": {},
   "outputs": [],
   "source": [
    "if scores_yesterday['Away_Team'].value_counts()[0] > 1:\n",
    "    print(\"There was at least one doubleheader yesterday.\")\n",
    "    num_dh = int(input(\"How many doubleheaders were played yesterday?\"))\n",
    "    scores_yesterday_copy = scores_yesterday.copy()\n",
    "    for i in range(num_dh):\n",
    "        idx_to_drop = int(input(\"Which index should be dropped from the scores_yesterday dataframe?\"))\n",
    "        scores_yesterday_copy.drop(idx_to_drop, inplace = True)\n",
    "        scores_yesterday_copy.reset_index(drop = True, inplace = True)\n",
    "        print(scores_yesterday_copy)\n",
    "    scores_yesterday = scores_yesterday_copy"
   ]
  },
  {
   "cell_type": "code",
   "execution_count": null,
   "id": "1dfaaf84",
   "metadata": {},
   "outputs": [],
   "source": [
    "scores_yesterday = scores_yesterday[['Away_Team', 'Home_Team', 'Date', 'Home_Win']]"
   ]
  },
  {
   "cell_type": "code",
   "execution_count": null,
   "id": "f073bf5c",
   "metadata": {},
   "outputs": [],
   "source": [
    "yesterday_df.info()"
   ]
  },
  {
   "cell_type": "code",
   "execution_count": null,
   "id": "02f30dbb",
   "metadata": {},
   "outputs": [],
   "source": [
    "yesterday_df = pd.merge(yesterday_df, scores_yesterday, on = ['Away_Team', 'Home_Team', 'Date'], how = 'left')"
   ]
  },
  {
   "cell_type": "code",
   "execution_count": null,
   "id": "496bc830",
   "metadata": {},
   "outputs": [],
   "source": [
    "yesterday_df['Result'] = np.where(yesterday_df['Pred'] == yesterday_df['Home_Win'], 1, 0)"
   ]
  },
  {
   "cell_type": "code",
   "execution_count": null,
   "id": "543c0151",
   "metadata": {},
   "outputs": [],
   "source": [
    "yesterday_df = yesterday_df.rename(columns = {'Result' : 'Model_Acc'})"
   ]
  },
  {
   "cell_type": "code",
   "execution_count": null,
   "id": "e0317de5",
   "metadata": {},
   "outputs": [],
   "source": [
    "yesterday_df"
   ]
  },
  {
   "cell_type": "markdown",
   "id": "d987d1b8",
   "metadata": {},
   "source": [
    "# Re-ordering columns\n",
    "Now that yesterday_df is filled, we'll re-order the columns, read in the CSV with all the previous model and betting results, concatenate and then re-store in the CSV."
   ]
  },
  {
   "cell_type": "code",
   "execution_count": null,
   "id": "e811bf7d",
   "metadata": {},
   "outputs": [],
   "source": [
    "new_order = ['Date', 'Away_Team', 'Home_Team', 'Away_Prob', 'Home_Prob', 'Away_ML', 'Home_ML', 'A_Amt_Bet', 'H_Amt_Bet', 'Money_Won', 'Profit', 'Pred', 'Home_Win', 'Model_Acc']"
   ]
  },
  {
   "cell_type": "code",
   "execution_count": null,
   "id": "a456a7ed",
   "metadata": {},
   "outputs": [],
   "source": [
    "yesterday_df = yesterday_df[new_order]"
   ]
  },
  {
   "cell_type": "code",
   "execution_count": null,
   "id": "f68d9e37",
   "metadata": {},
   "outputs": [],
   "source": [
    "yesterday_df"
   ]
  },
  {
   "cell_type": "code",
   "execution_count": null,
   "id": "e16444f2",
   "metadata": {},
   "outputs": [],
   "source": [
    "scoresheet = pd.read_csv('Predictions_Results.csv')"
   ]
  },
  {
   "cell_type": "code",
   "execution_count": null,
   "id": "f11fe92d",
   "metadata": {},
   "outputs": [],
   "source": [
    "scoresheet = clean_unnamed(scoresheet)"
   ]
  },
  {
   "cell_type": "code",
   "execution_count": null,
   "id": "c23d3488",
   "metadata": {},
   "outputs": [],
   "source": [
    "scoresheet = pd.concat([scoresheet, yesterday_df])"
   ]
  },
  {
   "cell_type": "code",
   "execution_count": null,
   "id": "6cebc909",
   "metadata": {},
   "outputs": [],
   "source": [
    "scoresheet.info()"
   ]
  },
  {
   "cell_type": "code",
   "execution_count": null,
   "id": "d3d41fe4",
   "metadata": {},
   "outputs": [],
   "source": [
    "if scoresheet['Home_Win'].isna().any():\n",
    "    scoresheet.dropna(subset = ['Home_Win'], inplace = True)"
   ]
  },
  {
   "cell_type": "code",
   "execution_count": null,
   "id": "721702cf",
   "metadata": {},
   "outputs": [],
   "source": [
    "filepath = r'C:\\Users\\Owner\\Sports Betting\\MLB_Game_Outcome\\Predictions_Results.csv'\n",
    "scoresheet.to_csv(filepath)"
   ]
  },
  {
   "cell_type": "code",
   "execution_count": null,
   "id": "a4fc41ac",
   "metadata": {},
   "outputs": [],
   "source": [
    "total_profit = np.round(scoresheet['Profit'].sum(), 2)\n",
    "games_pred = len(scoresheet)\n",
    "acc = scoresheet['Model_Acc'].sum()\n",
    "pct_profit = np.round(total_profit/(scoresheet['A_Amt_Bet'].sum() + scoresheet['H_Amt_Bet'].sum()), 2)\n",
    "live_accuracy = np.round(acc/games_pred, 3)"
   ]
  },
  {
   "cell_type": "code",
   "execution_count": null,
   "id": "60c9075c",
   "metadata": {},
   "outputs": [],
   "source": [
    "print(f\"You have bet a total of ${scoresheet['A_Amt_Bet'].sum() + scoresheet['H_Amt_Bet'].sum()} using this model\")\n",
    "print(f\"You have won a total of ${scoresheet['Money_Won'].sum()} using this model\")\n",
    "print(f\"Your total profit is ${total_profit}\")\n",
    "print(f\"Your profit percentage is {np.round(pct_profit*100, 2)} percent\")\n",
    "print(f\"Your model has made {games_pred} predictions on live games.\")\n",
    "print(f\"Your model has made {acc} correct predictions on live games.\")\n",
    "print(f\"The model's accuracy on live games is {np.round(live_accuracy*100, 2)} percent\")"
   ]
  },
  {
   "cell_type": "markdown",
   "id": "7bb06441",
   "metadata": {},
   "source": [
    "Just to try to keep the folder nice and tidy, we don't need to keep each individual day's Prediction_Results csv."
   ]
  },
  {
   "cell_type": "code",
   "execution_count": null,
   "id": "683a0a5c",
   "metadata": {},
   "outputs": [],
   "source": [
    "import os\n",
    "\n",
    "csv_file_path = 'Predictions_Results_' + yesterday_str + '.csv'\n",
    "\n",
    "try:\n",
    "    os.remove(csv_file_path)\n",
    "    print(f\"CSV file '{csv_file_path}' deleted successfully.\")\n",
    "except FileNotFoundError:\n",
    "    print(f\"CSV file '{csv_file_path}' not found.\")\n",
    "except Exception as e:\n",
    "    print(f\"An error occurred: {e}\")"
   ]
  },
  {
   "cell_type": "code",
   "execution_count": null,
   "id": "134b9e06",
   "metadata": {},
   "outputs": [],
   "source": []
  }
 ],
 "metadata": {
  "kernelspec": {
   "display_name": "Python 3",
   "language": "python",
   "name": "python3"
  },
  "language_info": {
   "codemirror_mode": {
    "name": "ipython",
    "version": 3
   },
   "file_extension": ".py",
   "mimetype": "text/x-python",
   "name": "python",
   "nbconvert_exporter": "python",
   "pygments_lexer": "ipython3",
   "version": "3.8.5"
  }
 },
 "nbformat": 4,
 "nbformat_minor": 5
}
